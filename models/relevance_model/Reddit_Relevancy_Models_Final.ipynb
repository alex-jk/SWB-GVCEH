{
  "nbformat": 4,
  "nbformat_minor": 0,
  "metadata": {
    "colab": {
      "provenance": [],
      "authorship_tag": "ABX9TyN8WTrKGFsxiladfv5cM0vN",
      "include_colab_link": true
    },
    "kernelspec": {
      "name": "python3",
      "display_name": "Python 3"
    },
    "language_info": {
      "name": "python"
    },
    "widgets": {
      "application/vnd.jupyter.widget-state+json": {
        "2cab9b69f1a7437dac5eb793bfe52234": {
          "model_module": "@jupyter-widgets/controls",
          "model_name": "HBoxModel",
          "model_module_version": "1.5.0",
          "state": {
            "_dom_classes": [],
            "_model_module": "@jupyter-widgets/controls",
            "_model_module_version": "1.5.0",
            "_model_name": "HBoxModel",
            "_view_count": null,
            "_view_module": "@jupyter-widgets/controls",
            "_view_module_version": "1.5.0",
            "_view_name": "HBoxView",
            "box_style": "",
            "children": [
              "IPY_MODEL_77103ba13b2d469db56e9c032f0ab7b6",
              "IPY_MODEL_398b5f61cc2445c6be5ba6eb3e62306c",
              "IPY_MODEL_8d0f99dda46d4950ae8ddc4b6f8ba425"
            ],
            "layout": "IPY_MODEL_bee687c2fed3447487a40eb8f2ec473f"
          }
        },
        "77103ba13b2d469db56e9c032f0ab7b6": {
          "model_module": "@jupyter-widgets/controls",
          "model_name": "HTMLModel",
          "model_module_version": "1.5.0",
          "state": {
            "_dom_classes": [],
            "_model_module": "@jupyter-widgets/controls",
            "_model_module_version": "1.5.0",
            "_model_name": "HTMLModel",
            "_view_count": null,
            "_view_module": "@jupyter-widgets/controls",
            "_view_module_version": "1.5.0",
            "_view_name": "HTMLView",
            "description": "",
            "description_tooltip": null,
            "layout": "IPY_MODEL_5d4c081b877548d6a2c75b13e35a6807",
            "placeholder": "​",
            "style": "IPY_MODEL_af8d0ce00b2846a69bd708200ff8f50b",
            "value": "100%"
          }
        },
        "398b5f61cc2445c6be5ba6eb3e62306c": {
          "model_module": "@jupyter-widgets/controls",
          "model_name": "FloatProgressModel",
          "model_module_version": "1.5.0",
          "state": {
            "_dom_classes": [],
            "_model_module": "@jupyter-widgets/controls",
            "_model_module_version": "1.5.0",
            "_model_name": "FloatProgressModel",
            "_view_count": null,
            "_view_module": "@jupyter-widgets/controls",
            "_view_module_version": "1.5.0",
            "_view_name": "ProgressView",
            "bar_style": "success",
            "description": "",
            "description_tooltip": null,
            "layout": "IPY_MODEL_23697c7d931641538a69f8b9b67faca4",
            "max": 5435,
            "min": 0,
            "orientation": "horizontal",
            "style": "IPY_MODEL_a4bcd6b0502142a3b88470c480f3677f",
            "value": 5435
          }
        },
        "8d0f99dda46d4950ae8ddc4b6f8ba425": {
          "model_module": "@jupyter-widgets/controls",
          "model_name": "HTMLModel",
          "model_module_version": "1.5.0",
          "state": {
            "_dom_classes": [],
            "_model_module": "@jupyter-widgets/controls",
            "_model_module_version": "1.5.0",
            "_model_name": "HTMLModel",
            "_view_count": null,
            "_view_module": "@jupyter-widgets/controls",
            "_view_module_version": "1.5.0",
            "_view_name": "HTMLView",
            "description": "",
            "description_tooltip": null,
            "layout": "IPY_MODEL_3aec1f217f2b4892bd0ac610ca8f153f",
            "placeholder": "​",
            "style": "IPY_MODEL_1c056dc13ac6449ba54d142c6d5dcfb8",
            "value": " 5435/5435 [29:33&lt;00:00,  2.41it/s]"
          }
        },
        "bee687c2fed3447487a40eb8f2ec473f": {
          "model_module": "@jupyter-widgets/base",
          "model_name": "LayoutModel",
          "model_module_version": "1.2.0",
          "state": {
            "_model_module": "@jupyter-widgets/base",
            "_model_module_version": "1.2.0",
            "_model_name": "LayoutModel",
            "_view_count": null,
            "_view_module": "@jupyter-widgets/base",
            "_view_module_version": "1.2.0",
            "_view_name": "LayoutView",
            "align_content": null,
            "align_items": null,
            "align_self": null,
            "border": null,
            "bottom": null,
            "display": null,
            "flex": null,
            "flex_flow": null,
            "grid_area": null,
            "grid_auto_columns": null,
            "grid_auto_flow": null,
            "grid_auto_rows": null,
            "grid_column": null,
            "grid_gap": null,
            "grid_row": null,
            "grid_template_areas": null,
            "grid_template_columns": null,
            "grid_template_rows": null,
            "height": null,
            "justify_content": null,
            "justify_items": null,
            "left": null,
            "margin": null,
            "max_height": null,
            "max_width": null,
            "min_height": null,
            "min_width": null,
            "object_fit": null,
            "object_position": null,
            "order": null,
            "overflow": null,
            "overflow_x": null,
            "overflow_y": null,
            "padding": null,
            "right": null,
            "top": null,
            "visibility": null,
            "width": null
          }
        },
        "5d4c081b877548d6a2c75b13e35a6807": {
          "model_module": "@jupyter-widgets/base",
          "model_name": "LayoutModel",
          "model_module_version": "1.2.0",
          "state": {
            "_model_module": "@jupyter-widgets/base",
            "_model_module_version": "1.2.0",
            "_model_name": "LayoutModel",
            "_view_count": null,
            "_view_module": "@jupyter-widgets/base",
            "_view_module_version": "1.2.0",
            "_view_name": "LayoutView",
            "align_content": null,
            "align_items": null,
            "align_self": null,
            "border": null,
            "bottom": null,
            "display": null,
            "flex": null,
            "flex_flow": null,
            "grid_area": null,
            "grid_auto_columns": null,
            "grid_auto_flow": null,
            "grid_auto_rows": null,
            "grid_column": null,
            "grid_gap": null,
            "grid_row": null,
            "grid_template_areas": null,
            "grid_template_columns": null,
            "grid_template_rows": null,
            "height": null,
            "justify_content": null,
            "justify_items": null,
            "left": null,
            "margin": null,
            "max_height": null,
            "max_width": null,
            "min_height": null,
            "min_width": null,
            "object_fit": null,
            "object_position": null,
            "order": null,
            "overflow": null,
            "overflow_x": null,
            "overflow_y": null,
            "padding": null,
            "right": null,
            "top": null,
            "visibility": null,
            "width": null
          }
        },
        "af8d0ce00b2846a69bd708200ff8f50b": {
          "model_module": "@jupyter-widgets/controls",
          "model_name": "DescriptionStyleModel",
          "model_module_version": "1.5.0",
          "state": {
            "_model_module": "@jupyter-widgets/controls",
            "_model_module_version": "1.5.0",
            "_model_name": "DescriptionStyleModel",
            "_view_count": null,
            "_view_module": "@jupyter-widgets/base",
            "_view_module_version": "1.2.0",
            "_view_name": "StyleView",
            "description_width": ""
          }
        },
        "23697c7d931641538a69f8b9b67faca4": {
          "model_module": "@jupyter-widgets/base",
          "model_name": "LayoutModel",
          "model_module_version": "1.2.0",
          "state": {
            "_model_module": "@jupyter-widgets/base",
            "_model_module_version": "1.2.0",
            "_model_name": "LayoutModel",
            "_view_count": null,
            "_view_module": "@jupyter-widgets/base",
            "_view_module_version": "1.2.0",
            "_view_name": "LayoutView",
            "align_content": null,
            "align_items": null,
            "align_self": null,
            "border": null,
            "bottom": null,
            "display": null,
            "flex": null,
            "flex_flow": null,
            "grid_area": null,
            "grid_auto_columns": null,
            "grid_auto_flow": null,
            "grid_auto_rows": null,
            "grid_column": null,
            "grid_gap": null,
            "grid_row": null,
            "grid_template_areas": null,
            "grid_template_columns": null,
            "grid_template_rows": null,
            "height": null,
            "justify_content": null,
            "justify_items": null,
            "left": null,
            "margin": null,
            "max_height": null,
            "max_width": null,
            "min_height": null,
            "min_width": null,
            "object_fit": null,
            "object_position": null,
            "order": null,
            "overflow": null,
            "overflow_x": null,
            "overflow_y": null,
            "padding": null,
            "right": null,
            "top": null,
            "visibility": null,
            "width": null
          }
        },
        "a4bcd6b0502142a3b88470c480f3677f": {
          "model_module": "@jupyter-widgets/controls",
          "model_name": "ProgressStyleModel",
          "model_module_version": "1.5.0",
          "state": {
            "_model_module": "@jupyter-widgets/controls",
            "_model_module_version": "1.5.0",
            "_model_name": "ProgressStyleModel",
            "_view_count": null,
            "_view_module": "@jupyter-widgets/base",
            "_view_module_version": "1.2.0",
            "_view_name": "StyleView",
            "bar_color": null,
            "description_width": ""
          }
        },
        "3aec1f217f2b4892bd0ac610ca8f153f": {
          "model_module": "@jupyter-widgets/base",
          "model_name": "LayoutModel",
          "model_module_version": "1.2.0",
          "state": {
            "_model_module": "@jupyter-widgets/base",
            "_model_module_version": "1.2.0",
            "_model_name": "LayoutModel",
            "_view_count": null,
            "_view_module": "@jupyter-widgets/base",
            "_view_module_version": "1.2.0",
            "_view_name": "LayoutView",
            "align_content": null,
            "align_items": null,
            "align_self": null,
            "border": null,
            "bottom": null,
            "display": null,
            "flex": null,
            "flex_flow": null,
            "grid_area": null,
            "grid_auto_columns": null,
            "grid_auto_flow": null,
            "grid_auto_rows": null,
            "grid_column": null,
            "grid_gap": null,
            "grid_row": null,
            "grid_template_areas": null,
            "grid_template_columns": null,
            "grid_template_rows": null,
            "height": null,
            "justify_content": null,
            "justify_items": null,
            "left": null,
            "margin": null,
            "max_height": null,
            "max_width": null,
            "min_height": null,
            "min_width": null,
            "object_fit": null,
            "object_position": null,
            "order": null,
            "overflow": null,
            "overflow_x": null,
            "overflow_y": null,
            "padding": null,
            "right": null,
            "top": null,
            "visibility": null,
            "width": null
          }
        },
        "1c056dc13ac6449ba54d142c6d5dcfb8": {
          "model_module": "@jupyter-widgets/controls",
          "model_name": "DescriptionStyleModel",
          "model_module_version": "1.5.0",
          "state": {
            "_model_module": "@jupyter-widgets/controls",
            "_model_module_version": "1.5.0",
            "_model_name": "DescriptionStyleModel",
            "_view_count": null,
            "_view_module": "@jupyter-widgets/base",
            "_view_module_version": "1.2.0",
            "_view_name": "StyleView",
            "description_width": ""
          }
        },
        "718e87d2bee9438fbe14091cf47ee646": {
          "model_module": "@jupyter-widgets/controls",
          "model_name": "HBoxModel",
          "model_module_version": "1.5.0",
          "state": {
            "_dom_classes": [],
            "_model_module": "@jupyter-widgets/controls",
            "_model_module_version": "1.5.0",
            "_model_name": "HBoxModel",
            "_view_count": null,
            "_view_module": "@jupyter-widgets/controls",
            "_view_module_version": "1.5.0",
            "_view_name": "HBoxView",
            "box_style": "",
            "children": [
              "IPY_MODEL_04f90da800d648cda2444707d703878b",
              "IPY_MODEL_29f547ad248a4125b06c6c842fee1dcf",
              "IPY_MODEL_3b9963937d7f4ecfadae89fc9a8dcf3c"
            ],
            "layout": "IPY_MODEL_068e60fd57cc46de8fdc6ee949843767"
          }
        },
        "04f90da800d648cda2444707d703878b": {
          "model_module": "@jupyter-widgets/controls",
          "model_name": "HTMLModel",
          "model_module_version": "1.5.0",
          "state": {
            "_dom_classes": [],
            "_model_module": "@jupyter-widgets/controls",
            "_model_module_version": "1.5.0",
            "_model_name": "HTMLModel",
            "_view_count": null,
            "_view_module": "@jupyter-widgets/controls",
            "_view_module_version": "1.5.0",
            "_view_name": "HTMLView",
            "description": "",
            "description_tooltip": null,
            "layout": "IPY_MODEL_6068bcff0c9e4d4c85fc891136f179c0",
            "placeholder": "​",
            "style": "IPY_MODEL_a77cf422125549a6b34930e774673f92",
            "value": "Batches: 100%"
          }
        },
        "29f547ad248a4125b06c6c842fee1dcf": {
          "model_module": "@jupyter-widgets/controls",
          "model_name": "FloatProgressModel",
          "model_module_version": "1.5.0",
          "state": {
            "_dom_classes": [],
            "_model_module": "@jupyter-widgets/controls",
            "_model_module_version": "1.5.0",
            "_model_name": "FloatProgressModel",
            "_view_count": null,
            "_view_module": "@jupyter-widgets/controls",
            "_view_module_version": "1.5.0",
            "_view_name": "ProgressView",
            "bar_style": "success",
            "description": "",
            "description_tooltip": null,
            "layout": "IPY_MODEL_23bf5104f5cd4144b8a5929c4da8a23b",
            "max": 170,
            "min": 0,
            "orientation": "horizontal",
            "style": "IPY_MODEL_2c3af66200234c21b7a9416afc15ea3c",
            "value": 170
          }
        },
        "3b9963937d7f4ecfadae89fc9a8dcf3c": {
          "model_module": "@jupyter-widgets/controls",
          "model_name": "HTMLModel",
          "model_module_version": "1.5.0",
          "state": {
            "_dom_classes": [],
            "_model_module": "@jupyter-widgets/controls",
            "_model_module_version": "1.5.0",
            "_model_name": "HTMLModel",
            "_view_count": null,
            "_view_module": "@jupyter-widgets/controls",
            "_view_module_version": "1.5.0",
            "_view_name": "HTMLView",
            "description": "",
            "description_tooltip": null,
            "layout": "IPY_MODEL_f995c4801c524615bba7199ba6ff375f",
            "placeholder": "​",
            "style": "IPY_MODEL_084f37a471214af0b3b7ed26f1f1173b",
            "value": " 170/170 [04:19&lt;00:00,  2.22it/s]"
          }
        },
        "068e60fd57cc46de8fdc6ee949843767": {
          "model_module": "@jupyter-widgets/base",
          "model_name": "LayoutModel",
          "model_module_version": "1.2.0",
          "state": {
            "_model_module": "@jupyter-widgets/base",
            "_model_module_version": "1.2.0",
            "_model_name": "LayoutModel",
            "_view_count": null,
            "_view_module": "@jupyter-widgets/base",
            "_view_module_version": "1.2.0",
            "_view_name": "LayoutView",
            "align_content": null,
            "align_items": null,
            "align_self": null,
            "border": null,
            "bottom": null,
            "display": null,
            "flex": null,
            "flex_flow": null,
            "grid_area": null,
            "grid_auto_columns": null,
            "grid_auto_flow": null,
            "grid_auto_rows": null,
            "grid_column": null,
            "grid_gap": null,
            "grid_row": null,
            "grid_template_areas": null,
            "grid_template_columns": null,
            "grid_template_rows": null,
            "height": null,
            "justify_content": null,
            "justify_items": null,
            "left": null,
            "margin": null,
            "max_height": null,
            "max_width": null,
            "min_height": null,
            "min_width": null,
            "object_fit": null,
            "object_position": null,
            "order": null,
            "overflow": null,
            "overflow_x": null,
            "overflow_y": null,
            "padding": null,
            "right": null,
            "top": null,
            "visibility": null,
            "width": null
          }
        },
        "6068bcff0c9e4d4c85fc891136f179c0": {
          "model_module": "@jupyter-widgets/base",
          "model_name": "LayoutModel",
          "model_module_version": "1.2.0",
          "state": {
            "_model_module": "@jupyter-widgets/base",
            "_model_module_version": "1.2.0",
            "_model_name": "LayoutModel",
            "_view_count": null,
            "_view_module": "@jupyter-widgets/base",
            "_view_module_version": "1.2.0",
            "_view_name": "LayoutView",
            "align_content": null,
            "align_items": null,
            "align_self": null,
            "border": null,
            "bottom": null,
            "display": null,
            "flex": null,
            "flex_flow": null,
            "grid_area": null,
            "grid_auto_columns": null,
            "grid_auto_flow": null,
            "grid_auto_rows": null,
            "grid_column": null,
            "grid_gap": null,
            "grid_row": null,
            "grid_template_areas": null,
            "grid_template_columns": null,
            "grid_template_rows": null,
            "height": null,
            "justify_content": null,
            "justify_items": null,
            "left": null,
            "margin": null,
            "max_height": null,
            "max_width": null,
            "min_height": null,
            "min_width": null,
            "object_fit": null,
            "object_position": null,
            "order": null,
            "overflow": null,
            "overflow_x": null,
            "overflow_y": null,
            "padding": null,
            "right": null,
            "top": null,
            "visibility": null,
            "width": null
          }
        },
        "a77cf422125549a6b34930e774673f92": {
          "model_module": "@jupyter-widgets/controls",
          "model_name": "DescriptionStyleModel",
          "model_module_version": "1.5.0",
          "state": {
            "_model_module": "@jupyter-widgets/controls",
            "_model_module_version": "1.5.0",
            "_model_name": "DescriptionStyleModel",
            "_view_count": null,
            "_view_module": "@jupyter-widgets/base",
            "_view_module_version": "1.2.0",
            "_view_name": "StyleView",
            "description_width": ""
          }
        },
        "23bf5104f5cd4144b8a5929c4da8a23b": {
          "model_module": "@jupyter-widgets/base",
          "model_name": "LayoutModel",
          "model_module_version": "1.2.0",
          "state": {
            "_model_module": "@jupyter-widgets/base",
            "_model_module_version": "1.2.0",
            "_model_name": "LayoutModel",
            "_view_count": null,
            "_view_module": "@jupyter-widgets/base",
            "_view_module_version": "1.2.0",
            "_view_name": "LayoutView",
            "align_content": null,
            "align_items": null,
            "align_self": null,
            "border": null,
            "bottom": null,
            "display": null,
            "flex": null,
            "flex_flow": null,
            "grid_area": null,
            "grid_auto_columns": null,
            "grid_auto_flow": null,
            "grid_auto_rows": null,
            "grid_column": null,
            "grid_gap": null,
            "grid_row": null,
            "grid_template_areas": null,
            "grid_template_columns": null,
            "grid_template_rows": null,
            "height": null,
            "justify_content": null,
            "justify_items": null,
            "left": null,
            "margin": null,
            "max_height": null,
            "max_width": null,
            "min_height": null,
            "min_width": null,
            "object_fit": null,
            "object_position": null,
            "order": null,
            "overflow": null,
            "overflow_x": null,
            "overflow_y": null,
            "padding": null,
            "right": null,
            "top": null,
            "visibility": null,
            "width": null
          }
        },
        "2c3af66200234c21b7a9416afc15ea3c": {
          "model_module": "@jupyter-widgets/controls",
          "model_name": "ProgressStyleModel",
          "model_module_version": "1.5.0",
          "state": {
            "_model_module": "@jupyter-widgets/controls",
            "_model_module_version": "1.5.0",
            "_model_name": "ProgressStyleModel",
            "_view_count": null,
            "_view_module": "@jupyter-widgets/base",
            "_view_module_version": "1.2.0",
            "_view_name": "StyleView",
            "bar_color": null,
            "description_width": ""
          }
        },
        "f995c4801c524615bba7199ba6ff375f": {
          "model_module": "@jupyter-widgets/base",
          "model_name": "LayoutModel",
          "model_module_version": "1.2.0",
          "state": {
            "_model_module": "@jupyter-widgets/base",
            "_model_module_version": "1.2.0",
            "_model_name": "LayoutModel",
            "_view_count": null,
            "_view_module": "@jupyter-widgets/base",
            "_view_module_version": "1.2.0",
            "_view_name": "LayoutView",
            "align_content": null,
            "align_items": null,
            "align_self": null,
            "border": null,
            "bottom": null,
            "display": null,
            "flex": null,
            "flex_flow": null,
            "grid_area": null,
            "grid_auto_columns": null,
            "grid_auto_flow": null,
            "grid_auto_rows": null,
            "grid_column": null,
            "grid_gap": null,
            "grid_row": null,
            "grid_template_areas": null,
            "grid_template_columns": null,
            "grid_template_rows": null,
            "height": null,
            "justify_content": null,
            "justify_items": null,
            "left": null,
            "margin": null,
            "max_height": null,
            "max_width": null,
            "min_height": null,
            "min_width": null,
            "object_fit": null,
            "object_position": null,
            "order": null,
            "overflow": null,
            "overflow_x": null,
            "overflow_y": null,
            "padding": null,
            "right": null,
            "top": null,
            "visibility": null,
            "width": null
          }
        },
        "084f37a471214af0b3b7ed26f1f1173b": {
          "model_module": "@jupyter-widgets/controls",
          "model_name": "DescriptionStyleModel",
          "model_module_version": "1.5.0",
          "state": {
            "_model_module": "@jupyter-widgets/controls",
            "_model_module_version": "1.5.0",
            "_model_name": "DescriptionStyleModel",
            "_view_count": null,
            "_view_module": "@jupyter-widgets/base",
            "_view_module_version": "1.2.0",
            "_view_name": "StyleView",
            "description_width": ""
          }
        },
        "c3c461dddfff4da0b96e33787d3c9c72": {
          "model_module": "@jupyter-widgets/controls",
          "model_name": "HBoxModel",
          "model_module_version": "1.5.0",
          "state": {
            "_dom_classes": [],
            "_model_module": "@jupyter-widgets/controls",
            "_model_module_version": "1.5.0",
            "_model_name": "HBoxModel",
            "_view_count": null,
            "_view_module": "@jupyter-widgets/controls",
            "_view_module_version": "1.5.0",
            "_view_name": "HBoxView",
            "box_style": "",
            "children": [
              "IPY_MODEL_36c4d758ef764ab0b60d3af06a0f6662",
              "IPY_MODEL_fdb1286f06a64093aa258f27b8e73912",
              "IPY_MODEL_c7b17703b8754981abf43aaeeaee495f"
            ],
            "layout": "IPY_MODEL_a17cbc12356343b4bffd8396e70b624a"
          }
        },
        "36c4d758ef764ab0b60d3af06a0f6662": {
          "model_module": "@jupyter-widgets/controls",
          "model_name": "HTMLModel",
          "model_module_version": "1.5.0",
          "state": {
            "_dom_classes": [],
            "_model_module": "@jupyter-widgets/controls",
            "_model_module_version": "1.5.0",
            "_model_name": "HTMLModel",
            "_view_count": null,
            "_view_module": "@jupyter-widgets/controls",
            "_view_module_version": "1.5.0",
            "_view_name": "HTMLView",
            "description": "",
            "description_tooltip": null,
            "layout": "IPY_MODEL_323d9256438d4b979998dc7b0def1d86",
            "placeholder": "​",
            "style": "IPY_MODEL_8a82bd07160046f19ce09ef7c2fc9987",
            "value": "100%"
          }
        },
        "fdb1286f06a64093aa258f27b8e73912": {
          "model_module": "@jupyter-widgets/controls",
          "model_name": "FloatProgressModel",
          "model_module_version": "1.5.0",
          "state": {
            "_dom_classes": [],
            "_model_module": "@jupyter-widgets/controls",
            "_model_module_version": "1.5.0",
            "_model_name": "FloatProgressModel",
            "_view_count": null,
            "_view_module": "@jupyter-widgets/controls",
            "_view_module_version": "1.5.0",
            "_view_name": "ProgressView",
            "bar_style": "success",
            "description": "",
            "description_tooltip": null,
            "layout": "IPY_MODEL_0985e5ef1b1a4754ac7371509ea308d8",
            "max": 11151,
            "min": 0,
            "orientation": "horizontal",
            "style": "IPY_MODEL_75941c5bd5754770865a7dbb2e7742e1",
            "value": 11151
          }
        },
        "c7b17703b8754981abf43aaeeaee495f": {
          "model_module": "@jupyter-widgets/controls",
          "model_name": "HTMLModel",
          "model_module_version": "1.5.0",
          "state": {
            "_dom_classes": [],
            "_model_module": "@jupyter-widgets/controls",
            "_model_module_version": "1.5.0",
            "_model_name": "HTMLModel",
            "_view_count": null,
            "_view_module": "@jupyter-widgets/controls",
            "_view_module_version": "1.5.0",
            "_view_name": "HTMLView",
            "description": "",
            "description_tooltip": null,
            "layout": "IPY_MODEL_dafaa0b6c3f847138354445c64c61fb7",
            "placeholder": "​",
            "style": "IPY_MODEL_7ac45ed0380e4285bcf593cbe6841be3",
            "value": " 11151/11151 [33:15&lt;00:00,  3.04it/s]"
          }
        },
        "a17cbc12356343b4bffd8396e70b624a": {
          "model_module": "@jupyter-widgets/base",
          "model_name": "LayoutModel",
          "model_module_version": "1.2.0",
          "state": {
            "_model_module": "@jupyter-widgets/base",
            "_model_module_version": "1.2.0",
            "_model_name": "LayoutModel",
            "_view_count": null,
            "_view_module": "@jupyter-widgets/base",
            "_view_module_version": "1.2.0",
            "_view_name": "LayoutView",
            "align_content": null,
            "align_items": null,
            "align_self": null,
            "border": null,
            "bottom": null,
            "display": null,
            "flex": null,
            "flex_flow": null,
            "grid_area": null,
            "grid_auto_columns": null,
            "grid_auto_flow": null,
            "grid_auto_rows": null,
            "grid_column": null,
            "grid_gap": null,
            "grid_row": null,
            "grid_template_areas": null,
            "grid_template_columns": null,
            "grid_template_rows": null,
            "height": null,
            "justify_content": null,
            "justify_items": null,
            "left": null,
            "margin": null,
            "max_height": null,
            "max_width": null,
            "min_height": null,
            "min_width": null,
            "object_fit": null,
            "object_position": null,
            "order": null,
            "overflow": null,
            "overflow_x": null,
            "overflow_y": null,
            "padding": null,
            "right": null,
            "top": null,
            "visibility": null,
            "width": null
          }
        },
        "323d9256438d4b979998dc7b0def1d86": {
          "model_module": "@jupyter-widgets/base",
          "model_name": "LayoutModel",
          "model_module_version": "1.2.0",
          "state": {
            "_model_module": "@jupyter-widgets/base",
            "_model_module_version": "1.2.0",
            "_model_name": "LayoutModel",
            "_view_count": null,
            "_view_module": "@jupyter-widgets/base",
            "_view_module_version": "1.2.0",
            "_view_name": "LayoutView",
            "align_content": null,
            "align_items": null,
            "align_self": null,
            "border": null,
            "bottom": null,
            "display": null,
            "flex": null,
            "flex_flow": null,
            "grid_area": null,
            "grid_auto_columns": null,
            "grid_auto_flow": null,
            "grid_auto_rows": null,
            "grid_column": null,
            "grid_gap": null,
            "grid_row": null,
            "grid_template_areas": null,
            "grid_template_columns": null,
            "grid_template_rows": null,
            "height": null,
            "justify_content": null,
            "justify_items": null,
            "left": null,
            "margin": null,
            "max_height": null,
            "max_width": null,
            "min_height": null,
            "min_width": null,
            "object_fit": null,
            "object_position": null,
            "order": null,
            "overflow": null,
            "overflow_x": null,
            "overflow_y": null,
            "padding": null,
            "right": null,
            "top": null,
            "visibility": null,
            "width": null
          }
        },
        "8a82bd07160046f19ce09ef7c2fc9987": {
          "model_module": "@jupyter-widgets/controls",
          "model_name": "DescriptionStyleModel",
          "model_module_version": "1.5.0",
          "state": {
            "_model_module": "@jupyter-widgets/controls",
            "_model_module_version": "1.5.0",
            "_model_name": "DescriptionStyleModel",
            "_view_count": null,
            "_view_module": "@jupyter-widgets/base",
            "_view_module_version": "1.2.0",
            "_view_name": "StyleView",
            "description_width": ""
          }
        },
        "0985e5ef1b1a4754ac7371509ea308d8": {
          "model_module": "@jupyter-widgets/base",
          "model_name": "LayoutModel",
          "model_module_version": "1.2.0",
          "state": {
            "_model_module": "@jupyter-widgets/base",
            "_model_module_version": "1.2.0",
            "_model_name": "LayoutModel",
            "_view_count": null,
            "_view_module": "@jupyter-widgets/base",
            "_view_module_version": "1.2.0",
            "_view_name": "LayoutView",
            "align_content": null,
            "align_items": null,
            "align_self": null,
            "border": null,
            "bottom": null,
            "display": null,
            "flex": null,
            "flex_flow": null,
            "grid_area": null,
            "grid_auto_columns": null,
            "grid_auto_flow": null,
            "grid_auto_rows": null,
            "grid_column": null,
            "grid_gap": null,
            "grid_row": null,
            "grid_template_areas": null,
            "grid_template_columns": null,
            "grid_template_rows": null,
            "height": null,
            "justify_content": null,
            "justify_items": null,
            "left": null,
            "margin": null,
            "max_height": null,
            "max_width": null,
            "min_height": null,
            "min_width": null,
            "object_fit": null,
            "object_position": null,
            "order": null,
            "overflow": null,
            "overflow_x": null,
            "overflow_y": null,
            "padding": null,
            "right": null,
            "top": null,
            "visibility": null,
            "width": null
          }
        },
        "75941c5bd5754770865a7dbb2e7742e1": {
          "model_module": "@jupyter-widgets/controls",
          "model_name": "ProgressStyleModel",
          "model_module_version": "1.5.0",
          "state": {
            "_model_module": "@jupyter-widgets/controls",
            "_model_module_version": "1.5.0",
            "_model_name": "ProgressStyleModel",
            "_view_count": null,
            "_view_module": "@jupyter-widgets/base",
            "_view_module_version": "1.2.0",
            "_view_name": "StyleView",
            "bar_color": null,
            "description_width": ""
          }
        },
        "dafaa0b6c3f847138354445c64c61fb7": {
          "model_module": "@jupyter-widgets/base",
          "model_name": "LayoutModel",
          "model_module_version": "1.2.0",
          "state": {
            "_model_module": "@jupyter-widgets/base",
            "_model_module_version": "1.2.0",
            "_model_name": "LayoutModel",
            "_view_count": null,
            "_view_module": "@jupyter-widgets/base",
            "_view_module_version": "1.2.0",
            "_view_name": "LayoutView",
            "align_content": null,
            "align_items": null,
            "align_self": null,
            "border": null,
            "bottom": null,
            "display": null,
            "flex": null,
            "flex_flow": null,
            "grid_area": null,
            "grid_auto_columns": null,
            "grid_auto_flow": null,
            "grid_auto_rows": null,
            "grid_column": null,
            "grid_gap": null,
            "grid_row": null,
            "grid_template_areas": null,
            "grid_template_columns": null,
            "grid_template_rows": null,
            "height": null,
            "justify_content": null,
            "justify_items": null,
            "left": null,
            "margin": null,
            "max_height": null,
            "max_width": null,
            "min_height": null,
            "min_width": null,
            "object_fit": null,
            "object_position": null,
            "order": null,
            "overflow": null,
            "overflow_x": null,
            "overflow_y": null,
            "padding": null,
            "right": null,
            "top": null,
            "visibility": null,
            "width": null
          }
        },
        "7ac45ed0380e4285bcf593cbe6841be3": {
          "model_module": "@jupyter-widgets/controls",
          "model_name": "DescriptionStyleModel",
          "model_module_version": "1.5.0",
          "state": {
            "_model_module": "@jupyter-widgets/controls",
            "_model_module_version": "1.5.0",
            "_model_name": "DescriptionStyleModel",
            "_view_count": null,
            "_view_module": "@jupyter-widgets/base",
            "_view_module_version": "1.2.0",
            "_view_name": "StyleView",
            "description_width": ""
          }
        }
      }
    }
  },
  "cells": [
    {
      "cell_type": "markdown",
      "metadata": {
        "id": "view-in-github",
        "colab_type": "text"
      },
      "source": [
        "<a href=\"https://colab.research.google.com/github/alex-jk/SWB-GVCEH/blob/main/models/relevance_model/Reddit_Relevancy_Models_Final.ipynb\" target=\"_parent\"><img src=\"https://colab.research.google.com/assets/colab-badge.svg\" alt=\"Open In Colab\"/></a>"
      ]
    },
    {
      "cell_type": "markdown",
      "source": [
        "##### Install and import necessary libraries"
      ],
      "metadata": {
        "id": "iym9EbbSCyNt"
      }
    },
    {
      "cell_type": "code",
      "execution_count": 1,
      "metadata": {
        "id": "mP3XCNlV0q7Q",
        "colab": {
          "base_uri": "https://localhost:8080/"
        },
        "outputId": "3d3cbb41-e3e2-4732-f0e0-2d9093ff04c2"
      },
      "outputs": [
        {
          "output_type": "stream",
          "name": "stdout",
          "text": [
            "Collecting setfit\n",
            "  Downloading setfit-1.0.3-py3-none-any.whl (75 kB)\n",
            "\u001b[2K     \u001b[90m━━━━━━━━━━━━━━━━━━━━━━━━━━━━━━━━━━━━━━━━\u001b[0m \u001b[32m75.9/75.9 kB\u001b[0m \u001b[31m986.1 kB/s\u001b[0m eta \u001b[36m0:00:00\u001b[0m\n",
            "\u001b[?25hCollecting datasets>=2.3.0 (from setfit)\n",
            "  Downloading datasets-2.18.0-py3-none-any.whl (510 kB)\n",
            "\u001b[2K     \u001b[90m━━━━━━━━━━━━━━━━━━━━━━━━━━━━━━━━━━━━━━━━\u001b[0m \u001b[32m510.5/510.5 kB\u001b[0m \u001b[31m5.5 MB/s\u001b[0m eta \u001b[36m0:00:00\u001b[0m\n",
            "\u001b[?25hCollecting sentence-transformers>=2.2.1 (from setfit)\n",
            "  Downloading sentence_transformers-2.5.1-py3-none-any.whl (156 kB)\n",
            "\u001b[2K     \u001b[90m━━━━━━━━━━━━━━━━━━━━━━━━━━━━━━━━━━━━━━━━\u001b[0m \u001b[32m156.5/156.5 kB\u001b[0m \u001b[31m13.7 MB/s\u001b[0m eta \u001b[36m0:00:00\u001b[0m\n",
            "\u001b[?25hCollecting evaluate>=0.3.0 (from setfit)\n",
            "  Downloading evaluate-0.4.1-py3-none-any.whl (84 kB)\n",
            "\u001b[2K     \u001b[90m━━━━━━━━━━━━━━━━━━━━━━━━━━━━━━━━━━━━━━━━\u001b[0m \u001b[32m84.1/84.1 kB\u001b[0m \u001b[31m8.3 MB/s\u001b[0m eta \u001b[36m0:00:00\u001b[0m\n",
            "\u001b[?25hRequirement already satisfied: huggingface-hub>=0.13.0 in /usr/local/lib/python3.10/dist-packages (from setfit) (0.20.3)\n",
            "Requirement already satisfied: scikit-learn in /usr/local/lib/python3.10/dist-packages (from setfit) (1.2.2)\n",
            "Requirement already satisfied: packaging in /usr/local/lib/python3.10/dist-packages (from setfit) (23.2)\n",
            "Requirement already satisfied: filelock in /usr/local/lib/python3.10/dist-packages (from datasets>=2.3.0->setfit) (3.13.1)\n",
            "Requirement already satisfied: numpy>=1.17 in /usr/local/lib/python3.10/dist-packages (from datasets>=2.3.0->setfit) (1.25.2)\n",
            "Requirement already satisfied: pyarrow>=12.0.0 in /usr/local/lib/python3.10/dist-packages (from datasets>=2.3.0->setfit) (14.0.2)\n",
            "Requirement already satisfied: pyarrow-hotfix in /usr/local/lib/python3.10/dist-packages (from datasets>=2.3.0->setfit) (0.6)\n",
            "Collecting dill<0.3.9,>=0.3.0 (from datasets>=2.3.0->setfit)\n",
            "  Downloading dill-0.3.8-py3-none-any.whl (116 kB)\n",
            "\u001b[2K     \u001b[90m━━━━━━━━━━━━━━━━━━━━━━━━━━━━━━━━━━━━━━━━\u001b[0m \u001b[32m116.3/116.3 kB\u001b[0m \u001b[31m10.3 MB/s\u001b[0m eta \u001b[36m0:00:00\u001b[0m\n",
            "\u001b[?25hRequirement already satisfied: pandas in /usr/local/lib/python3.10/dist-packages (from datasets>=2.3.0->setfit) (1.5.3)\n",
            "Requirement already satisfied: requests>=2.19.0 in /usr/local/lib/python3.10/dist-packages (from datasets>=2.3.0->setfit) (2.31.0)\n",
            "Requirement already satisfied: tqdm>=4.62.1 in /usr/local/lib/python3.10/dist-packages (from datasets>=2.3.0->setfit) (4.66.2)\n",
            "Collecting xxhash (from datasets>=2.3.0->setfit)\n",
            "  Downloading xxhash-3.4.1-cp310-cp310-manylinux_2_17_x86_64.manylinux2014_x86_64.whl (194 kB)\n",
            "\u001b[2K     \u001b[90m━━━━━━━━━━━━━━━━━━━━━━━━━━━━━━━━━━━━━━━━\u001b[0m \u001b[32m194.1/194.1 kB\u001b[0m \u001b[31m14.3 MB/s\u001b[0m eta \u001b[36m0:00:00\u001b[0m\n",
            "\u001b[?25hCollecting multiprocess (from datasets>=2.3.0->setfit)\n",
            "  Downloading multiprocess-0.70.16-py310-none-any.whl (134 kB)\n",
            "\u001b[2K     \u001b[90m━━━━━━━━━━━━━━━━━━━━━━━━━━━━━━━━━━━━━━━━\u001b[0m \u001b[32m134.8/134.8 kB\u001b[0m \u001b[31m10.1 MB/s\u001b[0m eta \u001b[36m0:00:00\u001b[0m\n",
            "\u001b[?25hRequirement already satisfied: fsspec[http]<=2024.2.0,>=2023.1.0 in /usr/local/lib/python3.10/dist-packages (from datasets>=2.3.0->setfit) (2023.6.0)\n",
            "Requirement already satisfied: aiohttp in /usr/local/lib/python3.10/dist-packages (from datasets>=2.3.0->setfit) (3.9.3)\n",
            "Requirement already satisfied: pyyaml>=5.1 in /usr/local/lib/python3.10/dist-packages (from datasets>=2.3.0->setfit) (6.0.1)\n",
            "Collecting responses<0.19 (from evaluate>=0.3.0->setfit)\n",
            "  Downloading responses-0.18.0-py3-none-any.whl (38 kB)\n",
            "Requirement already satisfied: typing-extensions>=3.7.4.3 in /usr/local/lib/python3.10/dist-packages (from huggingface-hub>=0.13.0->setfit) (4.10.0)\n",
            "Requirement already satisfied: transformers<5.0.0,>=4.32.0 in /usr/local/lib/python3.10/dist-packages (from sentence-transformers>=2.2.1->setfit) (4.38.2)\n",
            "Requirement already satisfied: torch>=1.11.0 in /usr/local/lib/python3.10/dist-packages (from sentence-transformers>=2.2.1->setfit) (2.1.0+cu121)\n",
            "Requirement already satisfied: scipy in /usr/local/lib/python3.10/dist-packages (from sentence-transformers>=2.2.1->setfit) (1.11.4)\n",
            "Requirement already satisfied: Pillow in /usr/local/lib/python3.10/dist-packages (from sentence-transformers>=2.2.1->setfit) (9.4.0)\n",
            "Requirement already satisfied: joblib>=1.1.1 in /usr/local/lib/python3.10/dist-packages (from scikit-learn->setfit) (1.3.2)\n",
            "Requirement already satisfied: threadpoolctl>=2.0.0 in /usr/local/lib/python3.10/dist-packages (from scikit-learn->setfit) (3.3.0)\n",
            "Requirement already satisfied: aiosignal>=1.1.2 in /usr/local/lib/python3.10/dist-packages (from aiohttp->datasets>=2.3.0->setfit) (1.3.1)\n",
            "Requirement already satisfied: attrs>=17.3.0 in /usr/local/lib/python3.10/dist-packages (from aiohttp->datasets>=2.3.0->setfit) (23.2.0)\n",
            "Requirement already satisfied: frozenlist>=1.1.1 in /usr/local/lib/python3.10/dist-packages (from aiohttp->datasets>=2.3.0->setfit) (1.4.1)\n",
            "Requirement already satisfied: multidict<7.0,>=4.5 in /usr/local/lib/python3.10/dist-packages (from aiohttp->datasets>=2.3.0->setfit) (6.0.5)\n",
            "Requirement already satisfied: yarl<2.0,>=1.0 in /usr/local/lib/python3.10/dist-packages (from aiohttp->datasets>=2.3.0->setfit) (1.9.4)\n",
            "Requirement already satisfied: async-timeout<5.0,>=4.0 in /usr/local/lib/python3.10/dist-packages (from aiohttp->datasets>=2.3.0->setfit) (4.0.3)\n",
            "Requirement already satisfied: charset-normalizer<4,>=2 in /usr/local/lib/python3.10/dist-packages (from requests>=2.19.0->datasets>=2.3.0->setfit) (3.3.2)\n",
            "Requirement already satisfied: idna<4,>=2.5 in /usr/local/lib/python3.10/dist-packages (from requests>=2.19.0->datasets>=2.3.0->setfit) (3.6)\n",
            "Requirement already satisfied: urllib3<3,>=1.21.1 in /usr/local/lib/python3.10/dist-packages (from requests>=2.19.0->datasets>=2.3.0->setfit) (2.0.7)\n",
            "Requirement already satisfied: certifi>=2017.4.17 in /usr/local/lib/python3.10/dist-packages (from requests>=2.19.0->datasets>=2.3.0->setfit) (2024.2.2)\n",
            "Requirement already satisfied: sympy in /usr/local/lib/python3.10/dist-packages (from torch>=1.11.0->sentence-transformers>=2.2.1->setfit) (1.12)\n",
            "Requirement already satisfied: networkx in /usr/local/lib/python3.10/dist-packages (from torch>=1.11.0->sentence-transformers>=2.2.1->setfit) (3.2.1)\n",
            "Requirement already satisfied: jinja2 in /usr/local/lib/python3.10/dist-packages (from torch>=1.11.0->sentence-transformers>=2.2.1->setfit) (3.1.3)\n",
            "Requirement already satisfied: triton==2.1.0 in /usr/local/lib/python3.10/dist-packages (from torch>=1.11.0->sentence-transformers>=2.2.1->setfit) (2.1.0)\n",
            "Requirement already satisfied: regex!=2019.12.17 in /usr/local/lib/python3.10/dist-packages (from transformers<5.0.0,>=4.32.0->sentence-transformers>=2.2.1->setfit) (2023.12.25)\n",
            "Requirement already satisfied: tokenizers<0.19,>=0.14 in /usr/local/lib/python3.10/dist-packages (from transformers<5.0.0,>=4.32.0->sentence-transformers>=2.2.1->setfit) (0.15.2)\n",
            "Requirement already satisfied: safetensors>=0.4.1 in /usr/local/lib/python3.10/dist-packages (from transformers<5.0.0,>=4.32.0->sentence-transformers>=2.2.1->setfit) (0.4.2)\n",
            "Requirement already satisfied: python-dateutil>=2.8.1 in /usr/local/lib/python3.10/dist-packages (from pandas->datasets>=2.3.0->setfit) (2.8.2)\n",
            "Requirement already satisfied: pytz>=2020.1 in /usr/local/lib/python3.10/dist-packages (from pandas->datasets>=2.3.0->setfit) (2023.4)\n",
            "Requirement already satisfied: six>=1.5 in /usr/local/lib/python3.10/dist-packages (from python-dateutil>=2.8.1->pandas->datasets>=2.3.0->setfit) (1.16.0)\n",
            "Requirement already satisfied: MarkupSafe>=2.0 in /usr/local/lib/python3.10/dist-packages (from jinja2->torch>=1.11.0->sentence-transformers>=2.2.1->setfit) (2.1.5)\n",
            "Requirement already satisfied: mpmath>=0.19 in /usr/local/lib/python3.10/dist-packages (from sympy->torch>=1.11.0->sentence-transformers>=2.2.1->setfit) (1.3.0)\n",
            "Installing collected packages: xxhash, dill, responses, multiprocess, datasets, sentence-transformers, evaluate, setfit\n",
            "Successfully installed datasets-2.18.0 dill-0.3.8 evaluate-0.4.1 multiprocess-0.70.16 responses-0.18.0 sentence-transformers-2.5.1 setfit-1.0.3 xxhash-3.4.1\n",
            "Requirement already satisfied: tqdm in /usr/local/lib/python3.10/dist-packages (4.66.2)\n",
            "Requirement already satisfied: gdown in /usr/local/lib/python3.10/dist-packages (4.7.3)\n",
            "Requirement already satisfied: filelock in /usr/local/lib/python3.10/dist-packages (from gdown) (3.13.1)\n",
            "Requirement already satisfied: requests[socks] in /usr/local/lib/python3.10/dist-packages (from gdown) (2.31.0)\n",
            "Requirement already satisfied: six in /usr/local/lib/python3.10/dist-packages (from gdown) (1.16.0)\n",
            "Requirement already satisfied: tqdm in /usr/local/lib/python3.10/dist-packages (from gdown) (4.66.2)\n",
            "Requirement already satisfied: beautifulsoup4 in /usr/local/lib/python3.10/dist-packages (from gdown) (4.12.3)\n",
            "Requirement already satisfied: soupsieve>1.2 in /usr/local/lib/python3.10/dist-packages (from beautifulsoup4->gdown) (2.5)\n",
            "Requirement already satisfied: charset-normalizer<4,>=2 in /usr/local/lib/python3.10/dist-packages (from requests[socks]->gdown) (3.3.2)\n",
            "Requirement already satisfied: idna<4,>=2.5 in /usr/local/lib/python3.10/dist-packages (from requests[socks]->gdown) (3.6)\n",
            "Requirement already satisfied: urllib3<3,>=1.21.1 in /usr/local/lib/python3.10/dist-packages (from requests[socks]->gdown) (2.0.7)\n",
            "Requirement already satisfied: certifi>=2017.4.17 in /usr/local/lib/python3.10/dist-packages (from requests[socks]->gdown) (2024.2.2)\n",
            "Requirement already satisfied: PySocks!=1.5.7,>=1.5.6 in /usr/local/lib/python3.10/dist-packages (from requests[socks]->gdown) (1.7.1)\n"
          ]
        }
      ],
      "source": [
        "!pip install setfit\n",
        "!pip install tqdm\n",
        "!pip install gdown"
      ]
    },
    {
      "cell_type": "code",
      "source": [
        "from google.colab import drive\n",
        "drive.mount('/content/drive')\n",
        "\n",
        "import gdown\n",
        "import json\n",
        "import pandas as pd"
      ],
      "metadata": {
        "id": "Gr1D_v3v46JA",
        "colab": {
          "base_uri": "https://localhost:8080/"
        },
        "outputId": "685fc8e7-e860-4486-8cfe-a300ce402420"
      },
      "execution_count": 2,
      "outputs": [
        {
          "output_type": "stream",
          "name": "stdout",
          "text": [
            "Mounted at /content/drive\n"
          ]
        }
      ]
    },
    {
      "cell_type": "code",
      "source": [
        "from setfit import SetFitModel\n",
        "from sentence_transformers import SentenceTransformer\n",
        "from tqdm.notebook import tqdm\n",
        "import spacy\n",
        "nlp = spacy.load(\"en_core_web_sm\")\n",
        "\n",
        "from collections import Counter\n",
        "from sklearn.metrics.pairwise import cosine_similarity\n",
        "from sklearn.cluster import KMeans\n",
        "import matplotlib.pyplot as plt\n",
        "import concurrent.futures\n",
        "\n",
        "import numpy as np\n",
        "\n",
        "model_sent_transformer = SentenceTransformer('all-MiniLM-L6-v2')"
      ],
      "metadata": {
        "id": "O7vC4amqV62p"
      },
      "execution_count": 26,
      "outputs": []
    },
    {
      "cell_type": "markdown",
      "source": [
        "##### Import the full Reddit dataset\n",
        "- remove duplicates to make sure that posts are unqiue\n",
        "- TitleText is the text column of interest"
      ],
      "metadata": {
        "id": "G_DVdEUwC3qy"
      }
    },
    {
      "cell_type": "code",
      "source": [
        "# https://drive.google.com/file/d/15reL84i-9niSW4Oa0_1oxR82-5UpAybo/view?usp=sharing\n",
        "\n",
        "\n",
        "# url = 'https://drive.google.com/uc?id=15reL84i-9niSW4Oa0_1oxR82-5UpAybo'\n",
        "# output_reddit_data = 'Complete_Data_v3.json'\n",
        "# gdown.download(url, output_reddit_data, quiet=False)\n",
        "\n",
        "file_path = '/content/drive/My Drive/SWB-GVCEH/Complete_Data_v3.json'\n",
        "reddit_data_df = pd.read_json(file_path)\n",
        "\n",
        "# with open(output_reddit_data, 'r') as f:\n",
        "#     reddit_data = json.load(f)\n",
        "\n",
        "# reddit_data_df = pd.DataFrame(reddit_data)\n",
        "print(f\"\\ncd_test shape: {reddit_data_df.shape}\")\n",
        "print(f\"\\n--------------- Columns: {reddit_data_df.columns}\")\n",
        "\n",
        "select_cols = ['Subreddit', 'Title', 'Text', 'TitleText']\n",
        "reddit_data_df = reddit_data_df[select_cols]\n",
        "reddit_data_df.drop_duplicates(inplace=True)\n",
        "reddit_data_df.reset_index(drop=True, inplace=True)\n",
        "\n",
        "print(\"\\n------------------------------\")\n",
        "print(reddit_data_df.head())"
      ],
      "metadata": {
        "colab": {
          "base_uri": "https://localhost:8080/"
        },
        "id": "rCHlgRt_4-Lt",
        "outputId": "35ff722e-0df2-422b-a02c-78943f92a2ab"
      },
      "execution_count": 3,
      "outputs": [
        {
          "output_type": "stream",
          "name": "stdout",
          "text": [
            "\n",
            "cd_test shape: (11160, 23)\n",
            "\n",
            "--------------- Columns: Index(['index', 'Subreddit', 'Title', 'Text', 'TitleText', 'relevance_score',\n",
            "       'most_common_centroid_id', 'top_terms_from_centroid',\n",
            "       'topics_from_centroid', 'Score_model2', 'label_model2', 'label_model1',\n",
            "       'relevant_sentences', 'topic_num', 'Relevant_document',\n",
            "       'Relevant_topic', 'topic_label', 'Sentiment_Full',\n",
            "       'Sentence_Level_Sentiment_Compund',\n",
            "       'Relevent_Sentence_Sentiment_Compund', 'BERT_sentiment_all',\n",
            "       'BERT_sentiments_relevant_sentences', 'manual_label'],\n",
            "      dtype='object')\n",
            "\n",
            "------------------------------\n",
            "    Subreddit                                              Title  \\\n",
            "0  VictoriaBC  True change around homelessness from the homel...   \n",
            "1  VictoriaBC  New transitional housing facility on Douglas o...   \n",
            "2  VictoriaBC   Where to buy a reasonably priced Christmas tree?   \n",
            "3  VictoriaBC  Looking for a Christmas tree? Please consider ...   \n",
            "4  VictoriaBC                              Free clothing places?   \n",
            "\n",
            "                                                Text  \\\n",
            "0  I've started my own organization to expose the...   \n",
            "1                                               None   \n",
            "2  Went to the Christmas tree farm today and thou...   \n",
            "3                                               None   \n",
            "4  Hey so long story short I moved here from Sask...   \n",
            "\n",
            "                                           TitleText  \n",
            "0  True change around homelessness from the homel...  \n",
            "1  New transitional housing facility on Douglas o...  \n",
            "2  Where to buy a reasonably priced Christmas tre...  \n",
            "3  Looking for a Christmas tree? Please consider ...  \n",
            "4  Free clothing places?. Hey so long story short...  \n"
          ]
        }
      ]
    },
    {
      "cell_type": "markdown",
      "source": [
        "##### Clone github repo to download twitter data\n",
        "- Twitter data will be used for the cosine similarity model"
      ],
      "metadata": {
        "id": "ByS7xcurDXkK"
      }
    },
    {
      "cell_type": "code",
      "source": [
        "%cd ..\n",
        "!rm -rf SWB-GVCEH"
      ],
      "metadata": {
        "colab": {
          "base_uri": "https://localhost:8080/"
        },
        "id": "G8o_-3FiDkY-",
        "outputId": "158d4bf1-b889-4b37-9f3d-3031bdd60843"
      },
      "execution_count": 4,
      "outputs": [
        {
          "output_type": "stream",
          "name": "stdout",
          "text": [
            "/\n"
          ]
        }
      ]
    },
    {
      "cell_type": "code",
      "source": [
        "%cd /content\n",
        "!apt-get install git\n",
        "!git config --global user.name \"alex-jk\"\n",
        "!git config --global user.email \"alex.joukova@gmail.com\"\n",
        "!git clone https://github.com/alex-jk/SWB-GVCEH.git\n",
        "%cd SWB-GVCEH\n",
        "\n",
        "import os\n",
        "os.environ['GITHUB_PAT'] = 'ghp_xxx'\n",
        "# Set your git remote URL to include the PAT for authentication\n",
        "repo_url = 'https://github.com/alex-jk/SWB-GVCEH.git'  # Replace with your repository's URL\n",
        "pat = os.environ['GITHUB_PAT']\n",
        "repo_url_with_token = repo_url[:8] + pat + \"@\" + repo_url[8:]\n",
        "\n",
        "!git remote set-url origin {repo_url_with_token}\n",
        "# Check the current remote URL\n",
        "!git remote -v"
      ],
      "metadata": {
        "id": "T25ygGTNEwrT"
      },
      "execution_count": null,
      "outputs": []
    },
    {
      "cell_type": "code",
      "source": [
        "# List of file names\n",
        "file_names = [\n",
        "    'GVCEH-tweets-combined_2023-02-08.csv',\n",
        "    'GVCEH-tweets-combined_2023-01-30.csv',\n",
        "    'GVCEH-tweets-combined_2023-01-21.csv',\n",
        "    'GVCEH-tweets-combined_2023-01-12.csv'\n",
        "]\n",
        "\n",
        "# Base URL for raw files in the GitHub repository\n",
        "base_url = 'https://raw.githubusercontent.com/alex-jk/SWB-GVCEH/main/data/processed/twitter/github_actions/'\n",
        "\n",
        "# Initialize a list to collect the DataFrames\n",
        "dfs = []\n",
        "\n",
        "for file_name in file_names:\n",
        "    # Construct the full URL for the current file\n",
        "    file_url = base_url + file_name\n",
        "    # Read the CSV file\n",
        "    current_df = pd.read_csv(file_url)\n",
        "    # Append the DataFrame to the list\n",
        "    dfs.append(current_df)\n",
        "\n",
        "# Concatenate all DataFrames in the list\n",
        "tweets_combined_df = pd.concat(dfs, ignore_index=True)\n",
        "# Remove duplicates\n",
        "tweets_combined_df = tweets_combined_df.drop_duplicates().reset_index(drop=True)\n",
        "\n",
        "# Displaying the first few rows of the DataFrame\n",
        "print(tweets_combined_df.shape)\n",
        "print(tweets_combined_df.columns)\n",
        "print(tweets_combined_df.head())"
      ],
      "metadata": {
        "colab": {
          "base_uri": "https://localhost:8080/"
        },
        "id": "Ftdrq01JFWsO",
        "outputId": "67227392-eeaf-4b45-f488-ebe0392a9248"
      },
      "execution_count": 6,
      "outputs": [
        {
          "output_type": "stream",
          "name": "stdout",
          "text": [
            "(5435, 17)\n",
            "Index(['Unnamed: 0', 'text', 'scrape_time', 'tweet_id', 'created_at',\n",
            "       'reply_count', 'quote_count', 'like_count', 'retweet_count',\n",
            "       'geo_full_name', 'geo_id', 'username', 'num_followers',\n",
            "       'search_keywords', 'search_neighbourhood', 'sentiment', 'score'],\n",
            "      dtype='object')\n",
            "   Unnamed: 0                                               text  \\\n",
            "0           0  RT pressjournal: Colonsay islanders and people...   \n",
            "1           1  Colonsay islanders and people who have left th...   \n",
            "2           7  @ArianeBurgessHI Serviced plots for 25k are ex...   \n",
            "3           9  RT @VicBuilders: \"25-unit townhome development...   \n",
            "4          27  @OurNewHomecoach @laughatthemoon2 There is so ...   \n",
            "\n",
            "                  scrape_time             tweet_id                 created_at  \\\n",
            "0  2023-02-07 03:20:43.040309  1622564995115503616  2023-02-06 11:56:55+00:00   \n",
            "1  2023-02-07 03:20:43.040317  1622550741599625221  2023-02-06 11:00:16+00:00   \n",
            "2  2023-02-07 03:20:51.207543  1622549961081487360  2023-02-06 10:57:10+00:00   \n",
            "3  2023-02-07 03:20:56.511307  1622671505778778152  2023-02-06 19:00:09+00:00   \n",
            "4  2023-02-07 03:21:18.339644  1622767215811641344  2023-02-07 01:20:28+00:00   \n",
            "\n",
            "   reply_count  quote_count  like_count  retweet_count geo_full_name geo_id  \\\n",
            "0          0.0          0.0         0.0            0.0           NaN    NaN   \n",
            "1          0.0          0.0         0.0            0.0           NaN    NaN   \n",
            "2          0.0          0.0         1.0            0.0           NaN    NaN   \n",
            "3          0.0          0.0         0.0            0.0           NaN    NaN   \n",
            "4          0.0          0.0         1.0            0.0           NaN    NaN   \n",
            "\n",
            "          username  num_followers  \\\n",
            "0   elginnewsround            852   \n",
            "1     pressjournal          69944   \n",
            "2  ArianeBurgessHI           3207   \n",
            "3  DominiqueBandet             90   \n",
            "4   martin85468119             18   \n",
            "\n",
            "                                     search_keywords  \\\n",
            "0  (900-block pandora avenue OR esquimalt OR high...   \n",
            "1  (900-block pandora avenue OR esquimalt OR high...   \n",
            "2  (900-block pandora avenue OR esquimalt OR high...   \n",
            "3  (900-block pandora avenue OR esquimalt OR high...   \n",
            "4  (900-block pandora avenue OR esquimalt OR high...   \n",
            "\n",
            "                                search_neighbourhood sentiment     score  \n",
            "0  900-block pandora avenue OR esquimalt OR highl...  positive  0.351921  \n",
            "1  900-block pandora avenue OR esquimalt OR highl...  positive  0.344510  \n",
            "2  900-block pandora avenue OR esquimalt OR highl...  positive  0.339811  \n",
            "3  900-block pandora avenue OR esquimalt OR highl...  positive  0.365494  \n",
            "4  900-block pandora avenue OR esquimalt OR highl...  positive  0.363048  \n"
          ]
        }
      ]
    },
    {
      "cell_type": "markdown",
      "source": [
        "##### Load pre-trained twitter relevancy model\n",
        "Check that tweets are considered relevant by the model\n",
        "- all tweets were found to be relevant by the model"
      ],
      "metadata": {
        "id": "wooByf-7Fhea"
      }
    },
    {
      "cell_type": "code",
      "source": [
        "# Load the pretrained SetFit model\n",
        "model = SetFitModel.from_pretrained(\"sheilaflood/gvceh-setfit-rel-model2\")\n",
        "\n",
        "# Define a function to make predictions\n",
        "def get_prediction(text):\n",
        "    prediction = model([text])[0]\n",
        "    return prediction"
      ],
      "metadata": {
        "id": "u8zKTKkpFimn"
      },
      "execution_count": 10,
      "outputs": []
    },
    {
      "cell_type": "code",
      "source": [
        "# Apply the model to each row in the 'text' column with a progress bar\n",
        "tqdm.pandas()  # Enable tqdm for pandas\n",
        "tweets_combined_df['relevant'] = tweets_combined_df['text'].progress_apply(get_prediction)"
      ],
      "metadata": {
        "colab": {
          "base_uri": "https://localhost:8080/",
          "height": 49,
          "referenced_widgets": [
            "2cab9b69f1a7437dac5eb793bfe52234",
            "77103ba13b2d469db56e9c032f0ab7b6",
            "398b5f61cc2445c6be5ba6eb3e62306c",
            "8d0f99dda46d4950ae8ddc4b6f8ba425",
            "bee687c2fed3447487a40eb8f2ec473f",
            "5d4c081b877548d6a2c75b13e35a6807",
            "af8d0ce00b2846a69bd708200ff8f50b",
            "23697c7d931641538a69f8b9b67faca4",
            "a4bcd6b0502142a3b88470c480f3677f",
            "3aec1f217f2b4892bd0ac610ca8f153f",
            "1c056dc13ac6449ba54d142c6d5dcfb8"
          ]
        },
        "id": "CtYAUuD7We4C",
        "outputId": "dbe3c402-bda7-4147-a095-b5ca96f6d18b"
      },
      "execution_count": 12,
      "outputs": [
        {
          "output_type": "display_data",
          "data": {
            "text/plain": [
              "  0%|          | 0/5435 [00:00<?, ?it/s]"
            ],
            "application/vnd.jupyter.widget-view+json": {
              "version_major": 2,
              "version_minor": 0,
              "model_id": "2cab9b69f1a7437dac5eb793bfe52234"
            }
          },
          "metadata": {}
        }
      ]
    },
    {
      "cell_type": "code",
      "source": [
        "def extract_integer_from_tensor(tensor_val):\n",
        "    return tensor_val.item()\n",
        "\n",
        "# Apply this function to the entire column\n",
        "tweets_combined_df['relevant'] = tweets_combined_df['relevant'].apply(extract_integer_from_tensor)\n",
        "\n",
        "# Print value counts for the 'relevant' column\n",
        "print(tweets_combined_df['relevant'].value_counts())"
      ],
      "metadata": {
        "colab": {
          "base_uri": "https://localhost:8080/"
        },
        "id": "cwVbbt1KWtjm",
        "outputId": "00ce9bb1-bf15-48dd-ceb9-340335b0768c"
      },
      "execution_count": 14,
      "outputs": [
        {
          "output_type": "stream",
          "name": "stdout",
          "text": [
            "1    5435\n",
            "Name: relevant, dtype: int64\n"
          ]
        }
      ]
    },
    {
      "cell_type": "markdown",
      "source": [
        "#### Reddit Data Labelling - Model #1\n",
        "Perform K-Means clustering of twitter data\n",
        "\n",
        "Generate embeddings of twitter posts"
      ],
      "metadata": {
        "id": "r-mvtOuJXIC2"
      }
    },
    {
      "cell_type": "code",
      "source": [
        "twitter_embeddings = model_sent_transformer.encode(tweets_combined_df['text'].tolist(), show_progress_bar=True)"
      ],
      "metadata": {
        "colab": {
          "base_uri": "https://localhost:8080/",
          "height": 49,
          "referenced_widgets": [
            "718e87d2bee9438fbe14091cf47ee646",
            "04f90da800d648cda2444707d703878b",
            "29f547ad248a4125b06c6c842fee1dcf",
            "3b9963937d7f4ecfadae89fc9a8dcf3c",
            "068e60fd57cc46de8fdc6ee949843767",
            "6068bcff0c9e4d4c85fc891136f179c0",
            "a77cf422125549a6b34930e774673f92",
            "23bf5104f5cd4144b8a5929c4da8a23b",
            "2c3af66200234c21b7a9416afc15ea3c",
            "f995c4801c524615bba7199ba6ff375f",
            "084f37a471214af0b3b7ed26f1f1173b"
          ]
        },
        "id": "8a0IetlQXLwP",
        "outputId": "3d43f0c0-f269-4dcb-9dc8-534a1bce1031"
      },
      "execution_count": 15,
      "outputs": [
        {
          "output_type": "display_data",
          "data": {
            "text/plain": [
              "Batches:   0%|          | 0/170 [00:00<?, ?it/s]"
            ],
            "application/vnd.jupyter.widget-view+json": {
              "version_major": 2,
              "version_minor": 0,
              "model_id": "718e87d2bee9438fbe14091cf47ee646"
            }
          },
          "metadata": {}
        }
      ]
    },
    {
      "cell_type": "markdown",
      "source": [
        "#### Run K-Means on twitter embeddings"
      ],
      "metadata": {
        "id": "be7-UOemY5T5"
      }
    },
    {
      "cell_type": "code",
      "source": [
        "# Calculate sum of squared distances for different number of clusters\n",
        "Sum_of_squared_distances = []\n",
        "K = range(1,40)  # Adjust the range based on your dataset\n",
        "for k in K:\n",
        "    print(f\"Current k: {k}\")\n",
        "    km = KMeans(n_clusters=k, n_init=10)\n",
        "    km = km.fit(twitter_embeddings)\n",
        "    Sum_of_squared_distances.append(km.inertia_)\n",
        "\n",
        "# Plot the elbow graph\n",
        "plt.plot(K, Sum_of_squared_distances, 'bx-')\n",
        "plt.xlabel('Number of clusters')\n",
        "plt.ylabel('Sum of squared distances')\n",
        "plt.title('Twitter Embeddings Elbow Method For Optimal k')\n",
        "plt.show()"
      ],
      "metadata": {
        "colab": {
          "base_uri": "https://localhost:8080/",
          "height": 1000
        },
        "id": "MY930ujzY6Nv",
        "outputId": "6e367e9c-6ac4-4759-8663-e04b986d6435"
      },
      "execution_count": 16,
      "outputs": [
        {
          "output_type": "stream",
          "name": "stdout",
          "text": [
            "Current k: 1\n",
            "Current k: 2\n",
            "Current k: 3\n",
            "Current k: 4\n",
            "Current k: 5\n",
            "Current k: 6\n",
            "Current k: 7\n",
            "Current k: 8\n",
            "Current k: 9\n",
            "Current k: 10\n",
            "Current k: 11\n",
            "Current k: 12\n",
            "Current k: 13\n",
            "Current k: 14\n",
            "Current k: 15\n",
            "Current k: 16\n",
            "Current k: 17\n",
            "Current k: 18\n",
            "Current k: 19\n",
            "Current k: 20\n",
            "Current k: 21\n",
            "Current k: 22\n",
            "Current k: 23\n",
            "Current k: 24\n",
            "Current k: 25\n",
            "Current k: 26\n",
            "Current k: 27\n",
            "Current k: 28\n",
            "Current k: 29\n",
            "Current k: 30\n",
            "Current k: 31\n",
            "Current k: 32\n",
            "Current k: 33\n",
            "Current k: 34\n",
            "Current k: 35\n",
            "Current k: 36\n",
            "Current k: 37\n",
            "Current k: 38\n",
            "Current k: 39\n"
          ]
        },
        {
          "output_type": "display_data",
          "data": {
            "text/plain": [
              "<Figure size 640x480 with 1 Axes>"
            ],
            "image/png": "[encoded data removed]"
          },
          "metadata": {}
        }
      ]
    },
    {
      "cell_type": "markdown",
      "source": [
        "##### Assign clusters to embeddings"
      ],
      "metadata": {
        "id": "fu35LC3WbPn7"
      }
    },
    {
      "cell_type": "code",
      "source": [
        "k = 15  # number of clusters\n",
        "kmeans = KMeans(n_clusters=k, n_init=10, random_state=42)\n",
        "kmeans.fit(twitter_embeddings)\n",
        "\n",
        "cluster_centroids = kmeans.cluster_centers_\n",
        "\n",
        "tweets_combined_df['cluster'] = kmeans.labels_"
      ],
      "metadata": {
        "id": "q2jCPIMbbQ9I"
      },
      "execution_count": 19,
      "outputs": []
    },
    {
      "cell_type": "markdown",
      "source": [
        "##### Functions to process reddit posts"
      ],
      "metadata": {
        "id": "cQPmEeQLbpSf"
      }
    },
    {
      "cell_type": "code",
      "source": [
        "# Function to split text into sentences\n",
        "def spacy_sentence_split(text):\n",
        "    doc = nlp(text)\n",
        "    return [sent.text.strip() for sent in doc.sents]\n",
        "\n",
        "# Function to process a single Reddit post and determine its relevance\n",
        "def process_post_for_relevance(post, model, centroids, threshold):\n",
        "    sentences = spacy_sentence_split(post)\n",
        "    sentence_embeddings = model.encode(sentences, show_progress_bar=False)\n",
        "    sentence_relevance_scores = cosine_similarity(sentence_embeddings, centroids)\n",
        "    max_scores = sentence_relevance_scores.max(axis=1)\n",
        "    max_score_indices = sentence_relevance_scores.argmax(axis=1)\n",
        "    # print(len(sentence_embeddings))\n",
        "    # print(max_scores)\n",
        "    # print(max_score_indices)\n",
        "\n",
        "    relevant_sentences = max_scores > threshold\n",
        "    relevant_centroid_ids = max_score_indices[relevant_sentences]\n",
        "    # print(relevant_centroid_ids)\n",
        "    relevance_score = relevant_sentences.mean()  # Proportion of sentences above the threshold\n",
        "\n",
        "    centroid_counter = Counter(relevant_centroid_ids)\n",
        "    # print(centroid_counter)\n",
        "    if len(centroid_counter) == 0:\n",
        "        most_common_centroid_ids = None  # No relevant sentences\n",
        "    else:\n",
        "        # Find the maximum count for the centroids\n",
        "        max_count = centroid_counter.most_common(1)[0][1]\n",
        "        # Get all centroid IDs that have the maximum count (ties included)\n",
        "        most_common_centroid_ids = [centroid_id for centroid_id, count in centroid_counter.items() if count == max_count]\n",
        "\n",
        "    return relevance_score, most_common_centroid_ids"
      ],
      "metadata": {
        "id": "w5NH09EfbroJ"
      },
      "execution_count": 20,
      "outputs": []
    },
    {
      "cell_type": "code",
      "source": [
        "# Parallel processing function\n",
        "def parallel_relevance_computation(reddit_posts, model, centroids, threshold, max_workers=10):\n",
        "    with concurrent.futures.ThreadPoolExecutor(max_workers=max_workers) as executor:\n",
        "        results = list(tqdm(executor.map(lambda post: process_post_for_relevance(post, model, centroids, threshold), reddit_posts), total=len(reddit_posts)))\n",
        "\n",
        "    # Unpack the results into two separate lists\n",
        "    relevance_scores, most_common_centroid_ids = zip(*results)\n",
        "    return relevance_scores, most_common_centroid_ids"
      ],
      "metadata": {
        "id": "mq_Cs93hkAi4"
      },
      "execution_count": 21,
      "outputs": []
    },
    {
      "cell_type": "code",
      "source": [
        "# Apply parallel relevance computation to the DataFrame\n",
        "relevance_scores, most_common_centroid_ids = parallel_relevance_computation(reddit_data_df['TitleText'].tolist(), model_sent_transformer, cluster_centroids, threshold=0.5)\n",
        "\n",
        "# Assign the results to separate columns in the DataFrame\n",
        "reddit_data_df['relevance_score'] = relevance_scores\n",
        "reddit_data_df['most_common_centroid_id'] = most_common_centroid_ids"
      ],
      "metadata": {
        "colab": {
          "base_uri": "https://localhost:8080/",
          "height": 49,
          "referenced_widgets": [
            "c3c461dddfff4da0b96e33787d3c9c72",
            "36c4d758ef764ab0b60d3af06a0f6662",
            "fdb1286f06a64093aa258f27b8e73912",
            "c7b17703b8754981abf43aaeeaee495f",
            "a17cbc12356343b4bffd8396e70b624a",
            "323d9256438d4b979998dc7b0def1d86",
            "8a82bd07160046f19ce09ef7c2fc9987",
            "0985e5ef1b1a4754ac7371509ea308d8",
            "75941c5bd5754770865a7dbb2e7742e1",
            "dafaa0b6c3f847138354445c64c61fb7",
            "7ac45ed0380e4285bcf593cbe6841be3"
          ]
        },
        "id": "tgtUzcbjkD8A",
        "outputId": "0abc6846-57d0-41a7-89b3-ff3ba681f084"
      },
      "execution_count": 24,
      "outputs": [
        {
          "output_type": "display_data",
          "data": {
            "text/plain": [
              "  0%|          | 0/11151 [00:00<?, ?it/s]"
            ],
            "application/vnd.jupyter.widget-view+json": {
              "version_major": 2,
              "version_minor": 0,
              "model_id": "c3c461dddfff4da0b96e33787d3c9c72"
            }
          },
          "metadata": {}
        }
      ]
    },
    {
      "cell_type": "markdown",
      "source": [
        "##### Assign Model #1 labels"
      ],
      "metadata": {
        "id": "y3RpW4hHkuS9"
      }
    },
    {
      "cell_type": "code",
      "source": [
        "# Filter relevant posts based on a relevance score threshold\n",
        "reddit_data_df['label_model1'] = np.where(reddit_data_df['relevance_score'] >= 0.1, 1, 0)\n",
        "\n",
        "relevant_reddit_posts = reddit_data_df[reddit_data_df['relevance_score'] > 0.1].reset_index(drop=True)\n",
        "print(f\"\\nOriginal number of posts: {len(reddit_data_df.index)}\")\n",
        "print(f\"\\nNumber of relevant posts: {len(relevant_reddit_posts.index)}\")"
      ],
      "metadata": {
        "colab": {
          "base_uri": "https://localhost:8080/"
        },
        "id": "AjGRKRaJkxUn",
        "outputId": "9d6ad2cf-8203-44c2-d99c-c81957ca6fa7"
      },
      "execution_count": 27,
      "outputs": [
        {
          "output_type": "stream",
          "name": "stdout",
          "text": [
            "\n",
            "Original number of posts: 11151\n",
            "\n",
            "Number of relevant posts: 3311\n"
          ]
        }
      ]
    },
    {
      "cell_type": "markdown",
      "source": [
        "#### Twitter Relevancy Model on Reddit sentences - Model #2"
      ],
      "metadata": {
        "id": "pe-g1pHHvveF"
      }
    },
    {
      "cell_type": "code",
      "source": [
        "# Function to chunk a long text into smaller parts\n",
        "def tokenize_into_sentences(text):\n",
        "    return sent_tokenize(text)\n",
        "\n",
        "\n",
        "def predict_relevance(text):\n",
        "    sentences = tokenize_into_sentences(text)\n",
        "    if not sentences:  # If no sentences, return default values\n",
        "        return 0.0, 0\n",
        "\n",
        "    # Assuming model(sentences) returns a tensor of predictions; convert this to a list\n",
        "    predictions_tensor = model(sentences)\n",
        "    predictions = predictions_tensor.tolist()  # Convert tensor to list\n",
        "\n",
        "    # Calculate the score as a percentage of relevant sentences\n",
        "    score = sum(predictions) / len(sentences) * 100\n",
        "    score = round(score, 2)  # Round to 2 decimal places for readability\n",
        "\n",
        "    # Determine binary output: 1 if 10% or more sentences are relevant, else 0\n",
        "    binary_output = 1 if score >= 10 else 0\n",
        "\n",
        "    return score, binary_output"
      ],
      "metadata": {
        "id": "4zDs-X0dvxWD"
      },
      "execution_count": 29,
      "outputs": []
    },
    {
      "cell_type": "code",
      "source": [
        "tqdm.pandas(desc=\"Processing Posts\")\n",
        "\n",
        "reddit_data_df[['Score_model2', 'label_model2']] = reddit_data_df['TitleText'].progress_apply(\n",
        "    lambda x: pd.Series(predict_relevance(x))\n",
        ")"
      ],
      "metadata": {
        "id": "PbFuwCFkv7RP"
      },
      "execution_count": null,
      "outputs": []
    }
  ]
}