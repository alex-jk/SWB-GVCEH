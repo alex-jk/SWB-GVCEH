{
  "nbformat": 4,
  "nbformat_minor": 0,
  "metadata": {
    "colab": {
      "provenance": [],
      "authorship_tag": "ABX9TyMZw6fUK0dGry63flhnEpdQ",
      "include_colab_link": true
    },
    "kernelspec": {
      "name": "python3",
      "display_name": "Python 3"
    },
    "language_info": {
      "name": "python"
    },
    "widgets": {
      "application/vnd.jupyter.widget-state+json": {
        "80c491c83ea94bfb888b6e53675b0b72": {
          "model_module": "@jupyter-widgets/controls",
          "model_name": "HBoxModel",
          "model_module_version": "1.5.0",
          "state": {
            "_dom_classes": [],
            "_model_module": "@jupyter-widgets/controls",
            "_model_module_version": "1.5.0",
            "_model_name": "HBoxModel",
            "_view_count": null,
            "_view_module": "@jupyter-widgets/controls",
            "_view_module_version": "1.5.0",
            "_view_name": "HBoxView",
            "box_style": "",
            "children": [
              "IPY_MODEL_7f7d6b1fe72a4a6ab8804a80b29b91fc",
              "IPY_MODEL_5b616cefdc674ccb8b9a9c140c536602",
              "IPY_MODEL_2d72eb623c954108a2811e31494e4132"
            ],
            "layout": "IPY_MODEL_9919b8347da94cf8b630df25c854c6e2"
          }
        },
        "7f7d6b1fe72a4a6ab8804a80b29b91fc": {
          "model_module": "@jupyter-widgets/controls",
          "model_name": "HTMLModel",
          "model_module_version": "1.5.0",
          "state": {
            "_dom_classes": [],
            "_model_module": "@jupyter-widgets/controls",
            "_model_module_version": "1.5.0",
            "_model_name": "HTMLModel",
            "_view_count": null,
            "_view_module": "@jupyter-widgets/controls",
            "_view_module_version": "1.5.0",
            "_view_name": "HTMLView",
            "description": "",
            "description_tooltip": null,
            "layout": "IPY_MODEL_b03125e30479499ca8a437c095d8114f",
            "placeholder": "​",
            "style": "IPY_MODEL_0106967d5b13497090bc45ebcbc7b03b",
            "value": "Batches: 100%"
          }
        },
        "5b616cefdc674ccb8b9a9c140c536602": {
          "model_module": "@jupyter-widgets/controls",
          "model_name": "FloatProgressModel",
          "model_module_version": "1.5.0",
          "state": {
            "_dom_classes": [],
            "_model_module": "@jupyter-widgets/controls",
            "_model_module_version": "1.5.0",
            "_model_name": "FloatProgressModel",
            "_view_count": null,
            "_view_module": "@jupyter-widgets/controls",
            "_view_module_version": "1.5.0",
            "_view_name": "ProgressView",
            "bar_style": "success",
            "description": "",
            "description_tooltip": null,
            "layout": "IPY_MODEL_4ef8efb630b7497caef6571e7696b4e8",
            "max": 170,
            "min": 0,
            "orientation": "horizontal",
            "style": "IPY_MODEL_e9aca57ac57d4d26b5757fe1616dbe51",
            "value": 170
          }
        },
        "2d72eb623c954108a2811e31494e4132": {
          "model_module": "@jupyter-widgets/controls",
          "model_name": "HTMLModel",
          "model_module_version": "1.5.0",
          "state": {
            "_dom_classes": [],
            "_model_module": "@jupyter-widgets/controls",
            "_model_module_version": "1.5.0",
            "_model_name": "HTMLModel",
            "_view_count": null,
            "_view_module": "@jupyter-widgets/controls",
            "_view_module_version": "1.5.0",
            "_view_name": "HTMLView",
            "description": "",
            "description_tooltip": null,
            "layout": "IPY_MODEL_9787a11e693f464bb14d43578dc3b303",
            "placeholder": "​",
            "style": "IPY_MODEL_862537d021f44e86a1ee29aedec8d257",
            "value": " 170/170 [03:48&lt;00:00,  2.35it/s]"
          }
        },
        "9919b8347da94cf8b630df25c854c6e2": {
          "model_module": "@jupyter-widgets/base",
          "model_name": "LayoutModel",
          "model_module_version": "1.2.0",
          "state": {
            "_model_module": "@jupyter-widgets/base",
            "_model_module_version": "1.2.0",
            "_model_name": "LayoutModel",
            "_view_count": null,
            "_view_module": "@jupyter-widgets/base",
            "_view_module_version": "1.2.0",
            "_view_name": "LayoutView",
            "align_content": null,
            "align_items": null,
            "align_self": null,
            "border": null,
            "bottom": null,
            "display": null,
            "flex": null,
            "flex_flow": null,
            "grid_area": null,
            "grid_auto_columns": null,
            "grid_auto_flow": null,
            "grid_auto_rows": null,
            "grid_column": null,
            "grid_gap": null,
            "grid_row": null,
            "grid_template_areas": null,
            "grid_template_columns": null,
            "grid_template_rows": null,
            "height": null,
            "justify_content": null,
            "justify_items": null,
            "left": null,
            "margin": null,
            "max_height": null,
            "max_width": null,
            "min_height": null,
            "min_width": null,
            "object_fit": null,
            "object_position": null,
            "order": null,
            "overflow": null,
            "overflow_x": null,
            "overflow_y": null,
            "padding": null,
            "right": null,
            "top": null,
            "visibility": null,
            "width": null
          }
        },
        "b03125e30479499ca8a437c095d8114f": {
          "model_module": "@jupyter-widgets/base",
          "model_name": "LayoutModel",
          "model_module_version": "1.2.0",
          "state": {
            "_model_module": "@jupyter-widgets/base",
            "_model_module_version": "1.2.0",
            "_model_name": "LayoutModel",
            "_view_count": null,
            "_view_module": "@jupyter-widgets/base",
            "_view_module_version": "1.2.0",
            "_view_name": "LayoutView",
            "align_content": null,
            "align_items": null,
            "align_self": null,
            "border": null,
            "bottom": null,
            "display": null,
            "flex": null,
            "flex_flow": null,
            "grid_area": null,
            "grid_auto_columns": null,
            "grid_auto_flow": null,
            "grid_auto_rows": null,
            "grid_column": null,
            "grid_gap": null,
            "grid_row": null,
            "grid_template_areas": null,
            "grid_template_columns": null,
            "grid_template_rows": null,
            "height": null,
            "justify_content": null,
            "justify_items": null,
            "left": null,
            "margin": null,
            "max_height": null,
            "max_width": null,
            "min_height": null,
            "min_width": null,
            "object_fit": null,
            "object_position": null,
            "order": null,
            "overflow": null,
            "overflow_x": null,
            "overflow_y": null,
            "padding": null,
            "right": null,
            "top": null,
            "visibility": null,
            "width": null
          }
        },
        "0106967d5b13497090bc45ebcbc7b03b": {
          "model_module": "@jupyter-widgets/controls",
          "model_name": "DescriptionStyleModel",
          "model_module_version": "1.5.0",
          "state": {
            "_model_module": "@jupyter-widgets/controls",
            "_model_module_version": "1.5.0",
            "_model_name": "DescriptionStyleModel",
            "_view_count": null,
            "_view_module": "@jupyter-widgets/base",
            "_view_module_version": "1.2.0",
            "_view_name": "StyleView",
            "description_width": ""
          }
        },
        "4ef8efb630b7497caef6571e7696b4e8": {
          "model_module": "@jupyter-widgets/base",
          "model_name": "LayoutModel",
          "model_module_version": "1.2.0",
          "state": {
            "_model_module": "@jupyter-widgets/base",
            "_model_module_version": "1.2.0",
            "_model_name": "LayoutModel",
            "_view_count": null,
            "_view_module": "@jupyter-widgets/base",
            "_view_module_version": "1.2.0",
            "_view_name": "LayoutView",
            "align_content": null,
            "align_items": null,
            "align_self": null,
            "border": null,
            "bottom": null,
            "display": null,
            "flex": null,
            "flex_flow": null,
            "grid_area": null,
            "grid_auto_columns": null,
            "grid_auto_flow": null,
            "grid_auto_rows": null,
            "grid_column": null,
            "grid_gap": null,
            "grid_row": null,
            "grid_template_areas": null,
            "grid_template_columns": null,
            "grid_template_rows": null,
            "height": null,
            "justify_content": null,
            "justify_items": null,
            "left": null,
            "margin": null,
            "max_height": null,
            "max_width": null,
            "min_height": null,
            "min_width": null,
            "object_fit": null,
            "object_position": null,
            "order": null,
            "overflow": null,
            "overflow_x": null,
            "overflow_y": null,
            "padding": null,
            "right": null,
            "top": null,
            "visibility": null,
            "width": null
          }
        },
        "e9aca57ac57d4d26b5757fe1616dbe51": {
          "model_module": "@jupyter-widgets/controls",
          "model_name": "ProgressStyleModel",
          "model_module_version": "1.5.0",
          "state": {
            "_model_module": "@jupyter-widgets/controls",
            "_model_module_version": "1.5.0",
            "_model_name": "ProgressStyleModel",
            "_view_count": null,
            "_view_module": "@jupyter-widgets/base",
            "_view_module_version": "1.2.0",
            "_view_name": "StyleView",
            "bar_color": null,
            "description_width": ""
          }
        },
        "9787a11e693f464bb14d43578dc3b303": {
          "model_module": "@jupyter-widgets/base",
          "model_name": "LayoutModel",
          "model_module_version": "1.2.0",
          "state": {
            "_model_module": "@jupyter-widgets/base",
            "_model_module_version": "1.2.0",
            "_model_name": "LayoutModel",
            "_view_count": null,
            "_view_module": "@jupyter-widgets/base",
            "_view_module_version": "1.2.0",
            "_view_name": "LayoutView",
            "align_content": null,
            "align_items": null,
            "align_self": null,
            "border": null,
            "bottom": null,
            "display": null,
            "flex": null,
            "flex_flow": null,
            "grid_area": null,
            "grid_auto_columns": null,
            "grid_auto_flow": null,
            "grid_auto_rows": null,
            "grid_column": null,
            "grid_gap": null,
            "grid_row": null,
            "grid_template_areas": null,
            "grid_template_columns": null,
            "grid_template_rows": null,
            "height": null,
            "justify_content": null,
            "justify_items": null,
            "left": null,
            "margin": null,
            "max_height": null,
            "max_width": null,
            "min_height": null,
            "min_width": null,
            "object_fit": null,
            "object_position": null,
            "order": null,
            "overflow": null,
            "overflow_x": null,
            "overflow_y": null,
            "padding": null,
            "right": null,
            "top": null,
            "visibility": null,
            "width": null
          }
        },
        "862537d021f44e86a1ee29aedec8d257": {
          "model_module": "@jupyter-widgets/controls",
          "model_name": "DescriptionStyleModel",
          "model_module_version": "1.5.0",
          "state": {
            "_model_module": "@jupyter-widgets/controls",
            "_model_module_version": "1.5.0",
            "_model_name": "DescriptionStyleModel",
            "_view_count": null,
            "_view_module": "@jupyter-widgets/base",
            "_view_module_version": "1.2.0",
            "_view_name": "StyleView",
            "description_width": ""
          }
        },
        "afe10bdcbb1f4e8ea322583bee37548b": {
          "model_module": "@jupyter-widgets/controls",
          "model_name": "HBoxModel",
          "model_module_version": "1.5.0",
          "state": {
            "_dom_classes": [],
            "_model_module": "@jupyter-widgets/controls",
            "_model_module_version": "1.5.0",
            "_model_name": "HBoxModel",
            "_view_count": null,
            "_view_module": "@jupyter-widgets/controls",
            "_view_module_version": "1.5.0",
            "_view_name": "HBoxView",
            "box_style": "",
            "children": [
              "IPY_MODEL_b24dfd6d01614656a8e692b2be9b6683",
              "IPY_MODEL_3a2c76e1ac32420b9e95cb7850ae01cf",
              "IPY_MODEL_5237504e9e3541ad8df4230a2021713e"
            ],
            "layout": "IPY_MODEL_cf03de6f3b49476e9d70a0ebade07939"
          }
        },
        "b24dfd6d01614656a8e692b2be9b6683": {
          "model_module": "@jupyter-widgets/controls",
          "model_name": "HTMLModel",
          "model_module_version": "1.5.0",
          "state": {
            "_dom_classes": [],
            "_model_module": "@jupyter-widgets/controls",
            "_model_module_version": "1.5.0",
            "_model_name": "HTMLModel",
            "_view_count": null,
            "_view_module": "@jupyter-widgets/controls",
            "_view_module_version": "1.5.0",
            "_view_name": "HTMLView",
            "description": "",
            "description_tooltip": null,
            "layout": "IPY_MODEL_541f4eff027c46d191d923324c06865f",
            "placeholder": "​",
            "style": "IPY_MODEL_50fbf027ec7042d9a63edbad0d5a5f08",
            "value": "Processing Posts: 100%"
          }
        },
        "3a2c76e1ac32420b9e95cb7850ae01cf": {
          "model_module": "@jupyter-widgets/controls",
          "model_name": "FloatProgressModel",
          "model_module_version": "1.5.0",
          "state": {
            "_dom_classes": [],
            "_model_module": "@jupyter-widgets/controls",
            "_model_module_version": "1.5.0",
            "_model_name": "FloatProgressModel",
            "_view_count": null,
            "_view_module": "@jupyter-widgets/controls",
            "_view_module_version": "1.5.0",
            "_view_name": "ProgressView",
            "bar_style": "success",
            "description": "",
            "description_tooltip": null,
            "layout": "IPY_MODEL_1412bb52787b48d0a04f77908f3670eb",
            "max": 11151,
            "min": 0,
            "orientation": "horizontal",
            "style": "IPY_MODEL_54bb448b2d644ded9c7d21c76d1719dc",
            "value": 11151
          }
        },
        "5237504e9e3541ad8df4230a2021713e": {
          "model_module": "@jupyter-widgets/controls",
          "model_name": "HTMLModel",
          "model_module_version": "1.5.0",
          "state": {
            "_dom_classes": [],
            "_model_module": "@jupyter-widgets/controls",
            "_model_module_version": "1.5.0",
            "_model_name": "HTMLModel",
            "_view_count": null,
            "_view_module": "@jupyter-widgets/controls",
            "_view_module_version": "1.5.0",
            "_view_name": "HTMLView",
            "description": "",
            "description_tooltip": null,
            "layout": "IPY_MODEL_c93ae5c7e5f44739ad1fb63fd5fc78ae",
            "placeholder": "​",
            "style": "IPY_MODEL_19b45d6e70a742059703bb4bdb491a1a",
            "value": " 11151/11151 [2:38:02&lt;00:00,  2.50it/s]"
          }
        },
        "cf03de6f3b49476e9d70a0ebade07939": {
          "model_module": "@jupyter-widgets/base",
          "model_name": "LayoutModel",
          "model_module_version": "1.2.0",
          "state": {
            "_model_module": "@jupyter-widgets/base",
            "_model_module_version": "1.2.0",
            "_model_name": "LayoutModel",
            "_view_count": null,
            "_view_module": "@jupyter-widgets/base",
            "_view_module_version": "1.2.0",
            "_view_name": "LayoutView",
            "align_content": null,
            "align_items": null,
            "align_self": null,
            "border": null,
            "bottom": null,
            "display": null,
            "flex": null,
            "flex_flow": null,
            "grid_area": null,
            "grid_auto_columns": null,
            "grid_auto_flow": null,
            "grid_auto_rows": null,
            "grid_column": null,
            "grid_gap": null,
            "grid_row": null,
            "grid_template_areas": null,
            "grid_template_columns": null,
            "grid_template_rows": null,
            "height": null,
            "justify_content": null,
            "justify_items": null,
            "left": null,
            "margin": null,
            "max_height": null,
            "max_width": null,
            "min_height": null,
            "min_width": null,
            "object_fit": null,
            "object_position": null,
            "order": null,
            "overflow": null,
            "overflow_x": null,
            "overflow_y": null,
            "padding": null,
            "right": null,
            "top": null,
            "visibility": null,
            "width": null
          }
        },
        "541f4eff027c46d191d923324c06865f": {
          "model_module": "@jupyter-widgets/base",
          "model_name": "LayoutModel",
          "model_module_version": "1.2.0",
          "state": {
            "_model_module": "@jupyter-widgets/base",
            "_model_module_version": "1.2.0",
            "_model_name": "LayoutModel",
            "_view_count": null,
            "_view_module": "@jupyter-widgets/base",
            "_view_module_version": "1.2.0",
            "_view_name": "LayoutView",
            "align_content": null,
            "align_items": null,
            "align_self": null,
            "border": null,
            "bottom": null,
            "display": null,
            "flex": null,
            "flex_flow": null,
            "grid_area": null,
            "grid_auto_columns": null,
            "grid_auto_flow": null,
            "grid_auto_rows": null,
            "grid_column": null,
            "grid_gap": null,
            "grid_row": null,
            "grid_template_areas": null,
            "grid_template_columns": null,
            "grid_template_rows": null,
            "height": null,
            "justify_content": null,
            "justify_items": null,
            "left": null,
            "margin": null,
            "max_height": null,
            "max_width": null,
            "min_height": null,
            "min_width": null,
            "object_fit": null,
            "object_position": null,
            "order": null,
            "overflow": null,
            "overflow_x": null,
            "overflow_y": null,
            "padding": null,
            "right": null,
            "top": null,
            "visibility": null,
            "width": null
          }
        },
        "50fbf027ec7042d9a63edbad0d5a5f08": {
          "model_module": "@jupyter-widgets/controls",
          "model_name": "DescriptionStyleModel",
          "model_module_version": "1.5.0",
          "state": {
            "_model_module": "@jupyter-widgets/controls",
            "_model_module_version": "1.5.0",
            "_model_name": "DescriptionStyleModel",
            "_view_count": null,
            "_view_module": "@jupyter-widgets/base",
            "_view_module_version": "1.2.0",
            "_view_name": "StyleView",
            "description_width": ""
          }
        },
        "1412bb52787b48d0a04f77908f3670eb": {
          "model_module": "@jupyter-widgets/base",
          "model_name": "LayoutModel",
          "model_module_version": "1.2.0",
          "state": {
            "_model_module": "@jupyter-widgets/base",
            "_model_module_version": "1.2.0",
            "_model_name": "LayoutModel",
            "_view_count": null,
            "_view_module": "@jupyter-widgets/base",
            "_view_module_version": "1.2.0",
            "_view_name": "LayoutView",
            "align_content": null,
            "align_items": null,
            "align_self": null,
            "border": null,
            "bottom": null,
            "display": null,
            "flex": null,
            "flex_flow": null,
            "grid_area": null,
            "grid_auto_columns": null,
            "grid_auto_flow": null,
            "grid_auto_rows": null,
            "grid_column": null,
            "grid_gap": null,
            "grid_row": null,
            "grid_template_areas": null,
            "grid_template_columns": null,
            "grid_template_rows": null,
            "height": null,
            "justify_content": null,
            "justify_items": null,
            "left": null,
            "margin": null,
            "max_height": null,
            "max_width": null,
            "min_height": null,
            "min_width": null,
            "object_fit": null,
            "object_position": null,
            "order": null,
            "overflow": null,
            "overflow_x": null,
            "overflow_y": null,
            "padding": null,
            "right": null,
            "top": null,
            "visibility": null,
            "width": null
          }
        },
        "54bb448b2d644ded9c7d21c76d1719dc": {
          "model_module": "@jupyter-widgets/controls",
          "model_name": "ProgressStyleModel",
          "model_module_version": "1.5.0",
          "state": {
            "_model_module": "@jupyter-widgets/controls",
            "_model_module_version": "1.5.0",
            "_model_name": "ProgressStyleModel",
            "_view_count": null,
            "_view_module": "@jupyter-widgets/base",
            "_view_module_version": "1.2.0",
            "_view_name": "StyleView",
            "bar_color": null,
            "description_width": ""
          }
        },
        "c93ae5c7e5f44739ad1fb63fd5fc78ae": {
          "model_module": "@jupyter-widgets/base",
          "model_name": "LayoutModel",
          "model_module_version": "1.2.0",
          "state": {
            "_model_module": "@jupyter-widgets/base",
            "_model_module_version": "1.2.0",
            "_model_name": "LayoutModel",
            "_view_count": null,
            "_view_module": "@jupyter-widgets/base",
            "_view_module_version": "1.2.0",
            "_view_name": "LayoutView",
            "align_content": null,
            "align_items": null,
            "align_self": null,
            "border": null,
            "bottom": null,
            "display": null,
            "flex": null,
            "flex_flow": null,
            "grid_area": null,
            "grid_auto_columns": null,
            "grid_auto_flow": null,
            "grid_auto_rows": null,
            "grid_column": null,
            "grid_gap": null,
            "grid_row": null,
            "grid_template_areas": null,
            "grid_template_columns": null,
            "grid_template_rows": null,
            "height": null,
            "justify_content": null,
            "justify_items": null,
            "left": null,
            "margin": null,
            "max_height": null,
            "max_width": null,
            "min_height": null,
            "min_width": null,
            "object_fit": null,
            "object_position": null,
            "order": null,
            "overflow": null,
            "overflow_x": null,
            "overflow_y": null,
            "padding": null,
            "right": null,
            "top": null,
            "visibility": null,
            "width": null
          }
        },
        "19b45d6e70a742059703bb4bdb491a1a": {
          "model_module": "@jupyter-widgets/controls",
          "model_name": "DescriptionStyleModel",
          "model_module_version": "1.5.0",
          "state": {
            "_model_module": "@jupyter-widgets/controls",
            "_model_module_version": "1.5.0",
            "_model_name": "DescriptionStyleModel",
            "_view_count": null,
            "_view_module": "@jupyter-widgets/base",
            "_view_module_version": "1.2.0",
            "_view_name": "StyleView",
            "description_width": ""
          }
        },
        "68c83528da00403a90e0253ecd7ffd1c": {
          "model_module": "@jupyter-widgets/controls",
          "model_name": "HBoxModel",
          "model_module_version": "1.5.0",
          "state": {
            "_dom_classes": [],
            "_model_module": "@jupyter-widgets/controls",
            "_model_module_version": "1.5.0",
            "_model_name": "HBoxModel",
            "_view_count": null,
            "_view_module": "@jupyter-widgets/controls",
            "_view_module_version": "1.5.0",
            "_view_name": "HBoxView",
            "box_style": "",
            "children": [
              "IPY_MODEL_ea97c9187a6747438a49640351a0720c",
              "IPY_MODEL_0245614123c14eb6bbc241de7b27d1db",
              "IPY_MODEL_7c83f35ad5f547b4bf2042c5187fdf2e"
            ],
            "layout": "IPY_MODEL_ed6312fe8b3f4591aad5b931b946cdac"
          }
        },
        "ea97c9187a6747438a49640351a0720c": {
          "model_module": "@jupyter-widgets/controls",
          "model_name": "HTMLModel",
          "model_module_version": "1.5.0",
          "state": {
            "_dom_classes": [],
            "_model_module": "@jupyter-widgets/controls",
            "_model_module_version": "1.5.0",
            "_model_name": "HTMLModel",
            "_view_count": null,
            "_view_module": "@jupyter-widgets/controls",
            "_view_module_version": "1.5.0",
            "_view_name": "HTMLView",
            "description": "",
            "description_tooltip": null,
            "layout": "IPY_MODEL_71f86d506a1a471b86640038b4131249",
            "placeholder": "​",
            "style": "IPY_MODEL_b789c51a152441b3a2bb32b2846b04cb",
            "value": "Map: 100%"
          }
        },
        "0245614123c14eb6bbc241de7b27d1db": {
          "model_module": "@jupyter-widgets/controls",
          "model_name": "FloatProgressModel",
          "model_module_version": "1.5.0",
          "state": {
            "_dom_classes": [],
            "_model_module": "@jupyter-widgets/controls",
            "_model_module_version": "1.5.0",
            "_model_name": "FloatProgressModel",
            "_view_count": null,
            "_view_module": "@jupyter-widgets/controls",
            "_view_module_version": "1.5.0",
            "_view_name": "ProgressView",
            "bar_style": "success",
            "description": "",
            "description_tooltip": null,
            "layout": "IPY_MODEL_725de1e4516b404689f0ab8bfe4fff5e",
            "max": 76,
            "min": 0,
            "orientation": "horizontal",
            "style": "IPY_MODEL_0ed11972b9dc4d01860aece4bd4c45b8",
            "value": 76
          }
        },
        "7c83f35ad5f547b4bf2042c5187fdf2e": {
          "model_module": "@jupyter-widgets/controls",
          "model_name": "HTMLModel",
          "model_module_version": "1.5.0",
          "state": {
            "_dom_classes": [],
            "_model_module": "@jupyter-widgets/controls",
            "_model_module_version": "1.5.0",
            "_model_name": "HTMLModel",
            "_view_count": null,
            "_view_module": "@jupyter-widgets/controls",
            "_view_module_version": "1.5.0",
            "_view_name": "HTMLView",
            "description": "",
            "description_tooltip": null,
            "layout": "IPY_MODEL_9d09e797b417470c89eeba840be17153",
            "placeholder": "​",
            "style": "IPY_MODEL_0b7b84ad0f834638b7626a512b0027f2",
            "value": " 76/76 [00:00&lt;00:00, 968.22 examples/s]"
          }
        },
        "ed6312fe8b3f4591aad5b931b946cdac": {
          "model_module": "@jupyter-widgets/base",
          "model_name": "LayoutModel",
          "model_module_version": "1.2.0",
          "state": {
            "_model_module": "@jupyter-widgets/base",
            "_model_module_version": "1.2.0",
            "_model_name": "LayoutModel",
            "_view_count": null,
            "_view_module": "@jupyter-widgets/base",
            "_view_module_version": "1.2.0",
            "_view_name": "LayoutView",
            "align_content": null,
            "align_items": null,
            "align_self": null,
            "border": null,
            "bottom": null,
            "display": null,
            "flex": null,
            "flex_flow": null,
            "grid_area": null,
            "grid_auto_columns": null,
            "grid_auto_flow": null,
            "grid_auto_rows": null,
            "grid_column": null,
            "grid_gap": null,
            "grid_row": null,
            "grid_template_areas": null,
            "grid_template_columns": null,
            "grid_template_rows": null,
            "height": null,
            "justify_content": null,
            "justify_items": null,
            "left": null,
            "margin": null,
            "max_height": null,
            "max_width": null,
            "min_height": null,
            "min_width": null,
            "object_fit": null,
            "object_position": null,
            "order": null,
            "overflow": null,
            "overflow_x": null,
            "overflow_y": null,
            "padding": null,
            "right": null,
            "top": null,
            "visibility": null,
            "width": null
          }
        },
        "71f86d506a1a471b86640038b4131249": {
          "model_module": "@jupyter-widgets/base",
          "model_name": "LayoutModel",
          "model_module_version": "1.2.0",
          "state": {
            "_model_module": "@jupyter-widgets/base",
            "_model_module_version": "1.2.0",
            "_model_name": "LayoutModel",
            "_view_count": null,
            "_view_module": "@jupyter-widgets/base",
            "_view_module_version": "1.2.0",
            "_view_name": "LayoutView",
            "align_content": null,
            "align_items": null,
            "align_self": null,
            "border": null,
            "bottom": null,
            "display": null,
            "flex": null,
            "flex_flow": null,
            "grid_area": null,
            "grid_auto_columns": null,
            "grid_auto_flow": null,
            "grid_auto_rows": null,
            "grid_column": null,
            "grid_gap": null,
            "grid_row": null,
            "grid_template_areas": null,
            "grid_template_columns": null,
            "grid_template_rows": null,
            "height": null,
            "justify_content": null,
            "justify_items": null,
            "left": null,
            "margin": null,
            "max_height": null,
            "max_width": null,
            "min_height": null,
            "min_width": null,
            "object_fit": null,
            "object_position": null,
            "order": null,
            "overflow": null,
            "overflow_x": null,
            "overflow_y": null,
            "padding": null,
            "right": null,
            "top": null,
            "visibility": null,
            "width": null
          }
        },
        "b789c51a152441b3a2bb32b2846b04cb": {
          "model_module": "@jupyter-widgets/controls",
          "model_name": "DescriptionStyleModel",
          "model_module_version": "1.5.0",
          "state": {
            "_model_module": "@jupyter-widgets/controls",
            "_model_module_version": "1.5.0",
            "_model_name": "DescriptionStyleModel",
            "_view_count": null,
            "_view_module": "@jupyter-widgets/base",
            "_view_module_version": "1.2.0",
            "_view_name": "StyleView",
            "description_width": ""
          }
        },
        "725de1e4516b404689f0ab8bfe4fff5e": {
          "model_module": "@jupyter-widgets/base",
          "model_name": "LayoutModel",
          "model_module_version": "1.2.0",
          "state": {
            "_model_module": "@jupyter-widgets/base",
            "_model_module_version": "1.2.0",
            "_model_name": "LayoutModel",
            "_view_count": null,
            "_view_module": "@jupyter-widgets/base",
            "_view_module_version": "1.2.0",
            "_view_name": "LayoutView",
            "align_content": null,
            "align_items": null,
            "align_self": null,
            "border": null,
            "bottom": null,
            "display": null,
            "flex": null,
            "flex_flow": null,
            "grid_area": null,
            "grid_auto_columns": null,
            "grid_auto_flow": null,
            "grid_auto_rows": null,
            "grid_column": null,
            "grid_gap": null,
            "grid_row": null,
            "grid_template_areas": null,
            "grid_template_columns": null,
            "grid_template_rows": null,
            "height": null,
            "justify_content": null,
            "justify_items": null,
            "left": null,
            "margin": null,
            "max_height": null,
            "max_width": null,
            "min_height": null,
            "min_width": null,
            "object_fit": null,
            "object_position": null,
            "order": null,
            "overflow": null,
            "overflow_x": null,
            "overflow_y": null,
            "padding": null,
            "right": null,
            "top": null,
            "visibility": null,
            "width": null
          }
        },
        "0ed11972b9dc4d01860aece4bd4c45b8": {
          "model_module": "@jupyter-widgets/controls",
          "model_name": "ProgressStyleModel",
          "model_module_version": "1.5.0",
          "state": {
            "_model_module": "@jupyter-widgets/controls",
            "_model_module_version": "1.5.0",
            "_model_name": "ProgressStyleModel",
            "_view_count": null,
            "_view_module": "@jupyter-widgets/base",
            "_view_module_version": "1.2.0",
            "_view_name": "StyleView",
            "bar_color": null,
            "description_width": ""
          }
        },
        "9d09e797b417470c89eeba840be17153": {
          "model_module": "@jupyter-widgets/base",
          "model_name": "LayoutModel",
          "model_module_version": "1.2.0",
          "state": {
            "_model_module": "@jupyter-widgets/base",
            "_model_module_version": "1.2.0",
            "_model_name": "LayoutModel",
            "_view_count": null,
            "_view_module": "@jupyter-widgets/base",
            "_view_module_version": "1.2.0",
            "_view_name": "LayoutView",
            "align_content": null,
            "align_items": null,
            "align_self": null,
            "border": null,
            "bottom": null,
            "display": null,
            "flex": null,
            "flex_flow": null,
            "grid_area": null,
            "grid_auto_columns": null,
            "grid_auto_flow": null,
            "grid_auto_rows": null,
            "grid_column": null,
            "grid_gap": null,
            "grid_row": null,
            "grid_template_areas": null,
            "grid_template_columns": null,
            "grid_template_rows": null,
            "height": null,
            "justify_content": null,
            "justify_items": null,
            "left": null,
            "margin": null,
            "max_height": null,
            "max_width": null,
            "min_height": null,
            "min_width": null,
            "object_fit": null,
            "object_position": null,
            "order": null,
            "overflow": null,
            "overflow_x": null,
            "overflow_y": null,
            "padding": null,
            "right": null,
            "top": null,
            "visibility": null,
            "width": null
          }
        },
        "0b7b84ad0f834638b7626a512b0027f2": {
          "model_module": "@jupyter-widgets/controls",
          "model_name": "DescriptionStyleModel",
          "model_module_version": "1.5.0",
          "state": {
            "_model_module": "@jupyter-widgets/controls",
            "_model_module_version": "1.5.0",
            "_model_name": "DescriptionStyleModel",
            "_view_count": null,
            "_view_module": "@jupyter-widgets/base",
            "_view_module_version": "1.2.0",
            "_view_name": "StyleView",
            "description_width": ""
          }
        },
        "cb9fb1f26b3840228df5d3c3a56290f8": {
          "model_module": "@jupyter-widgets/controls",
          "model_name": "HBoxModel",
          "model_module_version": "1.5.0",
          "state": {
            "_dom_classes": [],
            "_model_module": "@jupyter-widgets/controls",
            "_model_module_version": "1.5.0",
            "_model_name": "HBoxModel",
            "_view_count": null,
            "_view_module": "@jupyter-widgets/controls",
            "_view_module_version": "1.5.0",
            "_view_name": "HBoxView",
            "box_style": "",
            "children": [
              "IPY_MODEL_ffd704bd127d44b2a30d1338217ce2fe",
              "IPY_MODEL_ec222fa4339a4963a2994482bc893598",
              "IPY_MODEL_c2aecfcb3a094df6aa8c8e9b2686ef60"
            ],
            "layout": "IPY_MODEL_8eb38e264ff54a5b8bb702661001199f"
          }
        },
        "ffd704bd127d44b2a30d1338217ce2fe": {
          "model_module": "@jupyter-widgets/controls",
          "model_name": "HTMLModel",
          "model_module_version": "1.5.0",
          "state": {
            "_dom_classes": [],
            "_model_module": "@jupyter-widgets/controls",
            "_model_module_version": "1.5.0",
            "_model_name": "HTMLModel",
            "_view_count": null,
            "_view_module": "@jupyter-widgets/controls",
            "_view_module_version": "1.5.0",
            "_view_name": "HTMLView",
            "description": "",
            "description_tooltip": null,
            "layout": "IPY_MODEL_f588d7f9978540e7b11c0b396b2b2224",
            "placeholder": "​",
            "style": "IPY_MODEL_c6114a48dccb4d8dbdd1b64c3a7cc6be",
            "value": "Downloading builder script: 100%"
          }
        },
        "ec222fa4339a4963a2994482bc893598": {
          "model_module": "@jupyter-widgets/controls",
          "model_name": "FloatProgressModel",
          "model_module_version": "1.5.0",
          "state": {
            "_dom_classes": [],
            "_model_module": "@jupyter-widgets/controls",
            "_model_module_version": "1.5.0",
            "_model_name": "FloatProgressModel",
            "_view_count": null,
            "_view_module": "@jupyter-widgets/controls",
            "_view_module_version": "1.5.0",
            "_view_name": "ProgressView",
            "bar_style": "success",
            "description": "",
            "description_tooltip": null,
            "layout": "IPY_MODEL_59617b6036c74d7ba36f0b7c808aaa0a",
            "max": 4203,
            "min": 0,
            "orientation": "horizontal",
            "style": "IPY_MODEL_6db22d6cfde94b28bb00ab3785f4c60b",
            "value": 4203
          }
        },
        "c2aecfcb3a094df6aa8c8e9b2686ef60": {
          "model_module": "@jupyter-widgets/controls",
          "model_name": "HTMLModel",
          "model_module_version": "1.5.0",
          "state": {
            "_dom_classes": [],
            "_model_module": "@jupyter-widgets/controls",
            "_model_module_version": "1.5.0",
            "_model_name": "HTMLModel",
            "_view_count": null,
            "_view_module": "@jupyter-widgets/controls",
            "_view_module_version": "1.5.0",
            "_view_name": "HTMLView",
            "description": "",
            "description_tooltip": null,
            "layout": "IPY_MODEL_d4f83386af3f40ae96846c3d18f41afb",
            "placeholder": "​",
            "style": "IPY_MODEL_9049f31ff0f640309ce2e177b9e9dd34",
            "value": " 4.20k/4.20k [00:00&lt;00:00, 159kB/s]"
          }
        },
        "8eb38e264ff54a5b8bb702661001199f": {
          "model_module": "@jupyter-widgets/base",
          "model_name": "LayoutModel",
          "model_module_version": "1.2.0",
          "state": {
            "_model_module": "@jupyter-widgets/base",
            "_model_module_version": "1.2.0",
            "_model_name": "LayoutModel",
            "_view_count": null,
            "_view_module": "@jupyter-widgets/base",
            "_view_module_version": "1.2.0",
            "_view_name": "LayoutView",
            "align_content": null,
            "align_items": null,
            "align_self": null,
            "border": null,
            "bottom": null,
            "display": null,
            "flex": null,
            "flex_flow": null,
            "grid_area": null,
            "grid_auto_columns": null,
            "grid_auto_flow": null,
            "grid_auto_rows": null,
            "grid_column": null,
            "grid_gap": null,
            "grid_row": null,
            "grid_template_areas": null,
            "grid_template_columns": null,
            "grid_template_rows": null,
            "height": null,
            "justify_content": null,
            "justify_items": null,
            "left": null,
            "margin": null,
            "max_height": null,
            "max_width": null,
            "min_height": null,
            "min_width": null,
            "object_fit": null,
            "object_position": null,
            "order": null,
            "overflow": null,
            "overflow_x": null,
            "overflow_y": null,
            "padding": null,
            "right": null,
            "top": null,
            "visibility": null,
            "width": null
          }
        },
        "f588d7f9978540e7b11c0b396b2b2224": {
          "model_module": "@jupyter-widgets/base",
          "model_name": "LayoutModel",
          "model_module_version": "1.2.0",
          "state": {
            "_model_module": "@jupyter-widgets/base",
            "_model_module_version": "1.2.0",
            "_model_name": "LayoutModel",
            "_view_count": null,
            "_view_module": "@jupyter-widgets/base",
            "_view_module_version": "1.2.0",
            "_view_name": "LayoutView",
            "align_content": null,
            "align_items": null,
            "align_self": null,
            "border": null,
            "bottom": null,
            "display": null,
            "flex": null,
            "flex_flow": null,
            "grid_area": null,
            "grid_auto_columns": null,
            "grid_auto_flow": null,
            "grid_auto_rows": null,
            "grid_column": null,
            "grid_gap": null,
            "grid_row": null,
            "grid_template_areas": null,
            "grid_template_columns": null,
            "grid_template_rows": null,
            "height": null,
            "justify_content": null,
            "justify_items": null,
            "left": null,
            "margin": null,
            "max_height": null,
            "max_width": null,
            "min_height": null,
            "min_width": null,
            "object_fit": null,
            "object_position": null,
            "order": null,
            "overflow": null,
            "overflow_x": null,
            "overflow_y": null,
            "padding": null,
            "right": null,
            "top": null,
            "visibility": null,
            "width": null
          }
        },
        "c6114a48dccb4d8dbdd1b64c3a7cc6be": {
          "model_module": "@jupyter-widgets/controls",
          "model_name": "DescriptionStyleModel",
          "model_module_version": "1.5.0",
          "state": {
            "_model_module": "@jupyter-widgets/controls",
            "_model_module_version": "1.5.0",
            "_model_name": "DescriptionStyleModel",
            "_view_count": null,
            "_view_module": "@jupyter-widgets/base",
            "_view_module_version": "1.2.0",
            "_view_name": "StyleView",
            "description_width": ""
          }
        },
        "59617b6036c74d7ba36f0b7c808aaa0a": {
          "model_module": "@jupyter-widgets/base",
          "model_name": "LayoutModel",
          "model_module_version": "1.2.0",
          "state": {
            "_model_module": "@jupyter-widgets/base",
            "_model_module_version": "1.2.0",
            "_model_name": "LayoutModel",
            "_view_count": null,
            "_view_module": "@jupyter-widgets/base",
            "_view_module_version": "1.2.0",
            "_view_name": "LayoutView",
            "align_content": null,
            "align_items": null,
            "align_self": null,
            "border": null,
            "bottom": null,
            "display": null,
            "flex": null,
            "flex_flow": null,
            "grid_area": null,
            "grid_auto_columns": null,
            "grid_auto_flow": null,
            "grid_auto_rows": null,
            "grid_column": null,
            "grid_gap": null,
            "grid_row": null,
            "grid_template_areas": null,
            "grid_template_columns": null,
            "grid_template_rows": null,
            "height": null,
            "justify_content": null,
            "justify_items": null,
            "left": null,
            "margin": null,
            "max_height": null,
            "max_width": null,
            "min_height": null,
            "min_width": null,
            "object_fit": null,
            "object_position": null,
            "order": null,
            "overflow": null,
            "overflow_x": null,
            "overflow_y": null,
            "padding": null,
            "right": null,
            "top": null,
            "visibility": null,
            "width": null
          }
        },
        "6db22d6cfde94b28bb00ab3785f4c60b": {
          "model_module": "@jupyter-widgets/controls",
          "model_name": "ProgressStyleModel",
          "model_module_version": "1.5.0",
          "state": {
            "_model_module": "@jupyter-widgets/controls",
            "_model_module_version": "1.5.0",
            "_model_name": "ProgressStyleModel",
            "_view_count": null,
            "_view_module": "@jupyter-widgets/base",
            "_view_module_version": "1.2.0",
            "_view_name": "StyleView",
            "bar_color": null,
            "description_width": ""
          }
        },
        "d4f83386af3f40ae96846c3d18f41afb": {
          "model_module": "@jupyter-widgets/base",
          "model_name": "LayoutModel",
          "model_module_version": "1.2.0",
          "state": {
            "_model_module": "@jupyter-widgets/base",
            "_model_module_version": "1.2.0",
            "_model_name": "LayoutModel",
            "_view_count": null,
            "_view_module": "@jupyter-widgets/base",
            "_view_module_version": "1.2.0",
            "_view_name": "LayoutView",
            "align_content": null,
            "align_items": null,
            "align_self": null,
            "border": null,
            "bottom": null,
            "display": null,
            "flex": null,
            "flex_flow": null,
            "grid_area": null,
            "grid_auto_columns": null,
            "grid_auto_flow": null,
            "grid_auto_rows": null,
            "grid_column": null,
            "grid_gap": null,
            "grid_row": null,
            "grid_template_areas": null,
            "grid_template_columns": null,
            "grid_template_rows": null,
            "height": null,
            "justify_content": null,
            "justify_items": null,
            "left": null,
            "margin": null,
            "max_height": null,
            "max_width": null,
            "min_height": null,
            "min_width": null,
            "object_fit": null,
            "object_position": null,
            "order": null,
            "overflow": null,
            "overflow_x": null,
            "overflow_y": null,
            "padding": null,
            "right": null,
            "top": null,
            "visibility": null,
            "width": null
          }
        },
        "9049f31ff0f640309ce2e177b9e9dd34": {
          "model_module": "@jupyter-widgets/controls",
          "model_name": "DescriptionStyleModel",
          "model_module_version": "1.5.0",
          "state": {
            "_model_module": "@jupyter-widgets/controls",
            "_model_module_version": "1.5.0",
            "_model_name": "DescriptionStyleModel",
            "_view_count": null,
            "_view_module": "@jupyter-widgets/base",
            "_view_module_version": "1.2.0",
            "_view_name": "StyleView",
            "description_width": ""
          }
        },
        "421127ba11664942a26ae0f9485714f7": {
          "model_module": "@jupyter-widgets/controls",
          "model_name": "HBoxModel",
          "model_module_version": "1.5.0",
          "state": {
            "_dom_classes": [],
            "_model_module": "@jupyter-widgets/controls",
            "_model_module_version": "1.5.0",
            "_model_name": "HBoxModel",
            "_view_count": null,
            "_view_module": "@jupyter-widgets/controls",
            "_view_module_version": "1.5.0",
            "_view_name": "HBoxView",
            "box_style": "",
            "children": [
              "IPY_MODEL_46d66682da614e6990ef94ba3ce8774e",
              "IPY_MODEL_f299e651efc944b18d4fd32d258651af",
              "IPY_MODEL_a702c96b33e7407793328918de283073"
            ],
            "layout": "IPY_MODEL_1117c85bb45643d782f7d57318b25148"
          }
        },
        "46d66682da614e6990ef94ba3ce8774e": {
          "model_module": "@jupyter-widgets/controls",
          "model_name": "HTMLModel",
          "model_module_version": "1.5.0",
          "state": {
            "_dom_classes": [],
            "_model_module": "@jupyter-widgets/controls",
            "_model_module_version": "1.5.0",
            "_model_name": "HTMLModel",
            "_view_count": null,
            "_view_module": "@jupyter-widgets/controls",
            "_view_module_version": "1.5.0",
            "_view_name": "HTMLView",
            "description": "",
            "description_tooltip": null,
            "layout": "IPY_MODEL_2a8fb37f1a6040a3bb7086d1453ace1b",
            "placeholder": "​",
            "style": "IPY_MODEL_46e1b03b7aad47e1bd812a6770e07418",
            "value": "  1%"
          }
        },
        "f299e651efc944b18d4fd32d258651af": {
          "model_module": "@jupyter-widgets/controls",
          "model_name": "FloatProgressModel",
          "model_module_version": "1.5.0",
          "state": {
            "_dom_classes": [],
            "_model_module": "@jupyter-widgets/controls",
            "_model_module_version": "1.5.0",
            "_model_name": "FloatProgressModel",
            "_view_count": null,
            "_view_module": "@jupyter-widgets/controls",
            "_view_module_version": "1.5.0",
            "_view_name": "ProgressView",
            "bar_style": "",
            "description": "",
            "description_tooltip": null,
            "layout": "IPY_MODEL_a969c0d39b22410093febb620c594c2e",
            "max": 11151,
            "min": 0,
            "orientation": "horizontal",
            "style": "IPY_MODEL_1564e6ce00894a43943e7d04ddf5f818",
            "value": 59
          }
        },
        "a702c96b33e7407793328918de283073": {
          "model_module": "@jupyter-widgets/controls",
          "model_name": "HTMLModel",
          "model_module_version": "1.5.0",
          "state": {
            "_dom_classes": [],
            "_model_module": "@jupyter-widgets/controls",
            "_model_module_version": "1.5.0",
            "_model_name": "HTMLModel",
            "_view_count": null,
            "_view_module": "@jupyter-widgets/controls",
            "_view_module_version": "1.5.0",
            "_view_name": "HTMLView",
            "description": "",
            "description_tooltip": null,
            "layout": "IPY_MODEL_3549706fdacc4eb0afdbf5dd52b1deaf",
            "placeholder": "​",
            "style": "IPY_MODEL_d2f5d0d6b56f4dffb591c9765976e493",
            "value": " 59/11151 [00:55&lt;2:51:55,  1.08it/s]"
          }
        },
        "1117c85bb45643d782f7d57318b25148": {
          "model_module": "@jupyter-widgets/base",
          "model_name": "LayoutModel",
          "model_module_version": "1.2.0",
          "state": {
            "_model_module": "@jupyter-widgets/base",
            "_model_module_version": "1.2.0",
            "_model_name": "LayoutModel",
            "_view_count": null,
            "_view_module": "@jupyter-widgets/base",
            "_view_module_version": "1.2.0",
            "_view_name": "LayoutView",
            "align_content": null,
            "align_items": null,
            "align_self": null,
            "border": null,
            "bottom": null,
            "display": null,
            "flex": null,
            "flex_flow": null,
            "grid_area": null,
            "grid_auto_columns": null,
            "grid_auto_flow": null,
            "grid_auto_rows": null,
            "grid_column": null,
            "grid_gap": null,
            "grid_row": null,
            "grid_template_areas": null,
            "grid_template_columns": null,
            "grid_template_rows": null,
            "height": null,
            "justify_content": null,
            "justify_items": null,
            "left": null,
            "margin": null,
            "max_height": null,
            "max_width": null,
            "min_height": null,
            "min_width": null,
            "object_fit": null,
            "object_position": null,
            "order": null,
            "overflow": null,
            "overflow_x": null,
            "overflow_y": null,
            "padding": null,
            "right": null,
            "top": null,
            "visibility": null,
            "width": null
          }
        },
        "2a8fb37f1a6040a3bb7086d1453ace1b": {
          "model_module": "@jupyter-widgets/base",
          "model_name": "LayoutModel",
          "model_module_version": "1.2.0",
          "state": {
            "_model_module": "@jupyter-widgets/base",
            "_model_module_version": "1.2.0",
            "_model_name": "LayoutModel",
            "_view_count": null,
            "_view_module": "@jupyter-widgets/base",
            "_view_module_version": "1.2.0",
            "_view_name": "LayoutView",
            "align_content": null,
            "align_items": null,
            "align_self": null,
            "border": null,
            "bottom": null,
            "display": null,
            "flex": null,
            "flex_flow": null,
            "grid_area": null,
            "grid_auto_columns": null,
            "grid_auto_flow": null,
            "grid_auto_rows": null,
            "grid_column": null,
            "grid_gap": null,
            "grid_row": null,
            "grid_template_areas": null,
            "grid_template_columns": null,
            "grid_template_rows": null,
            "height": null,
            "justify_content": null,
            "justify_items": null,
            "left": null,
            "margin": null,
            "max_height": null,
            "max_width": null,
            "min_height": null,
            "min_width": null,
            "object_fit": null,
            "object_position": null,
            "order": null,
            "overflow": null,
            "overflow_x": null,
            "overflow_y": null,
            "padding": null,
            "right": null,
            "top": null,
            "visibility": null,
            "width": null
          }
        },
        "46e1b03b7aad47e1bd812a6770e07418": {
          "model_module": "@jupyter-widgets/controls",
          "model_name": "DescriptionStyleModel",
          "model_module_version": "1.5.0",
          "state": {
            "_model_module": "@jupyter-widgets/controls",
            "_model_module_version": "1.5.0",
            "_model_name": "DescriptionStyleModel",
            "_view_count": null,
            "_view_module": "@jupyter-widgets/base",
            "_view_module_version": "1.2.0",
            "_view_name": "StyleView",
            "description_width": ""
          }
        },
        "a969c0d39b22410093febb620c594c2e": {
          "model_module": "@jupyter-widgets/base",
          "model_name": "LayoutModel",
          "model_module_version": "1.2.0",
          "state": {
            "_model_module": "@jupyter-widgets/base",
            "_model_module_version": "1.2.0",
            "_model_name": "LayoutModel",
            "_view_count": null,
            "_view_module": "@jupyter-widgets/base",
            "_view_module_version": "1.2.0",
            "_view_name": "LayoutView",
            "align_content": null,
            "align_items": null,
            "align_self": null,
            "border": null,
            "bottom": null,
            "display": null,
            "flex": null,
            "flex_flow": null,
            "grid_area": null,
            "grid_auto_columns": null,
            "grid_auto_flow": null,
            "grid_auto_rows": null,
            "grid_column": null,
            "grid_gap": null,
            "grid_row": null,
            "grid_template_areas": null,
            "grid_template_columns": null,
            "grid_template_rows": null,
            "height": null,
            "justify_content": null,
            "justify_items": null,
            "left": null,
            "margin": null,
            "max_height": null,
            "max_width": null,
            "min_height": null,
            "min_width": null,
            "object_fit": null,
            "object_position": null,
            "order": null,
            "overflow": null,
            "overflow_x": null,
            "overflow_y": null,
            "padding": null,
            "right": null,
            "top": null,
            "visibility": null,
            "width": null
          }
        },
        "1564e6ce00894a43943e7d04ddf5f818": {
          "model_module": "@jupyter-widgets/controls",
          "model_name": "ProgressStyleModel",
          "model_module_version": "1.5.0",
          "state": {
            "_model_module": "@jupyter-widgets/controls",
            "_model_module_version": "1.5.0",
            "_model_name": "ProgressStyleModel",
            "_view_count": null,
            "_view_module": "@jupyter-widgets/base",
            "_view_module_version": "1.2.0",
            "_view_name": "StyleView",
            "bar_color": null,
            "description_width": ""
          }
        },
        "3549706fdacc4eb0afdbf5dd52b1deaf": {
          "model_module": "@jupyter-widgets/base",
          "model_name": "LayoutModel",
          "model_module_version": "1.2.0",
          "state": {
            "_model_module": "@jupyter-widgets/base",
            "_model_module_version": "1.2.0",
            "_model_name": "LayoutModel",
            "_view_count": null,
            "_view_module": "@jupyter-widgets/base",
            "_view_module_version": "1.2.0",
            "_view_name": "LayoutView",
            "align_content": null,
            "align_items": null,
            "align_self": null,
            "border": null,
            "bottom": null,
            "display": null,
            "flex": null,
            "flex_flow": null,
            "grid_area": null,
            "grid_auto_columns": null,
            "grid_auto_flow": null,
            "grid_auto_rows": null,
            "grid_column": null,
            "grid_gap": null,
            "grid_row": null,
            "grid_template_areas": null,
            "grid_template_columns": null,
            "grid_template_rows": null,
            "height": null,
            "justify_content": null,
            "justify_items": null,
            "left": null,
            "margin": null,
            "max_height": null,
            "max_width": null,
            "min_height": null,
            "min_width": null,
            "object_fit": null,
            "object_position": null,
            "order": null,
            "overflow": null,
            "overflow_x": null,
            "overflow_y": null,
            "padding": null,
            "right": null,
            "top": null,
            "visibility": null,
            "width": null
          }
        },
        "d2f5d0d6b56f4dffb591c9765976e493": {
          "model_module": "@jupyter-widgets/controls",
          "model_name": "DescriptionStyleModel",
          "model_module_version": "1.5.0",
          "state": {
            "_model_module": "@jupyter-widgets/controls",
            "_model_module_version": "1.5.0",
            "_model_name": "DescriptionStyleModel",
            "_view_count": null,
            "_view_module": "@jupyter-widgets/base",
            "_view_module_version": "1.2.0",
            "_view_name": "StyleView",
            "description_width": ""
          }
        }
      }
    }
  },
  "cells": [
    {
      "cell_type": "markdown",
      "metadata": {
        "id": "view-in-github",
        "colab_type": "text"
      },
      "source": [
        "<a href=\"https://colab.research.google.com/github/alex-jk/SWB-GVCEH/blob/main/models/relevance_model/Reddit_Relevancy_Models_Final.ipynb\" target=\"_parent\"><img src=\"https://colab.research.google.com/assets/colab-badge.svg\" alt=\"Open In Colab\"/></a>"
      ]
    },
    {
      "cell_type": "markdown",
      "source": [
        "##### Install and import necessary libraries"
      ],
      "metadata": {
        "id": "iym9EbbSCyNt"
      }
    },
    {
      "cell_type": "code",
      "execution_count": 2,
      "metadata": {
        "id": "mP3XCNlV0q7Q",
        "colab": {
          "base_uri": "https://localhost:8080/"
        },
        "outputId": "0796aeed-7384-4a1d-ffce-89056f4563b4"
      },
      "outputs": [
        {
          "output_type": "stream",
          "name": "stdout",
          "text": [
            "Requirement already satisfied: setfit in /usr/local/lib/python3.10/dist-packages (1.0.3)\n",
            "Requirement already satisfied: datasets>=2.3.0 in /usr/local/lib/python3.10/dist-packages (from setfit) (2.18.0)\n",
            "Requirement already satisfied: sentence-transformers>=2.2.1 in /usr/local/lib/python3.10/dist-packages (from setfit) (2.5.1)\n",
            "Requirement already satisfied: evaluate>=0.3.0 in /usr/local/lib/python3.10/dist-packages (from setfit) (0.4.1)\n",
            "Requirement already satisfied: huggingface-hub>=0.13.0 in /usr/local/lib/python3.10/dist-packages (from setfit) (0.20.3)\n",
            "Requirement already satisfied: scikit-learn in /usr/local/lib/python3.10/dist-packages (from setfit) (1.2.2)\n",
            "Requirement already satisfied: packaging in /usr/local/lib/python3.10/dist-packages (from setfit) (24.0)\n",
            "Requirement already satisfied: filelock in /usr/local/lib/python3.10/dist-packages (from datasets>=2.3.0->setfit) (3.13.1)\n",
            "Requirement already satisfied: numpy>=1.17 in /usr/local/lib/python3.10/dist-packages (from datasets>=2.3.0->setfit) (1.25.2)\n",
            "Requirement already satisfied: pyarrow>=12.0.0 in /usr/local/lib/python3.10/dist-packages (from datasets>=2.3.0->setfit) (14.0.2)\n",
            "Requirement already satisfied: pyarrow-hotfix in /usr/local/lib/python3.10/dist-packages (from datasets>=2.3.0->setfit) (0.6)\n",
            "Requirement already satisfied: dill<0.3.9,>=0.3.0 in /usr/local/lib/python3.10/dist-packages (from datasets>=2.3.0->setfit) (0.3.8)\n",
            "Requirement already satisfied: pandas in /usr/local/lib/python3.10/dist-packages (from datasets>=2.3.0->setfit) (1.5.3)\n",
            "Requirement already satisfied: requests>=2.19.0 in /usr/local/lib/python3.10/dist-packages (from datasets>=2.3.0->setfit) (2.31.0)\n",
            "Requirement already satisfied: tqdm>=4.62.1 in /usr/local/lib/python3.10/dist-packages (from datasets>=2.3.0->setfit) (4.66.2)\n",
            "Requirement already satisfied: xxhash in /usr/local/lib/python3.10/dist-packages (from datasets>=2.3.0->setfit) (3.4.1)\n",
            "Requirement already satisfied: multiprocess in /usr/local/lib/python3.10/dist-packages (from datasets>=2.3.0->setfit) (0.70.16)\n",
            "Requirement already satisfied: fsspec[http]<=2024.2.0,>=2023.1.0 in /usr/local/lib/python3.10/dist-packages (from datasets>=2.3.0->setfit) (2023.6.0)\n",
            "Requirement already satisfied: aiohttp in /usr/local/lib/python3.10/dist-packages (from datasets>=2.3.0->setfit) (3.9.3)\n",
            "Requirement already satisfied: pyyaml>=5.1 in /usr/local/lib/python3.10/dist-packages (from datasets>=2.3.0->setfit) (6.0.1)\n",
            "Requirement already satisfied: responses<0.19 in /usr/local/lib/python3.10/dist-packages (from evaluate>=0.3.0->setfit) (0.18.0)\n",
            "Requirement already satisfied: typing-extensions>=3.7.4.3 in /usr/local/lib/python3.10/dist-packages (from huggingface-hub>=0.13.0->setfit) (4.10.0)\n",
            "Requirement already satisfied: transformers<5.0.0,>=4.32.0 in /usr/local/lib/python3.10/dist-packages (from sentence-transformers>=2.2.1->setfit) (4.38.2)\n",
            "Requirement already satisfied: torch>=1.11.0 in /usr/local/lib/python3.10/dist-packages (from sentence-transformers>=2.2.1->setfit) (2.2.1+cu121)\n",
            "Requirement already satisfied: scipy in /usr/local/lib/python3.10/dist-packages (from sentence-transformers>=2.2.1->setfit) (1.11.4)\n",
            "Requirement already satisfied: Pillow in /usr/local/lib/python3.10/dist-packages (from sentence-transformers>=2.2.1->setfit) (9.4.0)\n",
            "Requirement already satisfied: joblib>=1.1.1 in /usr/local/lib/python3.10/dist-packages (from scikit-learn->setfit) (1.3.2)\n",
            "Requirement already satisfied: threadpoolctl>=2.0.0 in /usr/local/lib/python3.10/dist-packages (from scikit-learn->setfit) (3.3.0)\n",
            "Requirement already satisfied: aiosignal>=1.1.2 in /usr/local/lib/python3.10/dist-packages (from aiohttp->datasets>=2.3.0->setfit) (1.3.1)\n",
            "Requirement already satisfied: attrs>=17.3.0 in /usr/local/lib/python3.10/dist-packages (from aiohttp->datasets>=2.3.0->setfit) (23.2.0)\n",
            "Requirement already satisfied: frozenlist>=1.1.1 in /usr/local/lib/python3.10/dist-packages (from aiohttp->datasets>=2.3.0->setfit) (1.4.1)\n",
            "Requirement already satisfied: multidict<7.0,>=4.5 in /usr/local/lib/python3.10/dist-packages (from aiohttp->datasets>=2.3.0->setfit) (6.0.5)\n",
            "Requirement already satisfied: yarl<2.0,>=1.0 in /usr/local/lib/python3.10/dist-packages (from aiohttp->datasets>=2.3.0->setfit) (1.9.4)\n",
            "Requirement already satisfied: async-timeout<5.0,>=4.0 in /usr/local/lib/python3.10/dist-packages (from aiohttp->datasets>=2.3.0->setfit) (4.0.3)\n",
            "Requirement already satisfied: charset-normalizer<4,>=2 in /usr/local/lib/python3.10/dist-packages (from requests>=2.19.0->datasets>=2.3.0->setfit) (3.3.2)\n",
            "Requirement already satisfied: idna<4,>=2.5 in /usr/local/lib/python3.10/dist-packages (from requests>=2.19.0->datasets>=2.3.0->setfit) (3.6)\n",
            "Requirement already satisfied: urllib3<3,>=1.21.1 in /usr/local/lib/python3.10/dist-packages (from requests>=2.19.0->datasets>=2.3.0->setfit) (2.0.7)\n",
            "Requirement already satisfied: certifi>=2017.4.17 in /usr/local/lib/python3.10/dist-packages (from requests>=2.19.0->datasets>=2.3.0->setfit) (2024.2.2)\n",
            "Requirement already satisfied: sympy in /usr/local/lib/python3.10/dist-packages (from torch>=1.11.0->sentence-transformers>=2.2.1->setfit) (1.12)\n",
            "Requirement already satisfied: networkx in /usr/local/lib/python3.10/dist-packages (from torch>=1.11.0->sentence-transformers>=2.2.1->setfit) (3.2.1)\n",
            "Requirement already satisfied: jinja2 in /usr/local/lib/python3.10/dist-packages (from torch>=1.11.0->sentence-transformers>=2.2.1->setfit) (3.1.3)\n",
            "Requirement already satisfied: nvidia-cuda-nvrtc-cu12==12.1.105 in /usr/local/lib/python3.10/dist-packages (from torch>=1.11.0->sentence-transformers>=2.2.1->setfit) (12.1.105)\n",
            "Requirement already satisfied: nvidia-cuda-runtime-cu12==12.1.105 in /usr/local/lib/python3.10/dist-packages (from torch>=1.11.0->sentence-transformers>=2.2.1->setfit) (12.1.105)\n",
            "Requirement already satisfied: nvidia-cuda-cupti-cu12==12.1.105 in /usr/local/lib/python3.10/dist-packages (from torch>=1.11.0->sentence-transformers>=2.2.1->setfit) (12.1.105)\n",
            "Requirement already satisfied: nvidia-cudnn-cu12==8.9.2.26 in /usr/local/lib/python3.10/dist-packages (from torch>=1.11.0->sentence-transformers>=2.2.1->setfit) (8.9.2.26)\n",
            "Requirement already satisfied: nvidia-cublas-cu12==12.1.3.1 in /usr/local/lib/python3.10/dist-packages (from torch>=1.11.0->sentence-transformers>=2.2.1->setfit) (12.1.3.1)\n",
            "Requirement already satisfied: nvidia-cufft-cu12==11.0.2.54 in /usr/local/lib/python3.10/dist-packages (from torch>=1.11.0->sentence-transformers>=2.2.1->setfit) (11.0.2.54)\n",
            "Requirement already satisfied: nvidia-curand-cu12==10.3.2.106 in /usr/local/lib/python3.10/dist-packages (from torch>=1.11.0->sentence-transformers>=2.2.1->setfit) (10.3.2.106)\n",
            "Requirement already satisfied: nvidia-cusolver-cu12==11.4.5.107 in /usr/local/lib/python3.10/dist-packages (from torch>=1.11.0->sentence-transformers>=2.2.1->setfit) (11.4.5.107)\n",
            "Requirement already satisfied: nvidia-cusparse-cu12==12.1.0.106 in /usr/local/lib/python3.10/dist-packages (from torch>=1.11.0->sentence-transformers>=2.2.1->setfit) (12.1.0.106)\n",
            "Requirement already satisfied: nvidia-nccl-cu12==2.19.3 in /usr/local/lib/python3.10/dist-packages (from torch>=1.11.0->sentence-transformers>=2.2.1->setfit) (2.19.3)\n",
            "Requirement already satisfied: nvidia-nvtx-cu12==12.1.105 in /usr/local/lib/python3.10/dist-packages (from torch>=1.11.0->sentence-transformers>=2.2.1->setfit) (12.1.105)\n",
            "Requirement already satisfied: triton==2.2.0 in /usr/local/lib/python3.10/dist-packages (from torch>=1.11.0->sentence-transformers>=2.2.1->setfit) (2.2.0)\n",
            "Requirement already satisfied: nvidia-nvjitlink-cu12 in /usr/local/lib/python3.10/dist-packages (from nvidia-cusolver-cu12==11.4.5.107->torch>=1.11.0->sentence-transformers>=2.2.1->setfit) (12.4.99)\n",
            "Requirement already satisfied: regex!=2019.12.17 in /usr/local/lib/python3.10/dist-packages (from transformers<5.0.0,>=4.32.0->sentence-transformers>=2.2.1->setfit) (2023.12.25)\n",
            "Requirement already satisfied: tokenizers<0.19,>=0.14 in /usr/local/lib/python3.10/dist-packages (from transformers<5.0.0,>=4.32.0->sentence-transformers>=2.2.1->setfit) (0.15.2)\n",
            "Requirement already satisfied: safetensors>=0.4.1 in /usr/local/lib/python3.10/dist-packages (from transformers<5.0.0,>=4.32.0->sentence-transformers>=2.2.1->setfit) (0.4.2)\n",
            "Requirement already satisfied: python-dateutil>=2.8.1 in /usr/local/lib/python3.10/dist-packages (from pandas->datasets>=2.3.0->setfit) (2.8.2)\n",
            "Requirement already satisfied: pytz>=2020.1 in /usr/local/lib/python3.10/dist-packages (from pandas->datasets>=2.3.0->setfit) (2023.4)\n",
            "Requirement already satisfied: six>=1.5 in /usr/local/lib/python3.10/dist-packages (from python-dateutil>=2.8.1->pandas->datasets>=2.3.0->setfit) (1.16.0)\n",
            "Requirement already satisfied: MarkupSafe>=2.0 in /usr/local/lib/python3.10/dist-packages (from jinja2->torch>=1.11.0->sentence-transformers>=2.2.1->setfit) (2.1.5)\n",
            "Requirement already satisfied: mpmath>=0.19 in /usr/local/lib/python3.10/dist-packages (from sympy->torch>=1.11.0->sentence-transformers>=2.2.1->setfit) (1.3.0)\n",
            "Requirement already satisfied: tqdm in /usr/local/lib/python3.10/dist-packages (4.66.2)\n",
            "Requirement already satisfied: gdown in /usr/local/lib/python3.10/dist-packages (4.7.3)\n",
            "Requirement already satisfied: filelock in /usr/local/lib/python3.10/dist-packages (from gdown) (3.13.1)\n",
            "Requirement already satisfied: requests[socks] in /usr/local/lib/python3.10/dist-packages (from gdown) (2.31.0)\n",
            "Requirement already satisfied: six in /usr/local/lib/python3.10/dist-packages (from gdown) (1.16.0)\n",
            "Requirement already satisfied: tqdm in /usr/local/lib/python3.10/dist-packages (from gdown) (4.66.2)\n",
            "Requirement already satisfied: beautifulsoup4 in /usr/local/lib/python3.10/dist-packages (from gdown) (4.12.3)\n",
            "Requirement already satisfied: soupsieve>1.2 in /usr/local/lib/python3.10/dist-packages (from beautifulsoup4->gdown) (2.5)\n",
            "Requirement already satisfied: charset-normalizer<4,>=2 in /usr/local/lib/python3.10/dist-packages (from requests[socks]->gdown) (3.3.2)\n",
            "Requirement already satisfied: idna<4,>=2.5 in /usr/local/lib/python3.10/dist-packages (from requests[socks]->gdown) (3.6)\n",
            "Requirement already satisfied: urllib3<3,>=1.21.1 in /usr/local/lib/python3.10/dist-packages (from requests[socks]->gdown) (2.0.7)\n",
            "Requirement already satisfied: certifi>=2017.4.17 in /usr/local/lib/python3.10/dist-packages (from requests[socks]->gdown) (2024.2.2)\n",
            "Requirement already satisfied: PySocks!=1.5.7,>=1.5.6 in /usr/local/lib/python3.10/dist-packages (from requests[socks]->gdown) (1.7.1)\n"
          ]
        }
      ],
      "source": [
        "!pip install setfit\n",
        "!pip install tqdm\n",
        "!pip install gdown"
      ]
    },
    {
      "cell_type": "code",
      "source": [
        "from google.colab import drive\n",
        "drive.mount('/content/drive')\n",
        "\n",
        "import gdown\n",
        "import json\n",
        "import pandas as pd"
      ],
      "metadata": {
        "id": "Gr1D_v3v46JA",
        "colab": {
          "base_uri": "https://localhost:8080/"
        },
        "outputId": "1e8f8905-7fcf-4e17-fb0a-997bf404aca1"
      },
      "execution_count": 3,
      "outputs": [
        {
          "output_type": "stream",
          "name": "stdout",
          "text": [
            "Mounted at /content/drive\n"
          ]
        }
      ]
    },
    {
      "cell_type": "code",
      "source": [
        "from setfit import SetFitModel\n",
        "from sentence_transformers import SentenceTransformer\n",
        "from tqdm.notebook import tqdm\n",
        "import spacy\n",
        "nlp = spacy.load(\"en_core_web_sm\")\n",
        "\n",
        "from collections import Counter\n",
        "from sklearn.metrics.pairwise import cosine_similarity\n",
        "from sklearn.cluster import KMeans\n",
        "import matplotlib.pyplot as plt\n",
        "import concurrent.futures\n",
        "\n",
        "import numpy as np\n",
        "from nltk.tokenize import sent_tokenize\n",
        "import nltk\n",
        "nltk.download('punkt')\n",
        "\n",
        "model_sent_transformer = SentenceTransformer('all-MiniLM-L6-v2')"
      ],
      "metadata": {
        "colab": {
          "base_uri": "https://localhost:8080/"
        },
        "id": "O7vC4amqV62p",
        "outputId": "7384bf1a-0638-4ef8-eb7d-4eff7920cf59"
      },
      "execution_count": 6,
      "outputs": [
        {
          "output_type": "stream",
          "name": "stderr",
          "text": [
            "[nltk_data] Downloading package punkt to /root/nltk_data...\n",
            "[nltk_data]   Package punkt is already up-to-date!\n"
          ]
        }
      ]
    },
    {
      "cell_type": "code",
      "source": [
        "from datasets import load_dataset\n",
        "from datasets import Dataset, DatasetDict"
      ],
      "metadata": {
        "id": "K5UlzD2LWh9G"
      },
      "execution_count": 5,
      "outputs": []
    },
    {
      "cell_type": "markdown",
      "source": [
        "##### Import the full Reddit dataset\n",
        "- remove duplicates to make sure that posts are unqiue\n",
        "- TitleText is the text column of interest"
      ],
      "metadata": {
        "id": "G_DVdEUwC3qy"
      }
    },
    {
      "cell_type": "code",
      "source": [
        "file_path = '/content/drive/My Drive/SWB-GVCEH/Complete_Data_v3.json'\n",
        "reddit_data_df = pd.read_json(file_path)\n",
        "\n",
        "print(f\"\\ncd_test shape: {reddit_data_df.shape}\")\n",
        "print(f\"\\n--------------- Columns: {reddit_data_df.columns}\")\n",
        "\n",
        "select_cols = ['Subreddit', 'Title', 'Text', 'TitleText']\n",
        "reddit_data_df = reddit_data_df[select_cols]\n",
        "reddit_data_df.drop_duplicates(inplace=True)\n",
        "reddit_data_df.reset_index(drop=True, inplace=True)\n",
        "\n",
        "print(\"\\n------------------------------\")\n",
        "print(reddit_data_df.head())"
      ],
      "metadata": {
        "colab": {
          "base_uri": "https://localhost:8080/"
        },
        "id": "rCHlgRt_4-Lt",
        "outputId": "a71cc485-0fcc-4c3f-f0aa-9100edd93b07"
      },
      "execution_count": 7,
      "outputs": [
        {
          "output_type": "stream",
          "name": "stdout",
          "text": [
            "\n",
            "cd_test shape: (11160, 23)\n",
            "\n",
            "--------------- Columns: Index(['index', 'Subreddit', 'Title', 'Text', 'TitleText', 'relevance_score',\n",
            "       'most_common_centroid_id', 'top_terms_from_centroid',\n",
            "       'topics_from_centroid', 'Score_model2', 'label_model2', 'label_model1',\n",
            "       'relevant_sentences', 'topic_num', 'Relevant_document',\n",
            "       'Relevant_topic', 'topic_label', 'Sentiment_Full',\n",
            "       'Sentence_Level_Sentiment_Compund',\n",
            "       'Relevent_Sentence_Sentiment_Compund', 'BERT_sentiment_all',\n",
            "       'BERT_sentiments_relevant_sentences', 'manual_label'],\n",
            "      dtype='object')\n",
            "\n",
            "------------------------------\n",
            "    Subreddit                                              Title  \\\n",
            "0  VictoriaBC  True change around homelessness from the homel...   \n",
            "1  VictoriaBC  New transitional housing facility on Douglas o...   \n",
            "2  VictoriaBC   Where to buy a reasonably priced Christmas tree?   \n",
            "3  VictoriaBC  Looking for a Christmas tree? Please consider ...   \n",
            "4  VictoriaBC                              Free clothing places?   \n",
            "\n",
            "                                                Text  \\\n",
            "0  I've started my own organization to expose the...   \n",
            "1                                               None   \n",
            "2  Went to the Christmas tree farm today and thou...   \n",
            "3                                               None   \n",
            "4  Hey so long story short I moved here from Sask...   \n",
            "\n",
            "                                           TitleText  \n",
            "0  True change around homelessness from the homel...  \n",
            "1  New transitional housing facility on Douglas o...  \n",
            "2  Where to buy a reasonably priced Christmas tre...  \n",
            "3  Looking for a Christmas tree? Please consider ...  \n",
            "4  Free clothing places?. Hey so long story short...  \n"
          ]
        }
      ]
    },
    {
      "cell_type": "markdown",
      "source": [
        "#### Import Twitter Data"
      ],
      "metadata": {
        "id": "NQFIuEC-y2lU"
      }
    },
    {
      "cell_type": "code",
      "source": [
        "file_path = '/content/drive/My Drive/SWB-GVCEH/tweets_combined_df.csv'\n",
        "tweets_combined_df = pd.read_csv(file_path)\n",
        "\n",
        "print(\"\\ntweets_combined_df data ----------------\")\n",
        "print(tweets_combined_df.shape)\n",
        "print(tweets_combined_df.columns)\n",
        "print(tweets_combined_df.head())"
      ],
      "metadata": {
        "colab": {
          "base_uri": "https://localhost:8080/"
        },
        "id": "infLS3nI0Hyu",
        "outputId": "f9075c17-1ea9-449a-a77d-cec23cf59eb7"
      },
      "execution_count": 8,
      "outputs": [
        {
          "output_type": "stream",
          "name": "stdout",
          "text": [
            "\n",
            "tweets_combined_df data ----------------\n",
            "(5435, 17)\n",
            "Index(['Unnamed: 0', 'text', 'scrape_time', 'tweet_id', 'created_at',\n",
            "       'reply_count', 'quote_count', 'like_count', 'retweet_count',\n",
            "       'geo_full_name', 'geo_id', 'username', 'num_followers',\n",
            "       'search_keywords', 'search_neighbourhood', 'sentiment', 'score'],\n",
            "      dtype='object')\n",
            "   Unnamed: 0                                               text  \\\n",
            "0           0  RT pressjournal: Colonsay islanders and people...   \n",
            "1           1  Colonsay islanders and people who have left th...   \n",
            "2           7  @ArianeBurgessHI Serviced plots for 25k are ex...   \n",
            "3           9  RT @VicBuilders: \"25-unit townhome development...   \n",
            "4          27  @OurNewHomecoach @laughatthemoon2 There is so ...   \n",
            "\n",
            "                  scrape_time             tweet_id                 created_at  \\\n",
            "0  2023-02-07 03:20:43.040309  1622564995115503616  2023-02-06 11:56:55+00:00   \n",
            "1  2023-02-07 03:20:43.040317  1622550741599625221  2023-02-06 11:00:16+00:00   \n",
            "2  2023-02-07 03:20:51.207543  1622549961081487360  2023-02-06 10:57:10+00:00   \n",
            "3  2023-02-07 03:20:56.511307  1622671505778778152  2023-02-06 19:00:09+00:00   \n",
            "4  2023-02-07 03:21:18.339644  1622767215811641344  2023-02-07 01:20:28+00:00   \n",
            "\n",
            "   reply_count  quote_count  like_count  retweet_count geo_full_name geo_id  \\\n",
            "0          0.0          0.0         0.0            0.0           NaN    NaN   \n",
            "1          0.0          0.0         0.0            0.0           NaN    NaN   \n",
            "2          0.0          0.0         1.0            0.0           NaN    NaN   \n",
            "3          0.0          0.0         0.0            0.0           NaN    NaN   \n",
            "4          0.0          0.0         1.0            0.0           NaN    NaN   \n",
            "\n",
            "          username  num_followers  \\\n",
            "0   elginnewsround            852   \n",
            "1     pressjournal          69944   \n",
            "2  ArianeBurgessHI           3207   \n",
            "3  DominiqueBandet             90   \n",
            "4   martin85468119             18   \n",
            "\n",
            "                                     search_keywords  \\\n",
            "0  (900-block pandora avenue OR esquimalt OR high...   \n",
            "1  (900-block pandora avenue OR esquimalt OR high...   \n",
            "2  (900-block pandora avenue OR esquimalt OR high...   \n",
            "3  (900-block pandora avenue OR esquimalt OR high...   \n",
            "4  (900-block pandora avenue OR esquimalt OR high...   \n",
            "\n",
            "                                search_neighbourhood sentiment     score  \n",
            "0  900-block pandora avenue OR esquimalt OR highl...  positive  0.351921  \n",
            "1  900-block pandora avenue OR esquimalt OR highl...  positive  0.344510  \n",
            "2  900-block pandora avenue OR esquimalt OR highl...  positive  0.339811  \n",
            "3  900-block pandora avenue OR esquimalt OR highl...  positive  0.365494  \n",
            "4  900-block pandora avenue OR esquimalt OR highl...  positive  0.363048  \n"
          ]
        }
      ]
    },
    {
      "cell_type": "markdown",
      "source": [
        "#### Reddit Data Labelling - Model #1\n",
        "Perform K-Means clustering of twitter data\n",
        "\n",
        "Generate embeddings of twitter posts"
      ],
      "metadata": {
        "id": "r-mvtOuJXIC2"
      }
    },
    {
      "cell_type": "code",
      "source": [
        "twitter_embeddings = model_sent_transformer.encode(tweets_combined_df['text'].tolist(), show_progress_bar=True)"
      ],
      "metadata": {
        "colab": {
          "base_uri": "https://localhost:8080/",
          "height": 49,
          "referenced_widgets": [
            "80c491c83ea94bfb888b6e53675b0b72",
            "7f7d6b1fe72a4a6ab8804a80b29b91fc",
            "5b616cefdc674ccb8b9a9c140c536602",
            "2d72eb623c954108a2811e31494e4132",
            "9919b8347da94cf8b630df25c854c6e2",
            "b03125e30479499ca8a437c095d8114f",
            "0106967d5b13497090bc45ebcbc7b03b",
            "4ef8efb630b7497caef6571e7696b4e8",
            "e9aca57ac57d4d26b5757fe1616dbe51",
            "9787a11e693f464bb14d43578dc3b303",
            "862537d021f44e86a1ee29aedec8d257"
          ]
        },
        "id": "8a0IetlQXLwP",
        "outputId": "ebf546c9-be02-4efe-e3df-b955db52476d"
      },
      "execution_count": null,
      "outputs": [
        {
          "output_type": "display_data",
          "data": {
            "text/plain": [
              "Batches:   0%|          | 0/170 [00:00<?, ?it/s]"
            ],
            "application/vnd.jupyter.widget-view+json": {
              "version_major": 2,
              "version_minor": 0,
              "model_id": "80c491c83ea94bfb888b6e53675b0b72"
            }
          },
          "metadata": {}
        }
      ]
    },
    {
      "cell_type": "markdown",
      "source": [
        "#### Run K-Means on twitter embeddings"
      ],
      "metadata": {
        "id": "be7-UOemY5T5"
      }
    },
    {
      "cell_type": "code",
      "source": [
        "# Calculate sum of squared distances for different number of clusters\n",
        "Sum_of_squared_distances = []\n",
        "K = range(1,40)  # Adjust the range based on your dataset\n",
        "for k in K:\n",
        "    print(f\"Current k: {k}\")\n",
        "    km = KMeans(n_clusters=k, n_init=10)\n",
        "    km = km.fit(twitter_embeddings)\n",
        "    Sum_of_squared_distances.append(km.inertia_)\n",
        "\n",
        "# Plot the elbow graph\n",
        "plt.plot(K, Sum_of_squared_distances, 'bx-')\n",
        "plt.xlabel('Number of clusters')\n",
        "plt.ylabel('Sum of squared distances')\n",
        "plt.title('Twitter Embeddings Elbow Method For Optimal k')\n",
        "plt.show()"
      ],
      "metadata": {
        "colab": {
          "base_uri": "https://localhost:8080/",
          "height": 1000
        },
        "id": "MY930ujzY6Nv",
        "outputId": "94d364f9-c1c4-4bf4-f593-eb343fb5f983"
      },
      "execution_count": null,
      "outputs": [
        {
          "output_type": "stream",
          "name": "stdout",
          "text": [
            "Current k: 1\n",
            "Current k: 2\n",
            "Current k: 3\n",
            "Current k: 4\n",
            "Current k: 5\n",
            "Current k: 6\n",
            "Current k: 7\n",
            "Current k: 8\n",
            "Current k: 9\n",
            "Current k: 10\n",
            "Current k: 11\n",
            "Current k: 12\n",
            "Current k: 13\n",
            "Current k: 14\n",
            "Current k: 15\n",
            "Current k: 16\n",
            "Current k: 17\n",
            "Current k: 18\n",
            "Current k: 19\n",
            "Current k: 20\n",
            "Current k: 21\n",
            "Current k: 22\n",
            "Current k: 23\n",
            "Current k: 24\n",
            "Current k: 25\n",
            "Current k: 26\n",
            "Current k: 27\n",
            "Current k: 28\n",
            "Current k: 29\n",
            "Current k: 30\n",
            "Current k: 31\n",
            "Current k: 32\n",
            "Current k: 33\n",
            "Current k: 34\n",
            "Current k: 35\n",
            "Current k: 36\n",
            "Current k: 37\n",
            "Current k: 38\n",
            "Current k: 39\n"
          ]
        },
        {
          "output_type": "display_data",
          "data": {
            "text/plain": [
              "<Figure size 640x480 with 1 Axes>"
            ],
            "image/png": "[encoded data removed]"
          },
          "metadata": {}
        }
      ]
    },
    {
      "cell_type": "markdown",
      "source": [
        "##### Assign clusters to embeddings"
      ],
      "metadata": {
        "id": "fu35LC3WbPn7"
      }
    },
    {
      "cell_type": "code",
      "source": [
        "k = 15  # number of clusters\n",
        "kmeans = KMeans(n_clusters=k, n_init=10, random_state=42)\n",
        "kmeans.fit(twitter_embeddings)\n",
        "\n",
        "cluster_centroids = kmeans.cluster_centers_\n",
        "\n",
        "tweets_combined_df['cluster'] = kmeans.labels_\n",
        "\n",
        "print(cluster_centroids)\n",
        "\n",
        "# Convert your numpy array to a list of lists\n",
        "centroids_list = cluster_centroids.tolist()\n",
        "\n",
        "# Save to a JSON file\n",
        "with open(\"/content/drive/My Drive/SWB-GVCEH/twitter_cluster_centroids.json\", \"w\") as f:\n",
        "    json.dump(centroids_list, f)"
      ],
      "metadata": {
        "colab": {
          "base_uri": "https://localhost:8080/"
        },
        "id": "q2jCPIMbbQ9I",
        "outputId": "3a067918-5f64-47d8-edb1-ac152d4c42ca"
      },
      "execution_count": null,
      "outputs": [
        {
          "output_type": "stream",
          "name": "stdout",
          "text": [
            "[[ 0.07606746 -0.03684408  0.07050317 ... -0.04477242 -0.05458607\n",
            "   0.06265755]\n",
            " [ 0.03922427 -0.00116647  0.05264552 ... -0.03459585 -0.04934484\n",
            "   0.0509878 ]\n",
            " [ 0.08159573 -0.00581049  0.06172452 ... -0.05318972 -0.0436865\n",
            "   0.03083117]\n",
            " ...\n",
            " [ 0.04692682  0.04268746  0.03507463 ... -0.02552383 -0.04925404\n",
            "   0.03933679]\n",
            " [ 0.01194589  0.00625541  0.04830575 ... -0.04271128 -0.0092378\n",
            "   0.0193102 ]\n",
            " [ 0.01649493  0.01140771  0.01363297 ... -0.05939158  0.01116832\n",
            "   0.01196186]]\n"
          ]
        }
      ]
    },
    {
      "cell_type": "markdown",
      "source": [
        "#### Load Twitter Centroids"
      ],
      "metadata": {
        "id": "ryaJXayTAQyB"
      }
    },
    {
      "cell_type": "code",
      "source": [
        "file_path_twitter_centroids = \"/content/drive/My Drive/SWB-GVCEH/twitter_cluster_centroids.json\"\n",
        "\n",
        "# Read the JSON file\n",
        "with open(file_path_twitter_centroids, \"r\") as f:\n",
        "    centroids_list = json.load(f)\n",
        "\n",
        "cluster_centroids = np.array(centroids_list)\n",
        "print(cluster_centroids)"
      ],
      "metadata": {
        "colab": {
          "base_uri": "https://localhost:8080/"
        },
        "id": "Vxkq_epR_9sA",
        "outputId": "987dd0d8-2851-4efe-833a-1effb33a8748"
      },
      "execution_count": 9,
      "outputs": [
        {
          "output_type": "stream",
          "name": "stdout",
          "text": [
            "[[ 0.07606746 -0.03684408  0.07050317 ... -0.04477242 -0.05458607\n",
            "   0.06265755]\n",
            " [ 0.03922427 -0.00116647  0.05264552 ... -0.03459585 -0.04934484\n",
            "   0.0509878 ]\n",
            " [ 0.08159573 -0.00581049  0.06172452 ... -0.05318972 -0.0436865\n",
            "   0.03083117]\n",
            " ...\n",
            " [ 0.04692682  0.04268746  0.03507463 ... -0.02552383 -0.04925404\n",
            "   0.03933679]\n",
            " [ 0.01194589  0.00625541  0.04830575 ... -0.04271128 -0.0092378\n",
            "   0.0193102 ]\n",
            " [ 0.01649493  0.01140771  0.01363297 ... -0.05939158  0.01116832\n",
            "   0.01196186]]\n"
          ]
        }
      ]
    },
    {
      "cell_type": "markdown",
      "source": [
        "##### Functions to process reddit posts"
      ],
      "metadata": {
        "id": "cQPmEeQLbpSf"
      }
    },
    {
      "cell_type": "code",
      "source": [
        "# Function to split text into sentences\n",
        "def spacy_sentence_split(text):\n",
        "    doc = nlp(text)\n",
        "    return [sent.text.strip() for sent in doc.sents]\n",
        "\n",
        "# Function to process a single Reddit post and determine its relevance\n",
        "def process_post_for_relevance(post, model, centroids, threshold):\n",
        "    sentences = spacy_sentence_split(post)\n",
        "    sentence_embeddings = model.encode(sentences, show_progress_bar=False)\n",
        "    sentence_relevance_scores = cosine_similarity(sentence_embeddings, centroids)\n",
        "    max_scores = sentence_relevance_scores.max(axis=1)\n",
        "    max_score_indices = sentence_relevance_scores.argmax(axis=1)\n",
        "    # print(len(sentence_embeddings))\n",
        "    # print(max_scores)\n",
        "    # print(max_score_indices)\n",
        "\n",
        "    relevant_sentences = max_scores > threshold\n",
        "    relevant_centroid_ids = max_score_indices[relevant_sentences]\n",
        "    # print(relevant_centroid_ids)\n",
        "    relevance_score = relevant_sentences.mean()  # Proportion of sentences above the threshold\n",
        "\n",
        "    centroid_counter = Counter(relevant_centroid_ids)\n",
        "    # print(centroid_counter)\n",
        "    if len(centroid_counter) == 0:\n",
        "        most_common_centroid_ids = None  # No relevant sentences\n",
        "    else:\n",
        "        # Find the maximum count for the centroids\n",
        "        max_count = centroid_counter.most_common(1)[0][1]\n",
        "        # Get all centroid IDs that have the maximum count (ties included)\n",
        "        most_common_centroid_ids = [centroid_id for centroid_id, count in centroid_counter.items() if count == max_count]\n",
        "\n",
        "    return relevance_score, most_common_centroid_ids"
      ],
      "metadata": {
        "id": "w5NH09EfbroJ"
      },
      "execution_count": 10,
      "outputs": []
    },
    {
      "cell_type": "code",
      "source": [
        "# Parallel processing function\n",
        "def parallel_relevance_computation(reddit_posts, model, centroids, threshold, max_workers=10):\n",
        "    with concurrent.futures.ThreadPoolExecutor(max_workers=max_workers) as executor:\n",
        "        results = list(tqdm(executor.map(lambda post: process_post_for_relevance(post, model, centroids, threshold), reddit_posts), total=len(reddit_posts)))\n",
        "\n",
        "    # Unpack the results into two separate lists\n",
        "    relevance_scores, most_common_centroid_ids = zip(*results)\n",
        "    return relevance_scores, most_common_centroid_ids"
      ],
      "metadata": {
        "id": "mq_Cs93hkAi4"
      },
      "execution_count": 11,
      "outputs": []
    },
    {
      "cell_type": "markdown",
      "source": [
        "##### Assign Model #1 labels"
      ],
      "metadata": {
        "id": "y3RpW4hHkuS9"
      }
    },
    {
      "cell_type": "code",
      "source": [
        "def apply_model_labeling(dataframe, text_column, model, centroids, threshold_score=0.5, label_threshold=0.1):\n",
        "    \"\"\"\n",
        "    Computes relevance scores and centroid IDs for a given DataFrame, then assigns labels based on relevance.\n",
        "\n",
        "    Parameters:\n",
        "    - dataframe: pd.DataFrame, the DataFrame to process.\n",
        "    - titles_column: str, the name of the column containing text to compute relevance for.\n",
        "    - model: The model used to transform text into embeddings.\n",
        "    - centroids: np.ndarray, the cluster centroids used for computing relevance.\n",
        "    - threshold_score: float, the threshold used within the parallel relevance computation.\n",
        "    - label_threshold: float, the threshold above which the relevance score is considered significant for labeling.\n",
        "\n",
        "    The function updates the input DataFrame with three new columns: 'relevance_score',\n",
        "    'most_common_centroid_id', and 'label_model1'.\n",
        "    \"\"\"\n",
        "    # Assuming the implementation of parallel_relevance_computation is available in your environment\n",
        "    relevance_scores, most_common_centroid_ids = parallel_relevance_computation(\n",
        "        dataframe[text_column].tolist(), model, centroids, threshold=threshold_score)\n",
        "\n",
        "    # Assign the computed values to the DataFrame\n",
        "    dataframe['relevance_score'] = relevance_scores\n",
        "    dataframe['most_common_centroid_id'] = most_common_centroid_ids\n",
        "\n",
        "    # Assign labels based on the relevance score threshold\n",
        "    dataframe['label_model1'] = np.where(dataframe['relevance_score'] >= label_threshold, 1, 0)\n"
      ],
      "metadata": {
        "id": "spnI_92VFz4X"
      },
      "execution_count": 12,
      "outputs": []
    },
    {
      "cell_type": "code",
      "source": [
        "# Filter relevant posts based on a relevance score threshold\n",
        "# reddit_data_df['label_model1'] = np.where(reddit_data_df['relevance_score'] >= 0.1, 1, 0)\n",
        "apply_model_labeling(reddit_data_df, 'TitleText', model_sent_transformer, cluster_centroids, 0.5, 0.1)\n",
        "\n",
        "relevant_reddit_posts = reddit_data_df[reddit_data_df['relevance_score'] > 0.1].reset_index(drop=True)\n",
        "print(f\"\\nOriginal number of posts: {len(reddit_data_df.index)}\")\n",
        "print(f\"\\nNumber of relevant posts: {len(relevant_reddit_posts.index)}\")"
      ],
      "metadata": {
        "colab": {
          "base_uri": "https://localhost:8080/",
          "height": 49,
          "referenced_widgets": [
            "421127ba11664942a26ae0f9485714f7",
            "46d66682da614e6990ef94ba3ce8774e",
            "f299e651efc944b18d4fd32d258651af",
            "a702c96b33e7407793328918de283073",
            "1117c85bb45643d782f7d57318b25148",
            "2a8fb37f1a6040a3bb7086d1453ace1b",
            "46e1b03b7aad47e1bd812a6770e07418",
            "a969c0d39b22410093febb620c594c2e",
            "1564e6ce00894a43943e7d04ddf5f818",
            "3549706fdacc4eb0afdbf5dd52b1deaf",
            "d2f5d0d6b56f4dffb591c9765976e493"
          ]
        },
        "id": "AjGRKRaJkxUn",
        "outputId": "2bf989e7-a561-4a1e-c1bc-815ab7d7a349"
      },
      "execution_count": null,
      "outputs": [
        {
          "output_type": "display_data",
          "data": {
            "text/plain": [
              "  0%|          | 0/11151 [00:00<?, ?it/s]"
            ],
            "application/vnd.jupyter.widget-view+json": {
              "version_major": 2,
              "version_minor": 0,
              "model_id": "421127ba11664942a26ae0f9485714f7"
            }
          },
          "metadata": {}
        }
      ]
    },
    {
      "cell_type": "markdown",
      "source": [
        "#### Twitter Relevancy Model on Reddit sentences - Model #2 (INITIAL VERSION)"
      ],
      "metadata": {
        "id": "pe-g1pHHvveF"
      }
    },
    {
      "cell_type": "code",
      "source": [
        "# Function to chunk a long text into smaller parts\n",
        "def tokenize_into_sentences(text):\n",
        "    return sent_tokenize(text)\n",
        "\n",
        "\n",
        "def predict_relevance(text):\n",
        "    sentences = tokenize_into_sentences(text)\n",
        "    if not sentences:  # If no sentences, return default values\n",
        "        return 0.0, 0\n",
        "\n",
        "    # Assuming model(sentences) returns a tensor of predictions; convert this to a list\n",
        "    predictions_tensor = model(sentences)\n",
        "    predictions = predictions_tensor.tolist()  # Convert tensor to list\n",
        "\n",
        "    # Calculate the score as a percentage of relevant sentences\n",
        "    score = sum(predictions) / len(sentences) * 100\n",
        "    score = round(score, 2)  # Round to 2 decimal places for readability\n",
        "\n",
        "    # Determine binary output: 1 if 10% or more sentences are relevant, else 0\n",
        "    binary_output = 1 if score >= 10 else 0\n",
        "\n",
        "    return score, binary_output"
      ],
      "metadata": {
        "id": "4zDs-X0dvxWD"
      },
      "execution_count": null,
      "outputs": []
    },
    {
      "cell_type": "code",
      "source": [
        "tqdm.pandas(desc=\"Processing Posts\")\n",
        "\n",
        "reddit_data_df[['Score_model2', 'label_model2']] = reddit_data_df['TitleText'].progress_apply(\n",
        "    lambda x: pd.Series(predict_relevance(x))\n",
        ")"
      ],
      "metadata": {
        "colab": {
          "base_uri": "https://localhost:8080/",
          "height": 49,
          "referenced_widgets": [
            "afe10bdcbb1f4e8ea322583bee37548b",
            "b24dfd6d01614656a8e692b2be9b6683",
            "3a2c76e1ac32420b9e95cb7850ae01cf",
            "5237504e9e3541ad8df4230a2021713e",
            "cf03de6f3b49476e9d70a0ebade07939",
            "541f4eff027c46d191d923324c06865f",
            "50fbf027ec7042d9a63edbad0d5a5f08",
            "1412bb52787b48d0a04f77908f3670eb",
            "54bb448b2d644ded9c7d21c76d1719dc",
            "c93ae5c7e5f44739ad1fb63fd5fc78ae",
            "19b45d6e70a742059703bb4bdb491a1a"
          ]
        },
        "id": "PbFuwCFkv7RP",
        "outputId": "53c902c7-3fef-457b-f0ff-d0b9a12ccc13"
      },
      "execution_count": null,
      "outputs": [
        {
          "data": {
            "application/vnd.jupyter.widget-view+json": {
              "model_id": "afe10bdcbb1f4e8ea322583bee37548b",
              "version_major": 2,
              "version_minor": 0
            },
            "text/plain": [
              "Processing Posts:   0%|          | 0/11151 [00:00<?, ?it/s]"
            ]
          },
          "metadata": {},
          "output_type": "display_data"
        }
      ]
    },
    {
      "cell_type": "markdown",
      "source": [
        "#### SetFit Relevancy Model - Model #2 UPDATED"
      ],
      "metadata": {
        "id": "oOlmvEHp-xd5"
      }
    },
    {
      "cell_type": "markdown",
      "source": [
        "##### Import train and test data\n",
        "Import labelled json data"
      ],
      "metadata": {
        "id": "EaXHOxdYAX9c"
      }
    },
    {
      "cell_type": "code",
      "source": [
        "file_path_sample02 = '/content/drive/My Drive/SWB-GVCEH/reddit_manual_labels_sample02.json'\n",
        "\n",
        "reddit_manual_labels_sample02 = pd.read_json(file_path_sample02, lines=True)\n",
        "print(f\"\\n---- df reddit_manual_labels_sample02 shape: {reddit_manual_labels_sample02.shape}\")\n",
        "print(f\"\\n Columns: {reddit_manual_labels_sample02.columns}\")\n",
        "\n",
        "print(f\"\\n-----------------------\")\n",
        "print(reddit_manual_labels_sample02.head())"
      ],
      "metadata": {
        "colab": {
          "base_uri": "https://localhost:8080/"
        },
        "id": "-ifgYuBWM0na",
        "outputId": "8fbbea84-a471-491f-8c7d-a7fead9bf7de"
      },
      "execution_count": null,
      "outputs": [
        {
          "output_type": "stream",
          "name": "stdout",
          "text": [
            "\n",
            "---- df reddit_manual_labels_sample02 shape: (118, 11)\n",
            "\n",
            " Columns: Index(['Subreddit', 'Title', 'Text', 'TitleText', 'relevance_score',\n",
            "       'most_common_centroid_id', 'Score_model2', 'label_model2',\n",
            "       'label_model1', 'relevant_sentences', 'manual_label'],\n",
            "      dtype='object')\n",
            "\n",
            "-----------------------\n",
            "         Subreddit                                              Title  Text  \\\n",
            "0       VictoriaBC  Victoria Womens' Flag Football League is start...  None   \n",
            "1       VictoriaBC  Rowers Caileigh Filmer and Hillary Janssens wi...  None   \n",
            "2  britishcolumbia  She introduced the exotic dish of pizza to CBC...  None   \n",
            "3       VictoriaBC   City of Victoria Releases New Solar Rooftop Tool  None   \n",
            "4            Sooke  New wrestling club launches in Sooke - Coaches...  None   \n",
            "\n",
            "                                           TitleText  relevance_score  \\\n",
            "0  Victoria Womens' Flag Football League is start...              0.0   \n",
            "1  Rowers Caileigh Filmer and Hillary Janssens wi...              0.0   \n",
            "2  She introduced the exotic dish of pizza to CBC...              0.0   \n",
            "3  City of Victoria Releases New Solar Rooftop To...              0.0   \n",
            "4  New wrestling club launches in Sooke - Coaches...              0.0   \n",
            "\n",
            "  most_common_centroid_id  Score_model2  label_model2  label_model1  \\\n",
            "0                    None           0.0             0             0   \n",
            "1                    None           0.0             0             0   \n",
            "2                    None           0.0             0             0   \n",
            "3                    None           0.0             0             0   \n",
            "4                    None           0.0             0             0   \n",
            "\n",
            "  relevant_sentences  manual_label  \n",
            "0                                0  \n",
            "1                                0  \n",
            "2                                0  \n",
            "3                                0  \n",
            "4                                0  \n"
          ]
        }
      ]
    },
    {
      "cell_type": "markdown",
      "source": [
        "##### Split into test and train"
      ],
      "metadata": {
        "id": "ZHnb54uRWIXd"
      }
    },
    {
      "cell_type": "code",
      "source": [
        "# Shuffle the DataFrame\n",
        "df_shuffled = reddit_manual_labels_sample02.sample(frac=1, random_state=42).reset_index(drop=True)\n",
        "df_shuffled['TitleText'].fillna('', inplace=True)\n",
        "\n",
        "split_size = int(len(df_shuffled) * 0.65)\n",
        "\n",
        "select_cols = ['TitleText', 'manual_label']\n",
        "# Split the DataFrame into two parts\n",
        "sample_train = df_shuffled[:split_size][select_cols].copy().reset_index(drop=True)\n",
        "sample_test = df_shuffled[split_size:][select_cols].reset_index(drop=True)\n",
        "print(f\"\\nTrain dataset length: {len(sample_train)}, test dataset length: {len(sample_test)}\")\n",
        "\n",
        "value_counts_train = sample_train['manual_label'].value_counts()\n",
        "print(\"\\n----------------\")\n",
        "print(value_counts_train)\n",
        "\n",
        "value_counts_test = sample_test['manual_label'].value_counts()\n",
        "print(\"\\n----------------\")\n",
        "print(value_counts_test)"
      ],
      "metadata": {
        "colab": {
          "base_uri": "https://localhost:8080/"
        },
        "id": "QCQ2LBwMWHih",
        "outputId": "8fa9a7af-8e39-4141-cb0c-925eeda9d101"
      },
      "execution_count": null,
      "outputs": [
        {
          "output_type": "stream",
          "name": "stdout",
          "text": [
            "\n",
            "Train dataset length: 76, test dataset length: 42\n",
            "\n",
            "----------------\n",
            "0    52\n",
            "1    24\n",
            "Name: manual_label, dtype: int64\n",
            "\n",
            "----------------\n",
            "0    27\n",
            "1    15\n",
            "Name: manual_label, dtype: int64\n"
          ]
        }
      ]
    },
    {
      "cell_type": "code",
      "source": [
        "train_dataset = Dataset.from_pandas(sample_train)\n",
        "test_dataset = Dataset.from_pandas(sample_test)\n",
        "\n",
        "dataset_dict = DatasetDict({\n",
        "    'train': train_dataset,\n",
        "    'test': test_dataset\n",
        "})"
      ],
      "metadata": {
        "id": "A35HP9tVWSzn"
      },
      "execution_count": null,
      "outputs": []
    },
    {
      "cell_type": "code",
      "source": [
        "import random\n",
        "import torch\n",
        "\n",
        "def set_seed(seed_value=42):\n",
        "    \"\"\"Set seed for reproducibility.\"\"\"\n",
        "    random.seed(seed_value)\n",
        "    np.random.seed(seed_value)\n",
        "    torch.manual_seed(seed_value)\n",
        "    os.environ['PYTHONHASHSEED'] = str(seed_value)\n",
        "\n",
        "    # For some operations, you may also want to enable deterministic behavior in PyTorch\n",
        "    # This may impact performance\n",
        "    torch.backends.cudnn.deterministic = True\n",
        "    torch.backends.cudnn.benchmark = False\n",
        "\n",
        "# Example usage\n",
        "set_seed(42)"
      ],
      "metadata": {
        "id": "mxwO-RbMXCOg"
      },
      "execution_count": null,
      "outputs": []
    },
    {
      "cell_type": "code",
      "source": [
        "from setfit import SetFitModel, SetFitTrainer\n",
        "from sentence_transformers.losses import CosineSimilarityLoss\n",
        "\n",
        "model_id_reddit = \"sentence-transformers/all-MiniLM-L6-v2\"\n",
        "model_reddit = SetFitModel.from_pretrained(model_id_reddit)"
      ],
      "metadata": {
        "colab": {
          "base_uri": "https://localhost:8080/"
        },
        "id": "f747LhdFXFin",
        "outputId": "4b58eded-04ae-4f99-d035-cfa851f0dcc2"
      },
      "execution_count": null,
      "outputs": [
        {
          "output_type": "stream",
          "name": "stderr",
          "text": [
            "model_head.pkl not found on HuggingFace Hub, initialising classification head with random weights. You should TRAIN this model on a downstream task to use it for predictions and inference.\n"
          ]
        }
      ]
    },
    {
      "cell_type": "code",
      "source": [
        "# Configure the SetFitTrainer\n",
        "trainer = SetFitTrainer(\n",
        "    model=model_reddit,\n",
        "    train_dataset=dataset_dict[\"train\"],  # training dataset\n",
        "    eval_dataset=dataset_dict[\"test\"],    # test dataset\n",
        "    loss_class=CosineSimilarityLoss,      # Specify the loss class\n",
        "    batch_size=8,                        # Batch size for training\n",
        "    num_iterations=20,                    # Number of iterations over the training dataset\n",
        "    column_mapping={\"TitleText\": \"text\", \"manual_label\": \"label\"}  # Adjust column names as needed\n",
        ")"
      ],
      "metadata": {
        "colab": {
          "base_uri": "https://localhost:8080/",
          "height": 123,
          "referenced_widgets": [
            "68c83528da00403a90e0253ecd7ffd1c",
            "ea97c9187a6747438a49640351a0720c",
            "0245614123c14eb6bbc241de7b27d1db",
            "7c83f35ad5f547b4bf2042c5187fdf2e",
            "ed6312fe8b3f4591aad5b931b946cdac",
            "71f86d506a1a471b86640038b4131249",
            "b789c51a152441b3a2bb32b2846b04cb",
            "725de1e4516b404689f0ab8bfe4fff5e",
            "0ed11972b9dc4d01860aece4bd4c45b8",
            "9d09e797b417470c89eeba840be17153",
            "0b7b84ad0f834638b7626a512b0027f2"
          ]
        },
        "id": "y_lj3k4WXOHS",
        "outputId": "5abf7df1-8f05-4a87-9668-8b13fde3e414"
      },
      "execution_count": null,
      "outputs": [
        {
          "output_type": "stream",
          "name": "stderr",
          "text": [
            "<ipython-input-32-47bd27bb75f2>:2: DeprecationWarning: `SetFitTrainer` has been deprecated and will be removed in v2.0.0 of SetFit. Please use `Trainer` instead.\n",
            "  trainer = SetFitTrainer(\n",
            "Applying column mapping to the training dataset\n",
            "Applying column mapping to the evaluation dataset\n"
          ]
        },
        {
          "output_type": "display_data",
          "data": {
            "text/plain": [
              "Map:   0%|          | 0/76 [00:00<?, ? examples/s]"
            ],
            "application/vnd.jupyter.widget-view+json": {
              "version_major": 2,
              "version_minor": 0,
              "model_id": "68c83528da00403a90e0253ecd7ffd1c"
            }
          },
          "metadata": {}
        }
      ]
    },
    {
      "cell_type": "code",
      "source": [
        "trainer.train()\n",
        "metrics = trainer.evaluate()\n",
        "print(metrics)"
      ],
      "metadata": {
        "colab": {
          "base_uri": "https://localhost:8080/",
          "height": 295,
          "referenced_widgets": [
            "cb9fb1f26b3840228df5d3c3a56290f8",
            "ffd704bd127d44b2a30d1338217ce2fe",
            "ec222fa4339a4963a2994482bc893598",
            "c2aecfcb3a094df6aa8c8e9b2686ef60",
            "8eb38e264ff54a5b8bb702661001199f",
            "f588d7f9978540e7b11c0b396b2b2224",
            "c6114a48dccb4d8dbdd1b64c3a7cc6be",
            "59617b6036c74d7ba36f0b7c808aaa0a",
            "6db22d6cfde94b28bb00ab3785f4c60b",
            "d4f83386af3f40ae96846c3d18f41afb",
            "9049f31ff0f640309ce2e177b9e9dd34"
          ]
        },
        "id": "3qIUc_jZXX1s",
        "outputId": "81415525-e08d-4fe8-f6c2-90428e27ead0"
      },
      "execution_count": null,
      "outputs": [
        {
          "metadata": {
            "tags": null
          },
          "name": "stderr",
          "output_type": "stream",
          "text": [
            "***** Running training *****\n",
            "  Num unique pairs = 3040\n",
            "  Batch size = 8\n",
            "  Num epochs = 1\n",
            "  Total optimization steps = 380\n"
          ]
        },
        {
          "data": {
            "text/html": [
              "\n",
              "    <div>\n",
              "      \n",
              "      <progress value='48' max='380' style='width:300px; height:20px; vertical-align: middle;'></progress>\n",
              "      [ 48/380 05:03 < 36:33, 0.15 it/s, Epoch 0.12/0]\n",
              "    </div>\n",
              "    <table border=\"1\" class=\"dataframe\">\n",
              "  <thead>\n",
              " <tr style=\"text-align: left;\">\n",
              "      <th>Step</th>\n",
              "      <th>Training Loss</th>\n",
              "    </tr>\n",
              "  </thead>\n",
              "  <tbody>\n",
              "  </tbody>\n",
              "</table><p>"
            ],
            "text/plain": [
              "<IPython.core.display.HTML object>"
            ]
          },
          "metadata": {},
          "output_type": "display_data"
        },
        {
          "output_type": "display_data",
          "data": {
            "text/plain": [
              "<IPython.core.display.HTML object>"
            ],
            "text/html": [
              "\n",
              "    <div>\n",
              "      \n",
              "      <progress value='380' max='380' style='width:300px; height:20px; vertical-align: middle;'></progress>\n",
              "      [380/380 38:38, Epoch 1/0]\n",
              "    </div>\n",
              "    <table border=\"1\" class=\"dataframe\">\n",
              "  <thead>\n",
              " <tr style=\"text-align: left;\">\n",
              "      <th>Step</th>\n",
              "      <th>Training Loss</th>\n",
              "    </tr>\n",
              "  </thead>\n",
              "  <tbody>\n",
              "  </tbody>\n",
              "</table><p>"
            ]
          },
          "metadata": {}
        },
        {
          "output_type": "stream",
          "name": "stderr",
          "text": [
            "***** Running evaluation *****\n"
          ]
        },
        {
          "output_type": "display_data",
          "data": {
            "text/plain": [
              "Downloading builder script:   0%|          | 0.00/4.20k [00:00<?, ?B/s]"
            ],
            "application/vnd.jupyter.widget-view+json": {
              "version_major": 2,
              "version_minor": 0,
              "model_id": "cb9fb1f26b3840228df5d3c3a56290f8"
            }
          },
          "metadata": {}
        },
        {
          "output_type": "stream",
          "name": "stdout",
          "text": [
            "{'accuracy': 0.7380952380952381}\n"
          ]
        }
      ]
    },
    {
      "cell_type": "markdown",
      "source": [
        "##### Predict"
      ],
      "metadata": {
        "id": "0b0wClDPXbIi"
      }
    },
    {
      "cell_type": "code",
      "source": [
        "predictions = trainer.model.predict(reddit_data_df[\"TitleText\"].tolist())\n",
        "reddit_data_df['label_model2_setfit'] = predictions"
      ],
      "metadata": {
        "id": "vo6AZhs7XcLG"
      },
      "execution_count": null,
      "outputs": []
    }
  ]
}