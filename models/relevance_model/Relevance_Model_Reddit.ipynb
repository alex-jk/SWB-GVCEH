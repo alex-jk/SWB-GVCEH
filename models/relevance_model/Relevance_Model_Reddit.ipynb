{
  "nbformat": 4,
  "nbformat_minor": 0,
  "metadata": {
    "colab": {
      "provenance": [],
      "authorship_tag": "ABX9TyOjTtuy+/+75xQbmZdsrhhl",
      "include_colab_link": true
    },
    "kernelspec": {
      "name": "python3",
      "display_name": "Python 3"
    },
    "language_info": {
      "name": "python"
    }
  },
  "cells": [
    {
      "cell_type": "markdown",
      "metadata": {
        "id": "view-in-github",
        "colab_type": "text"
      },
      "source": [
        "<a href=\"https://colab.research.google.com/github/alex-jk/SWB-GVCEH/blob/main/models/relevance_model/Relevance_Model_Reddit.ipynb\" target=\"_parent\"><img src=\"https://colab.research.google.com/assets/colab-badge.svg\" alt=\"Open In Colab\"/></a>"
      ]
    },
    {
      "cell_type": "code",
      "execution_count": null,
      "metadata": {
        "colab": {
          "base_uri": "https://localhost:8080/"
        },
        "id": "KfT3xHr4Euqq",
        "outputId": "d3c0bb4c-1325-4265-b3bd-9fd83c026c3c"
      },
      "outputs": [
        {
          "output_type": "stream",
          "name": "stdout",
          "text": [
            "Mounted at /content/drive\n"
          ]
        }
      ],
      "source": [
        "from google.colab import drive\n",
        "drive.mount('/content/drive')"
      ]
    },
    {
      "cell_type": "code",
      "source": [
        "import pandas as pd\n",
        "import numpy as np\n",
        "from sklearn.metrics import *"
      ],
      "metadata": {
        "id": "mpNdU6QRGmtv"
      },
      "execution_count": 1,
      "outputs": []
    },
    {
      "cell_type": "code",
      "source": [
        "# Base URL for raw content in the GitHub repository\n",
        "base_url = 'https://raw.githubusercontent.com/alex-jk/SWB-GVCEH/main/models/relevance_model/'\n",
        "\n",
        "# Correctly encode the file names by replacing spaces with '%20'\n",
        "csv_file1 = 'GVCEH%20Milestone%202%20Labelling%201%20-%20RawData.csv'\n",
        "csv_file2 = 'GVCEH%20Milestone%202%20Labelling%202%20-%20RawData.csv'\n",
        "\n",
        "# Read the CSV files from GitHub\n",
        "df1 = pd.read_csv(base_url + csv_file1, usecols=['text', 'Relevant to Victoria', 'Relevant to Homelessness'])\n",
        "df2 = pd.read_csv(base_url + csv_file2, usecols=['text', 'Relevant to Victoria', 'Relevant to Homelessness'])\n",
        "\n",
        "# Rename columns for convenience\n",
        "df1 = df1.rename(columns={\"Relevant to Victoria\": \"vic\", \"Relevant to Homelessness\": \"hl\"})\n",
        "df2 = df2.rename(columns={\"Relevant to Victoria\": \"vic\", \"Relevant to Homelessness\": \"hl\"})\n",
        "\n",
        "# Display the first few rows of the DataFrame\n",
        "print(df1.columns)\n",
        "print(df1.head())"
      ],
      "metadata": {
        "id": "VNpz9QPFGrxK",
        "outputId": "2d4ca9ec-097b-4db8-9cce-cccd623dc6ea",
        "colab": {
          "base_uri": "https://localhost:8080/"
        }
      },
      "execution_count": 5,
      "outputs": [
        {
          "output_type": "stream",
          "name": "stdout",
          "text": [
            "Index(['vic', 'hl', 'text'], dtype='object')\n",
            "   vic  hl                                               text\n",
            "0  Yes  No  @AnnaGreenwoodL1 @saanich Dawson Heights Housi...\n",
            "1   No  No  It's Election Day and the polls are now open u...\n",
            "2   No  No  Sidney Bulwer Michaelia Roger #彩票 Bblythe Camp...\n",
            "3   No  No  Me telling my parents I’m gonna spit on this o...\n",
            "4   No  No  WRD Director Joy Langford shared water conserv...\n"
          ]
        }
      ]
    }
  ]
}