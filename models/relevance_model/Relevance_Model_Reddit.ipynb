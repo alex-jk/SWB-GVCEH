{
  "nbformat": 4,
  "nbformat_minor": 0,
  "metadata": {
    "colab": {
      "provenance": [],
      "authorship_tag": "ABX9TyOVl6M8/Igz8XRzo7qmu4ul",
      "include_colab_link": true
    },
    "kernelspec": {
      "name": "python3",
      "display_name": "Python 3"
    },
    "language_info": {
      "name": "python"
    },
    "widgets": {
      "application/vnd.jupyter.widget-state+json": {
        "49f8fc1a757c4cc39a63f1cb25d5930a": {
          "model_module": "@jupyter-widgets/controls",
          "model_name": "HBoxModel",
          "model_module_version": "1.5.0",
          "state": {
            "_dom_classes": [],
            "_model_module": "@jupyter-widgets/controls",
            "_model_module_version": "1.5.0",
            "_model_name": "HBoxModel",
            "_view_count": null,
            "_view_module": "@jupyter-widgets/controls",
            "_view_module_version": "1.5.0",
            "_view_name": "HBoxView",
            "box_style": "",
            "children": [
              "IPY_MODEL_003e7b0c42c94d9887ec16c836655e9c",
              "IPY_MODEL_ebbd3cba625e4bb4847f5223aff0db7e",
              "IPY_MODEL_00ad4021096a4019a14fd32299d161fa"
            ],
            "layout": "IPY_MODEL_69744ecbbcef4728b905dea074d5fadd"
          }
        },
        "003e7b0c42c94d9887ec16c836655e9c": {
          "model_module": "@jupyter-widgets/controls",
          "model_name": "HTMLModel",
          "model_module_version": "1.5.0",
          "state": {
            "_dom_classes": [],
            "_model_module": "@jupyter-widgets/controls",
            "_model_module_version": "1.5.0",
            "_model_name": "HTMLModel",
            "_view_count": null,
            "_view_module": "@jupyter-widgets/controls",
            "_view_module_version": "1.5.0",
            "_view_name": "HTMLView",
            "description": "",
            "description_tooltip": null,
            "layout": "IPY_MODEL_5f09dad1a31d44f5bfd5418010bed2ab",
            "placeholder": "​",
            "style": "IPY_MODEL_5c80060a67ad44e7b9fc4c3987dc3dd3",
            "value": "Predicting Relevance: 100%"
          }
        },
        "ebbd3cba625e4bb4847f5223aff0db7e": {
          "model_module": "@jupyter-widgets/controls",
          "model_name": "FloatProgressModel",
          "model_module_version": "1.5.0",
          "state": {
            "_dom_classes": [],
            "_model_module": "@jupyter-widgets/controls",
            "_model_module_version": "1.5.0",
            "_model_name": "FloatProgressModel",
            "_view_count": null,
            "_view_module": "@jupyter-widgets/controls",
            "_view_module_version": "1.5.0",
            "_view_name": "ProgressView",
            "bar_style": "success",
            "description": "",
            "description_tooltip": null,
            "layout": "IPY_MODEL_a85c333dc39149438e2fe726ad587990",
            "max": 3730,
            "min": 0,
            "orientation": "horizontal",
            "style": "IPY_MODEL_e3eb10550cef4bb2a58cdd2e02128d43",
            "value": 3730
          }
        },
        "00ad4021096a4019a14fd32299d161fa": {
          "model_module": "@jupyter-widgets/controls",
          "model_name": "HTMLModel",
          "model_module_version": "1.5.0",
          "state": {
            "_dom_classes": [],
            "_model_module": "@jupyter-widgets/controls",
            "_model_module_version": "1.5.0",
            "_model_name": "HTMLModel",
            "_view_count": null,
            "_view_module": "@jupyter-widgets/controls",
            "_view_module_version": "1.5.0",
            "_view_name": "HTMLView",
            "description": "",
            "description_tooltip": null,
            "layout": "IPY_MODEL_bd3a9b76236b4851b6179084fab5f8b7",
            "placeholder": "​",
            "style": "IPY_MODEL_41d5fd0fb82f4579890cd78e4595cbe8",
            "value": " 3730/3730 [22:29&lt;00:00,  2.33it/s]"
          }
        },
        "69744ecbbcef4728b905dea074d5fadd": {
          "model_module": "@jupyter-widgets/base",
          "model_name": "LayoutModel",
          "model_module_version": "1.2.0",
          "state": {
            "_model_module": "@jupyter-widgets/base",
            "_model_module_version": "1.2.0",
            "_model_name": "LayoutModel",
            "_view_count": null,
            "_view_module": "@jupyter-widgets/base",
            "_view_module_version": "1.2.0",
            "_view_name": "LayoutView",
            "align_content": null,
            "align_items": null,
            "align_self": null,
            "border": null,
            "bottom": null,
            "display": null,
            "flex": null,
            "flex_flow": null,
            "grid_area": null,
            "grid_auto_columns": null,
            "grid_auto_flow": null,
            "grid_auto_rows": null,
            "grid_column": null,
            "grid_gap": null,
            "grid_row": null,
            "grid_template_areas": null,
            "grid_template_columns": null,
            "grid_template_rows": null,
            "height": null,
            "justify_content": null,
            "justify_items": null,
            "left": null,
            "margin": null,
            "max_height": null,
            "max_width": null,
            "min_height": null,
            "min_width": null,
            "object_fit": null,
            "object_position": null,
            "order": null,
            "overflow": null,
            "overflow_x": null,
            "overflow_y": null,
            "padding": null,
            "right": null,
            "top": null,
            "visibility": null,
            "width": null
          }
        },
        "5f09dad1a31d44f5bfd5418010bed2ab": {
          "model_module": "@jupyter-widgets/base",
          "model_name": "LayoutModel",
          "model_module_version": "1.2.0",
          "state": {
            "_model_module": "@jupyter-widgets/base",
            "_model_module_version": "1.2.0",
            "_model_name": "LayoutModel",
            "_view_count": null,
            "_view_module": "@jupyter-widgets/base",
            "_view_module_version": "1.2.0",
            "_view_name": "LayoutView",
            "align_content": null,
            "align_items": null,
            "align_self": null,
            "border": null,
            "bottom": null,
            "display": null,
            "flex": null,
            "flex_flow": null,
            "grid_area": null,
            "grid_auto_columns": null,
            "grid_auto_flow": null,
            "grid_auto_rows": null,
            "grid_column": null,
            "grid_gap": null,
            "grid_row": null,
            "grid_template_areas": null,
            "grid_template_columns": null,
            "grid_template_rows": null,
            "height": null,
            "justify_content": null,
            "justify_items": null,
            "left": null,
            "margin": null,
            "max_height": null,
            "max_width": null,
            "min_height": null,
            "min_width": null,
            "object_fit": null,
            "object_position": null,
            "order": null,
            "overflow": null,
            "overflow_x": null,
            "overflow_y": null,
            "padding": null,
            "right": null,
            "top": null,
            "visibility": null,
            "width": null
          }
        },
        "5c80060a67ad44e7b9fc4c3987dc3dd3": {
          "model_module": "@jupyter-widgets/controls",
          "model_name": "DescriptionStyleModel",
          "model_module_version": "1.5.0",
          "state": {
            "_model_module": "@jupyter-widgets/controls",
            "_model_module_version": "1.5.0",
            "_model_name": "DescriptionStyleModel",
            "_view_count": null,
            "_view_module": "@jupyter-widgets/base",
            "_view_module_version": "1.2.0",
            "_view_name": "StyleView",
            "description_width": ""
          }
        },
        "a85c333dc39149438e2fe726ad587990": {
          "model_module": "@jupyter-widgets/base",
          "model_name": "LayoutModel",
          "model_module_version": "1.2.0",
          "state": {
            "_model_module": "@jupyter-widgets/base",
            "_model_module_version": "1.2.0",
            "_model_name": "LayoutModel",
            "_view_count": null,
            "_view_module": "@jupyter-widgets/base",
            "_view_module_version": "1.2.0",
            "_view_name": "LayoutView",
            "align_content": null,
            "align_items": null,
            "align_self": null,
            "border": null,
            "bottom": null,
            "display": null,
            "flex": null,
            "flex_flow": null,
            "grid_area": null,
            "grid_auto_columns": null,
            "grid_auto_flow": null,
            "grid_auto_rows": null,
            "grid_column": null,
            "grid_gap": null,
            "grid_row": null,
            "grid_template_areas": null,
            "grid_template_columns": null,
            "grid_template_rows": null,
            "height": null,
            "justify_content": null,
            "justify_items": null,
            "left": null,
            "margin": null,
            "max_height": null,
            "max_width": null,
            "min_height": null,
            "min_width": null,
            "object_fit": null,
            "object_position": null,
            "order": null,
            "overflow": null,
            "overflow_x": null,
            "overflow_y": null,
            "padding": null,
            "right": null,
            "top": null,
            "visibility": null,
            "width": null
          }
        },
        "e3eb10550cef4bb2a58cdd2e02128d43": {
          "model_module": "@jupyter-widgets/controls",
          "model_name": "ProgressStyleModel",
          "model_module_version": "1.5.0",
          "state": {
            "_model_module": "@jupyter-widgets/controls",
            "_model_module_version": "1.5.0",
            "_model_name": "ProgressStyleModel",
            "_view_count": null,
            "_view_module": "@jupyter-widgets/base",
            "_view_module_version": "1.2.0",
            "_view_name": "StyleView",
            "bar_color": null,
            "description_width": ""
          }
        },
        "bd3a9b76236b4851b6179084fab5f8b7": {
          "model_module": "@jupyter-widgets/base",
          "model_name": "LayoutModel",
          "model_module_version": "1.2.0",
          "state": {
            "_model_module": "@jupyter-widgets/base",
            "_model_module_version": "1.2.0",
            "_model_name": "LayoutModel",
            "_view_count": null,
            "_view_module": "@jupyter-widgets/base",
            "_view_module_version": "1.2.0",
            "_view_name": "LayoutView",
            "align_content": null,
            "align_items": null,
            "align_self": null,
            "border": null,
            "bottom": null,
            "display": null,
            "flex": null,
            "flex_flow": null,
            "grid_area": null,
            "grid_auto_columns": null,
            "grid_auto_flow": null,
            "grid_auto_rows": null,
            "grid_column": null,
            "grid_gap": null,
            "grid_row": null,
            "grid_template_areas": null,
            "grid_template_columns": null,
            "grid_template_rows": null,
            "height": null,
            "justify_content": null,
            "justify_items": null,
            "left": null,
            "margin": null,
            "max_height": null,
            "max_width": null,
            "min_height": null,
            "min_width": null,
            "object_fit": null,
            "object_position": null,
            "order": null,
            "overflow": null,
            "overflow_x": null,
            "overflow_y": null,
            "padding": null,
            "right": null,
            "top": null,
            "visibility": null,
            "width": null
          }
        },
        "41d5fd0fb82f4579890cd78e4595cbe8": {
          "model_module": "@jupyter-widgets/controls",
          "model_name": "DescriptionStyleModel",
          "model_module_version": "1.5.0",
          "state": {
            "_model_module": "@jupyter-widgets/controls",
            "_model_module_version": "1.5.0",
            "_model_name": "DescriptionStyleModel",
            "_view_count": null,
            "_view_module": "@jupyter-widgets/base",
            "_view_module_version": "1.2.0",
            "_view_name": "StyleView",
            "description_width": ""
          }
        }
      }
    }
  },
  "cells": [
    {
      "cell_type": "markdown",
      "metadata": {
        "id": "view-in-github",
        "colab_type": "text"
      },
      "source": [
        "<a href=\"https://colab.research.google.com/github/alex-jk/SWB-GVCEH/blob/main/models/relevance_model/Relevance_Model_Reddit.ipynb\" target=\"_parent\"><img src=\"https://colab.research.google.com/assets/colab-badge.svg\" alt=\"Open In Colab\"/></a>"
      ]
    },
    {
      "cell_type": "code",
      "execution_count": 82,
      "metadata": {
        "colab": {
          "base_uri": "https://localhost:8080/"
        },
        "id": "KfT3xHr4Euqq",
        "outputId": "95377fcc-ee19-4fa5-bf78-6e2c440f173a"
      },
      "outputs": [
        {
          "output_type": "stream",
          "name": "stdout",
          "text": [
            "Drive already mounted at /content/drive; to attempt to forcibly remount, call drive.mount(\"/content/drive\", force_remount=True).\n"
          ]
        }
      ],
      "source": [
        "from google.colab import drive\n",
        "drive.mount('/content/drive')"
      ]
    },
    {
      "cell_type": "code",
      "source": [
        "import pandas as pd\n",
        "import numpy as np\n",
        "from sklearn.metrics import *\n",
        "import os"
      ],
      "metadata": {
        "id": "mpNdU6QRGmtv"
      },
      "execution_count": 83,
      "outputs": []
    },
    {
      "cell_type": "code",
      "source": [
        "# Base URL for raw content in the GitHub repository\n",
        "base_url = 'https://raw.githubusercontent.com/alex-jk/SWB-GVCEH/main/models/relevance_model/'\n",
        "\n",
        "# Correctly encode the file names by replacing spaces with '%20'\n",
        "csv_file1 = 'GVCEH%20Milestone%202%20Labelling%201%20-%20RawData.csv'\n",
        "csv_file2 = 'GVCEH%20Milestone%202%20Labelling%202%20-%20RawData.csv'\n",
        "\n",
        "# Read the CSV files from GitHub\n",
        "df1 = pd.read_csv(base_url + csv_file1, usecols=['text', 'Relevant to Victoria', 'Relevant to Homelessness'])\n",
        "df2 = pd.read_csv(base_url + csv_file2, usecols=['text', 'Relevant to Victoria', 'Relevant to Homelessness'])\n",
        "\n",
        "# Rename columns for convenience\n",
        "df1 = df1.rename(columns={\"Relevant to Victoria\": \"vic\", \"Relevant to Homelessness\": \"hl\"})\n",
        "df2 = df2.rename(columns={\"Relevant to Victoria\": \"vic\", \"Relevant to Homelessness\": \"hl\"})\n",
        "\n",
        "# Display the first few rows of the DataFrame\n",
        "print(df1.columns)\n",
        "print(df1.head())"
      ],
      "metadata": {
        "colab": {
          "base_uri": "https://localhost:8080/"
        },
        "id": "VNpz9QPFGrxK",
        "outputId": "5cf2ef61-63d6-49f1-9d10-f2562a84bea6"
      },
      "execution_count": 84,
      "outputs": [
        {
          "output_type": "stream",
          "name": "stdout",
          "text": [
            "Index(['vic', 'hl', 'text'], dtype='object')\n",
            "   vic  hl                                               text\n",
            "0  Yes  No  @AnnaGreenwoodL1 @saanich Dawson Heights Housi...\n",
            "1   No  No  It's Election Day and the polls are now open u...\n",
            "2   No  No  Sidney Bulwer Michaelia Roger #彩票 Bblythe Camp...\n",
            "3   No  No  Me telling my parents I’m gonna spit on this o...\n",
            "4   No  No  WRD Director Joy Langford shared water conserv...\n"
          ]
        }
      ]
    },
    {
      "cell_type": "code",
      "source": [
        "from transformers import AutoModel\n",
        "\n",
        "# Load the model\n",
        "model = AutoModel.from_pretrained(\"sheilaflood/gvceh-setfit-rel-model2\")\n",
        "\n",
        "# Check the configuration of the model\n",
        "config = model.config\n",
        "\n",
        "# Check the state dictionary (weights) of the model\n",
        "state_dict = model.state_dict()"
      ],
      "metadata": {
        "id": "jeSL6WwRZsdj"
      },
      "execution_count": 85,
      "outputs": []
    },
    {
      "cell_type": "code",
      "source": [
        "# Print the configuration of the model\n",
        "print(model.config)\n",
        "\n",
        "# For example, to print the weights of the first transformer layer\n",
        "print(state_dict['encoder.layer.0.attention.self.query.weight'])"
      ],
      "metadata": {
        "colab": {
          "base_uri": "https://localhost:8080/"
        },
        "id": "wJ0yd6GXaaER",
        "outputId": "a99d5add-be5c-4d83-db87-ecc4203a3e88"
      },
      "execution_count": 86,
      "outputs": [
        {
          "output_type": "stream",
          "name": "stdout",
          "text": [
            "RobertaConfig {\n",
            "  \"_name_or_path\": \"sheilaflood/gvceh-setfit-rel-model2\",\n",
            "  \"architectures\": [\n",
            "    \"RobertaModel\"\n",
            "  ],\n",
            "  \"attention_probs_dropout_prob\": 0.1,\n",
            "  \"bos_token_id\": 0,\n",
            "  \"classifier_dropout\": null,\n",
            "  \"eos_token_id\": 2,\n",
            "  \"gradient_checkpointing\": false,\n",
            "  \"hidden_act\": \"gelu\",\n",
            "  \"hidden_dropout_prob\": 0.1,\n",
            "  \"hidden_size\": 768,\n",
            "  \"initializer_range\": 0.02,\n",
            "  \"intermediate_size\": 3072,\n",
            "  \"layer_norm_eps\": 1e-05,\n",
            "  \"max_position_embeddings\": 514,\n",
            "  \"model_type\": \"roberta\",\n",
            "  \"num_attention_heads\": 12,\n",
            "  \"num_hidden_layers\": 12,\n",
            "  \"pad_token_id\": 1,\n",
            "  \"position_embedding_type\": \"absolute\",\n",
            "  \"torch_dtype\": \"float32\",\n",
            "  \"transformers_version\": \"4.35.2\",\n",
            "  \"type_vocab_size\": 1,\n",
            "  \"use_cache\": true,\n",
            "  \"vocab_size\": 50265\n",
            "}\n",
            "\n",
            "tensor([[ 0.0748, -0.0012, -0.0722,  ...,  0.1540,  0.0737, -0.1073],\n",
            "        [-0.0733,  0.2006,  0.1053,  ...,  0.0542,  0.0490,  0.1169],\n",
            "        [ 0.1180,  0.0596, -0.0387,  ..., -0.0220, -0.0336,  0.1252],\n",
            "        ...,\n",
            "        [-0.1779,  0.0062, -0.0507,  ..., -0.0393,  0.0747, -0.0657],\n",
            "        [-0.2998,  0.0610,  0.0804,  ...,  0.0567, -0.0684,  0.0148],\n",
            "        [-0.1097, -0.0660,  0.1209,  ..., -0.2154,  0.0155, -0.0357]])\n"
          ]
        }
      ]
    },
    {
      "cell_type": "code",
      "source": [
        "base_url = 'https://raw.githubusercontent.com/alex-jk/SWB-GVCEH/main/data/processed/twitter/github_actions/'\n",
        "csv_file1 = 'GVCEH-tweets-combined_2022-04-03.csv'\n",
        "df1 = pd.read_csv(base_url + csv_file1)\n",
        "\n",
        "print(df1.columns)\n",
        "print(df1.shape)\n",
        "print(df1.head(15))"
      ],
      "metadata": {
        "colab": {
          "base_uri": "https://localhost:8080/"
        },
        "id": "Cs130_N2dRj5",
        "outputId": "1ec89940-32d6-46cd-a729-8a918855fb9b"
      },
      "execution_count": 87,
      "outputs": [
        {
          "output_type": "stream",
          "name": "stdout",
          "text": [
            "Index(['Unnamed: 0', 'text', 'scrape_time', 'tweet_id', 'created_at',\n",
            "       'reply_count', 'quote_count', 'like_count', 'retweet_count',\n",
            "       'geo_full_name', 'geo_id', 'username', 'num_followers',\n",
            "       'search_keywords', 'search_neighbourhood', 'sentiment', 'score'],\n",
            "      dtype='object')\n",
            "(8885, 17)\n",
            "    Unnamed: 0                                               text  \\\n",
            "0           23  @RogersCrispin @JinnealRobenko @Adam_Stirling ...   \n",
            "1           24  @citizens_vicbc As opposed to only having mult...   \n",
            "2           31  It's great to see Saanich Council taking actio...   \n",
            "3           32  @spaze_cadet @CStrable @chrislhayes Because of...   \n",
            "4           35  Ex-@BCLegislature Speaker Darryl Plecas reacts...   \n",
            "5           37  @KristaLoughton @CityOfVictoria Do you think t...   \n",
            "6           38  @GoVern2018 Hi Vernon. I assume you seen Victo...   \n",
            "7           40  Saanich homeowners won't need council approval...   \n",
            "8           45  RT @VicBuilders: @tim3048 @TristinHopper Same ...   \n",
            "9           46  @tim3048 @TristinHopper Same for building perm...   \n",
            "10          49  Brian O’Donnell from the Homeownership Bureau ...   \n",
            "11          59  She also helped to promote the Mentor/Apprenti...   \n",
            "12          62  On behalf of the Victoria Foundation board, ho...   \n",
            "13          63  She was an active volunteer for many other org...   \n",
            "14          64  We are sad to learn of the passing of Fiona Ma...   \n",
            "\n",
            "                   scrape_time             tweet_id  \\\n",
            "0   2022-07-13 14:35:48.363408  1547091087562399744   \n",
            "1   2022-07-13 14:35:54.472304  1546966233739698176   \n",
            "2   2022-07-13 14:37:26.139494  1547258750267863040   \n",
            "3   2022-07-13 14:37:26.139494  1547248807384981504   \n",
            "4   2022-07-13 14:37:26.139494  1547073298382479360   \n",
            "5   2022-07-13 14:37:26.139494  1547049561230700544   \n",
            "6   2022-07-13 14:37:26.139494  1547048644074819584   \n",
            "7   2022-07-13 14:37:26.139494  1547036775016800256   \n",
            "8   2022-07-13 14:37:26.222325  1546989535497797632   \n",
            "9   2022-07-13 14:37:26.222325  1546981645911072768   \n",
            "10  2022-07-13 14:37:26.222325  1546946487313207296   \n",
            "11  2022-07-13 14:38:16.631770  1547313735227699200   \n",
            "12  2022-07-13 14:38:16.631770  1547288213621837824   \n",
            "13  2022-07-13 14:38:16.631770  1547288102627975168   \n",
            "14  2022-07-13 14:38:16.631770  1547288014891585536   \n",
            "\n",
            "                   created_at  reply_count  quote_count  like_count  \\\n",
            "0   2022-07-13 05:30:33+00:00            1            0           0   \n",
            "1   2022-07-12 21:14:26+00:00            0            0           1   \n",
            "2   2022-07-13 16:36:47+00:00            1            0           5   \n",
            "3   2022-07-13 15:57:16+00:00            0            0           0   \n",
            "4   2022-07-13 04:19:52+00:00            1            0           3   \n",
            "5   2022-07-13 02:45:32+00:00            1            0           0   \n",
            "6   2022-07-13 02:41:54+00:00            1            0           2   \n",
            "7   2022-07-13 01:54:44+00:00            0            0           2   \n",
            "8   2022-07-12 22:47:01+00:00            0            0           0   \n",
            "9   2022-07-12 22:15:40+00:00            0            0           0   \n",
            "10  2022-07-12 19:55:58+00:00            1            0           0   \n",
            "11  2022-07-13 20:15:16+00:00            1            0           0   \n",
            "12  2022-07-13 18:33:52+00:00            0            0           1   \n",
            "13  2022-07-13 18:33:25+00:00            1            0           1   \n",
            "14  2022-07-13 18:33:04+00:00            1            1           1   \n",
            "\n",
            "    retweet_count               geo_full_name            geo_id  \\\n",
            "0               0                         NaN               NaN   \n",
            "1               0                         NaN               NaN   \n",
            "2               0                         NaN               NaN   \n",
            "3               0                         NaN               NaN   \n",
            "4               2                         NaN               NaN   \n",
            "5               0  Victoria, British Columbia  4fdbcad8c3ed7790   \n",
            "6               0                         NaN               NaN   \n",
            "7               1                         NaN               NaN   \n",
            "8               0                         NaN               NaN   \n",
            "9               0                         NaN               NaN   \n",
            "10              0                         NaN               NaN   \n",
            "11              0                         NaN               NaN   \n",
            "12              0                         NaN               NaN   \n",
            "13              0                         NaN               NaN   \n",
            "14              0                         NaN               NaN   \n",
            "\n",
            "           username  num_followers  \\\n",
            "0     JohnsonStBRDG            482   \n",
            "1     bot_bites_bob            165   \n",
            "2     BasilLangevin            553   \n",
            "3      ssfb85263085             21   \n",
            "4    theBreakerNews           5915   \n",
            "5        ja10663725              0   \n",
            "6        krogher_77            193   \n",
            "7        JackieNgai           1446   \n",
            "8     VerandaBlonde             41   \n",
            "9        aryssadocs             10   \n",
            "10  TheBackPackPro1            774   \n",
            "11   KristaLoughton           1781   \n",
            "12    WBAFoundation          13113   \n",
            "13       HelpTheVic            410   \n",
            "14        iyesf_org             19   \n",
            "\n",
            "                                      search_keywords  \\\n",
            "0   (langford OR victoria OR fairfield-gonzales OR...   \n",
            "1   (langford OR victoria OR fairfield-gonzales OR...   \n",
            "2   (saanich OR uplands OR quadra village OR centr...   \n",
            "3   (saanich OR uplands OR quadra village OR centr...   \n",
            "4   (saanich OR uplands OR quadra village OR centr...   \n",
            "5   (saanich OR uplands OR quadra village OR centr...   \n",
            "6   (saanich OR uplands OR quadra village OR centr...   \n",
            "7   (saanich OR uplands OR quadra village OR centr...   \n",
            "8   (saanich OR uplands OR quadra village OR centr...   \n",
            "9   (saanich OR uplands OR quadra village OR centr...   \n",
            "10  (saanich OR uplands OR quadra village OR centr...   \n",
            "11  Victoria (aceh OR city of langford OR greater ...   \n",
            "12  Victoria (aceh OR city of langford OR greater ...   \n",
            "13  Victoria (aceh OR city of langford OR greater ...   \n",
            "14  Victoria (aceh OR city of langford OR greater ...   \n",
            "\n",
            "                                 search_neighbourhood sentiment  score  \n",
            "0   langford OR victoria OR fairfield-gonzales OR ...   Neutral      0  \n",
            "1   langford OR victoria OR fairfield-gonzales OR ...   Neutral      0  \n",
            "2   saanich OR uplands OR quadra village OR centra...  Positive      0  \n",
            "3   saanich OR uplands OR quadra village OR centra...   Neutral      0  \n",
            "4   saanich OR uplands OR quadra village OR centra...   Neutral      0  \n",
            "5   saanich OR uplands OR quadra village OR centra...  Negative      0  \n",
            "6   saanich OR uplands OR quadra village OR centra...   Neutral      0  \n",
            "7   saanich OR uplands OR quadra village OR centra...   Neutral      0  \n",
            "8   saanich OR uplands OR quadra village OR centra...   Neutral      0  \n",
            "9   saanich OR uplands OR quadra village OR centra...   Neutral      0  \n",
            "10  saanich OR uplands OR quadra village OR centra...   Neutral      0  \n",
            "11                                           Victoria  Positive      0  \n",
            "12                                           Victoria  Positive      0  \n",
            "13                                           Victoria   Neutral      0  \n",
            "14                                           Victoria  Positive      0  \n"
          ]
        }
      ]
    },
    {
      "cell_type": "code",
      "source": [
        "print(df1.text[0])"
      ],
      "metadata": {
        "colab": {
          "base_uri": "https://localhost:8080/"
        },
        "id": "Ss1Ay7KyhScJ",
        "outputId": "44044382-4726-4518-b2c8-99a49491161c"
      },
      "execution_count": 88,
      "outputs": [
        {
          "output_type": "stream",
          "name": "stdout",
          "text": [
            "@RogersCrispin @JinnealRobenko @Adam_Stirling @timescolonist Sure and not cancelling affordable housing projects in the 80’s, not inducing urban sprawl in Langford, and prioritizing smart urban density instead of doing Gordon Head all could have been better… but we have what we have and have to find a way forward given the circumstance.\n"
          ]
        }
      ]
    },
    {
      "cell_type": "code",
      "source": [
        "!pip install setfit"
      ],
      "metadata": {
        "colab": {
          "base_uri": "https://localhost:8080/"
        },
        "id": "2dsQ-gLQsUql",
        "outputId": "83c3c679-12b2-4dfa-e9a3-f2475b2d5ffb"
      },
      "execution_count": 89,
      "outputs": [
        {
          "output_type": "stream",
          "name": "stdout",
          "text": [
            "Requirement already satisfied: setfit in /usr/local/lib/python3.10/dist-packages (0.7.0)\n",
            "Requirement already satisfied: datasets>=2.3.0 in /usr/local/lib/python3.10/dist-packages (from setfit) (2.15.0)\n",
            "Requirement already satisfied: sentence-transformers>=2.2.1 in /usr/local/lib/python3.10/dist-packages (from setfit) (2.2.2)\n",
            "Requirement already satisfied: evaluate>=0.3.0 in /usr/local/lib/python3.10/dist-packages (from setfit) (0.4.1)\n",
            "Requirement already satisfied: numpy>=1.17 in /usr/local/lib/python3.10/dist-packages (from datasets>=2.3.0->setfit) (1.23.5)\n",
            "Requirement already satisfied: pyarrow>=8.0.0 in /usr/local/lib/python3.10/dist-packages (from datasets>=2.3.0->setfit) (9.0.0)\n",
            "Requirement already satisfied: pyarrow-hotfix in /usr/local/lib/python3.10/dist-packages (from datasets>=2.3.0->setfit) (0.6)\n",
            "Requirement already satisfied: dill<0.3.8,>=0.3.0 in /usr/local/lib/python3.10/dist-packages (from datasets>=2.3.0->setfit) (0.3.7)\n",
            "Requirement already satisfied: pandas in /usr/local/lib/python3.10/dist-packages (from datasets>=2.3.0->setfit) (1.5.3)\n",
            "Requirement already satisfied: requests>=2.19.0 in /usr/local/lib/python3.10/dist-packages (from datasets>=2.3.0->setfit) (2.31.0)\n",
            "Requirement already satisfied: tqdm>=4.62.1 in /usr/local/lib/python3.10/dist-packages (from datasets>=2.3.0->setfit) (4.66.1)\n",
            "Requirement already satisfied: xxhash in /usr/local/lib/python3.10/dist-packages (from datasets>=2.3.0->setfit) (3.4.1)\n",
            "Requirement already satisfied: multiprocess in /usr/local/lib/python3.10/dist-packages (from datasets>=2.3.0->setfit) (0.70.15)\n",
            "Requirement already satisfied: fsspec[http]<=2023.10.0,>=2023.1.0 in /usr/local/lib/python3.10/dist-packages (from datasets>=2.3.0->setfit) (2023.6.0)\n",
            "Requirement already satisfied: aiohttp in /usr/local/lib/python3.10/dist-packages (from datasets>=2.3.0->setfit) (3.8.6)\n",
            "Requirement already satisfied: huggingface-hub>=0.18.0 in /usr/local/lib/python3.10/dist-packages (from datasets>=2.3.0->setfit) (0.19.4)\n",
            "Requirement already satisfied: packaging in /usr/local/lib/python3.10/dist-packages (from datasets>=2.3.0->setfit) (23.2)\n",
            "Requirement already satisfied: pyyaml>=5.1 in /usr/local/lib/python3.10/dist-packages (from datasets>=2.3.0->setfit) (6.0.1)\n",
            "Requirement already satisfied: responses<0.19 in /usr/local/lib/python3.10/dist-packages (from evaluate>=0.3.0->setfit) (0.18.0)\n",
            "Requirement already satisfied: transformers<5.0.0,>=4.6.0 in /usr/local/lib/python3.10/dist-packages (from sentence-transformers>=2.2.1->setfit) (4.35.2)\n",
            "Requirement already satisfied: torch>=1.6.0 in /usr/local/lib/python3.10/dist-packages (from sentence-transformers>=2.2.1->setfit) (2.1.0+cu118)\n",
            "Requirement already satisfied: torchvision in /usr/local/lib/python3.10/dist-packages (from sentence-transformers>=2.2.1->setfit) (0.16.0+cu118)\n",
            "Requirement already satisfied: scikit-learn in /usr/local/lib/python3.10/dist-packages (from sentence-transformers>=2.2.1->setfit) (1.2.2)\n",
            "Requirement already satisfied: scipy in /usr/local/lib/python3.10/dist-packages (from sentence-transformers>=2.2.1->setfit) (1.11.3)\n",
            "Requirement already satisfied: nltk in /usr/local/lib/python3.10/dist-packages (from sentence-transformers>=2.2.1->setfit) (3.8.1)\n",
            "Requirement already satisfied: sentencepiece in /usr/local/lib/python3.10/dist-packages (from sentence-transformers>=2.2.1->setfit) (0.1.99)\n",
            "Requirement already satisfied: attrs>=17.3.0 in /usr/local/lib/python3.10/dist-packages (from aiohttp->datasets>=2.3.0->setfit) (23.1.0)\n",
            "Requirement already satisfied: charset-normalizer<4.0,>=2.0 in /usr/local/lib/python3.10/dist-packages (from aiohttp->datasets>=2.3.0->setfit) (3.3.2)\n",
            "Requirement already satisfied: multidict<7.0,>=4.5 in /usr/local/lib/python3.10/dist-packages (from aiohttp->datasets>=2.3.0->setfit) (6.0.4)\n",
            "Requirement already satisfied: async-timeout<5.0,>=4.0.0a3 in /usr/local/lib/python3.10/dist-packages (from aiohttp->datasets>=2.3.0->setfit) (4.0.3)\n",
            "Requirement already satisfied: yarl<2.0,>=1.0 in /usr/local/lib/python3.10/dist-packages (from aiohttp->datasets>=2.3.0->setfit) (1.9.2)\n",
            "Requirement already satisfied: frozenlist>=1.1.1 in /usr/local/lib/python3.10/dist-packages (from aiohttp->datasets>=2.3.0->setfit) (1.4.0)\n",
            "Requirement already satisfied: aiosignal>=1.1.2 in /usr/local/lib/python3.10/dist-packages (from aiohttp->datasets>=2.3.0->setfit) (1.3.1)\n",
            "Requirement already satisfied: filelock in /usr/local/lib/python3.10/dist-packages (from huggingface-hub>=0.18.0->datasets>=2.3.0->setfit) (3.13.1)\n",
            "Requirement already satisfied: typing-extensions>=3.7.4.3 in /usr/local/lib/python3.10/dist-packages (from huggingface-hub>=0.18.0->datasets>=2.3.0->setfit) (4.5.0)\n",
            "Requirement already satisfied: idna<4,>=2.5 in /usr/local/lib/python3.10/dist-packages (from requests>=2.19.0->datasets>=2.3.0->setfit) (3.4)\n",
            "Requirement already satisfied: urllib3<3,>=1.21.1 in /usr/local/lib/python3.10/dist-packages (from requests>=2.19.0->datasets>=2.3.0->setfit) (2.0.7)\n",
            "Requirement already satisfied: certifi>=2017.4.17 in /usr/local/lib/python3.10/dist-packages (from requests>=2.19.0->datasets>=2.3.0->setfit) (2023.7.22)\n",
            "Requirement already satisfied: sympy in /usr/local/lib/python3.10/dist-packages (from torch>=1.6.0->sentence-transformers>=2.2.1->setfit) (1.12)\n",
            "Requirement already satisfied: networkx in /usr/local/lib/python3.10/dist-packages (from torch>=1.6.0->sentence-transformers>=2.2.1->setfit) (3.2.1)\n",
            "Requirement already satisfied: jinja2 in /usr/local/lib/python3.10/dist-packages (from torch>=1.6.0->sentence-transformers>=2.2.1->setfit) (3.1.2)\n",
            "Requirement already satisfied: triton==2.1.0 in /usr/local/lib/python3.10/dist-packages (from torch>=1.6.0->sentence-transformers>=2.2.1->setfit) (2.1.0)\n",
            "Requirement already satisfied: regex!=2019.12.17 in /usr/local/lib/python3.10/dist-packages (from transformers<5.0.0,>=4.6.0->sentence-transformers>=2.2.1->setfit) (2023.6.3)\n",
            "Requirement already satisfied: tokenizers<0.19,>=0.14 in /usr/local/lib/python3.10/dist-packages (from transformers<5.0.0,>=4.6.0->sentence-transformers>=2.2.1->setfit) (0.15.0)\n",
            "Requirement already satisfied: safetensors>=0.3.1 in /usr/local/lib/python3.10/dist-packages (from transformers<5.0.0,>=4.6.0->sentence-transformers>=2.2.1->setfit) (0.4.0)\n",
            "Requirement already satisfied: click in /usr/local/lib/python3.10/dist-packages (from nltk->sentence-transformers>=2.2.1->setfit) (8.1.7)\n",
            "Requirement already satisfied: joblib in /usr/local/lib/python3.10/dist-packages (from nltk->sentence-transformers>=2.2.1->setfit) (1.3.2)\n",
            "Requirement already satisfied: python-dateutil>=2.8.1 in /usr/local/lib/python3.10/dist-packages (from pandas->datasets>=2.3.0->setfit) (2.8.2)\n",
            "Requirement already satisfied: pytz>=2020.1 in /usr/local/lib/python3.10/dist-packages (from pandas->datasets>=2.3.0->setfit) (2023.3.post1)\n",
            "Requirement already satisfied: threadpoolctl>=2.0.0 in /usr/local/lib/python3.10/dist-packages (from scikit-learn->sentence-transformers>=2.2.1->setfit) (3.2.0)\n",
            "Requirement already satisfied: pillow!=8.3.*,>=5.3.0 in /usr/local/lib/python3.10/dist-packages (from torchvision->sentence-transformers>=2.2.1->setfit) (9.4.0)\n",
            "Requirement already satisfied: six>=1.5 in /usr/local/lib/python3.10/dist-packages (from python-dateutil>=2.8.1->pandas->datasets>=2.3.0->setfit) (1.16.0)\n",
            "Requirement already satisfied: MarkupSafe>=2.0 in /usr/local/lib/python3.10/dist-packages (from jinja2->torch>=1.6.0->sentence-transformers>=2.2.1->setfit) (2.1.3)\n",
            "Requirement already satisfied: mpmath>=0.19 in /usr/local/lib/python3.10/dist-packages (from sympy->torch>=1.6.0->sentence-transformers>=2.2.1->setfit) (1.3.0)\n"
          ]
        }
      ]
    },
    {
      "cell_type": "code",
      "source": [
        "from setfit import SetFitModel\n",
        "\n",
        "# Load the pretrained SetFit model\n",
        "model = SetFitModel.from_pretrained(\"sheilaflood/gvceh-setfit-rel-model2\")\n",
        "\n",
        "# Example text data\n",
        "texts = [\"Example text relevant to homelessness in Victoria.\", \"Irrelevant text about other topics.\"]\n",
        "\n",
        "# Model makes predictions\n",
        "predictions = model(texts)\n",
        "print(predictions)\n",
        "# The predictions would be an array of binary labels, such as [1, 0]"
      ],
      "metadata": {
        "colab": {
          "base_uri": "https://localhost:8080/"
        },
        "id": "qprghE08sGVp",
        "outputId": "19d781e7-8b3c-41c1-ea82-69dda5da2063"
      },
      "execution_count": 90,
      "outputs": [
        {
          "output_type": "stream",
          "name": "stdout",
          "text": [
            "tensor([1, 0])\n"
          ]
        }
      ]
    },
    {
      "cell_type": "code",
      "source": [
        "file_path = '/content/drive/My Drive/SWB-GVCEH/reddit_data_search_terms.csv'  # Update with the path to your CSV file in Google Drive\n",
        "reddit_data_search_df = pd.read_csv(file_path)\n",
        "print(reddit_data_search_df.shape)\n",
        "print(reddit_data_search_df.columns)\n",
        "print(reddit_data_search_df.head(20))"
      ],
      "metadata": {
        "colab": {
          "base_uri": "https://localhost:8080/"
        },
        "id": "yORJrhaTs8Ns",
        "outputId": "528c245d-25ce-4e07-de3e-1ba5f48de4f9"
      },
      "execution_count": 91,
      "outputs": [
        {
          "output_type": "stream",
          "name": "stdout",
          "text": [
            "(152161, 6)\n",
            "Index(['Subreddit', 'Title', 'Text', 'User ID', 'Comment', 'Search Term'], dtype='object')\n",
            "   Subreddit                                              Title  \\\n",
            "0      Sooke                                   Camping in Sooke   \n",
            "1      Sooke                                   Camping in Sooke   \n",
            "2      Sooke                                   Camping in Sooke   \n",
            "3      Sooke                                   Camping in Sooke   \n",
            "4      Sooke  Sooke boy denied $19,000 per month drug for th...   \n",
            "5      Sooke        Are power outages in Sooke a regular thing?   \n",
            "6      Sooke        Are power outages in Sooke a regular thing?   \n",
            "7      Sooke        Are power outages in Sooke a regular thing?   \n",
            "8      Sooke        Are power outages in Sooke a regular thing?   \n",
            "9      Sooke        Are power outages in Sooke a regular thing?   \n",
            "10     Sooke  Help: What’s the best option for housing right...   \n",
            "11     Sooke  Help: What’s the best option for housing right...   \n",
            "12     Sooke  Help: What’s the best option for housing right...   \n",
            "13     Sooke  Sooke Tourism Association: “Time to show off y...   \n",
            "14     Sooke  Cockatoo escaped across from Saseenos. Please ...   \n",
            "15     Sooke  Cockatoo escaped across from Saseenos. Please ...   \n",
            "16     Sooke  Sooke Tourism Association: “Time to show off y...   \n",
            "17     Sooke  Sooke Tourism Association: “Time to show off y...   \n",
            "18     Sooke  Help: What’s the best option for housing right...   \n",
            "19     Sooke  Help: What’s the best option for housing right...   \n",
            "\n",
            "                                                 Text         User ID  \\\n",
            "0   Hi, we’re planning on camping in Sooke on Apri...    VanillaWrong   \n",
            "1   Hi, we’re planning on camping in Sooke on Apri...    VanillaWrong   \n",
            "2   Hi, we’re planning on camping in Sooke on Apri...    VanillaWrong   \n",
            "3   Hi, we’re planning on camping in Sooke on Apri...    VanillaWrong   \n",
            "4                                                 NaN  TrueNorthGreen   \n",
            "5   Greetings, people of Sooke!\\nMy wife and I are...         Pkard82   \n",
            "6   Greetings, people of Sooke!\\nMy wife and I are...         Pkard82   \n",
            "7   Greetings, people of Sooke!\\nMy wife and I are...         Pkard82   \n",
            "8   Greetings, people of Sooke!\\nMy wife and I are...         Pkard82   \n",
            "9   Greetings, people of Sooke!\\nMy wife and I are...         Pkard82   \n",
            "10  Looking for at least a two bedroom, preferably...     redd_planet   \n",
            "11  Looking for at least a two bedroom, preferably...     redd_planet   \n",
            "12  Looking for at least a two bedroom, preferably...     redd_planet   \n",
            "13                                                NaN     AMadcapLass   \n",
            "14  3 days ago my friends cockatoo escaped from he...        babetteq   \n",
            "15  3 days ago my friends cockatoo escaped from he...        babetteq   \n",
            "16                                                NaN     AMadcapLass   \n",
            "17                                                NaN     AMadcapLass   \n",
            "18  Looking for at least a two bedroom, preferably...     redd_planet   \n",
            "19  Looking for at least a two bedroom, preferably...     redd_planet   \n",
            "\n",
            "                                              Comment  \\\n",
            "0   Check on the BC parks website to see if China ...   \n",
            "1   Just a heads up that there is a government man...   \n",
            "2   Check on the BC parks website to see if China ...   \n",
            "3   Just a heads up that there is a government man...   \n",
            "4   there are other treatments for this, i'm just ...   \n",
            "5   Lived here for a year. The power has probably ...   \n",
            "6   It depends where you’re at. In Sooke core, sun...   \n",
            "7   Yes, expect your power to go out several times...   \n",
            "8   Ah that's all good to know! Kinda what I'd exp...   \n",
            "9   Summer it’s rare, winter months it’s very common.   \n",
            "10  About the same options for those of us already...   \n",
            "11                                          [deleted]   \n",
            "12  Its better to buy than rent if you can afford ...   \n",
            "13  Would you post an address and contact phone nu...   \n",
            "14     I'll keep my eyes and ears open; best of luck!   \n",
            "15  Thank you.  Today was first of no sightings. W...   \n",
            "16  Would you post an address and contact phone nu...   \n",
            "17  Would you post an address and contact phone nu...   \n",
            "18  About the same options for those of us already...   \n",
            "19                                          [deleted]   \n",
            "\n",
            "                       Search Term  \n",
            "0                             Camp  \n",
            "1                             Camp  \n",
            "2                          Camping  \n",
            "3                          Camping  \n",
            "4                            Drugs  \n",
            "5                             Home  \n",
            "6                             Home  \n",
            "7                             Home  \n",
            "8                             Home  \n",
            "9                             Home  \n",
            "10                         Housing  \n",
            "11                         Housing  \n",
            "12                         Housing  \n",
            "13                         Housing  \n",
            "14                         Housing  \n",
            "15                         Housing  \n",
            "16         Makola Housing Society   \n",
            "17  Sooke Transition House Society  \n",
            "18  Sooke Transition House Society  \n",
            "19  Sooke Transition House Society  \n"
          ]
        }
      ]
    },
    {
      "cell_type": "code",
      "source": [
        "# Combine 'Title' and 'Text'\n",
        "reddit_data_search_df['TitleText'] = reddit_data_search_df['Title'] + ' ' + reddit_data_search_df['Text']\n",
        "\n",
        "ind = 10\n",
        "select_text = reddit_data_search_df['TitleText'][ind]\n",
        "print(select_text)\n",
        "print(model(select_text))\n",
        "\n",
        "print(reddit_data_search_df['Comment'][ind])"
      ],
      "metadata": {
        "colab": {
          "base_uri": "https://localhost:8080/"
        },
        "id": "b7rEhqtq6xrz",
        "outputId": "388fd18f-7bc2-41fb-a3ab-4bfb9f9187d6"
      },
      "execution_count": 92,
      "outputs": [
        {
          "output_type": "stream",
          "name": "stdout",
          "text": [
            "Help: What’s the best option for housing right now for someone about to move from out of province to Sooke for a job? Looking for at least a two bedroom, preferably a house than a condo. Is it better to rent or buy? Or live somewhere else and commute?\n",
            "tensor(1)\n",
            "About the same options for those of us already living here. Nothing.\n"
          ]
        }
      ]
    },
    {
      "cell_type": "code",
      "source": [
        "unique_title_text_df = (\n",
        "    reddit_data_search_df.groupby(['Subreddit', 'User ID', 'TitleText'])['Search Term']\n",
        "    .agg(lambda x: ', '.join(x.unique()))\n",
        "    .reset_index()\n",
        ")\n",
        "print(unique_title_text_df.shape)\n",
        "\n",
        "num_nan_titletext = unique_title_text_df['TitleText'].isna().sum()\n",
        "print(f\"Number of rows with NA TitleText: {num_nan_titletext}\")\n",
        "\n",
        "print(unique_title_text_df.head(10))"
      ],
      "metadata": {
        "colab": {
          "base_uri": "https://localhost:8080/"
        },
        "id": "XLp25oIREAN8",
        "outputId": "451bfe2a-acab-416a-aa8c-68c814a29893"
      },
      "execution_count": 93,
      "outputs": [
        {
          "output_type": "stream",
          "name": "stdout",
          "text": [
            "(3730, 4)\n",
            "Number of rows with NA TitleText: 0\n",
            "    Subreddit       User ID  \\\n",
            "0       Sooke       Pkard82   \n",
            "1       Sooke  VanillaWrong   \n",
            "2       Sooke      babetteq   \n",
            "3       Sooke   redd_planet   \n",
            "4       Sooke  scoobysmokes   \n",
            "5  VictoriaBC  --citylights   \n",
            "6  VictoriaBC   -Dumblejor-   \n",
            "7  VictoriaBC       -mikew-   \n",
            "8  VictoriaBC       -mikew-   \n",
            "9  VictoriaBC        00Noir   \n",
            "\n",
            "                                           TitleText  \\\n",
            "0  Are power outages in Sooke a regular thing? Gr...   \n",
            "1  Camping in Sooke Hi, we’re planning on camping...   \n",
            "2  Cockatoo escaped across from Saseenos. Please ...   \n",
            "3  Help: What’s the best option for housing right...   \n",
            "4  Are there sexual predator watchdog groups in S...   \n",
            "5  Affordable Internet in Downtown Victoria A fri...   \n",
            "6  Blade Runner 2049 in IMAX on Sept 20th - come ...   \n",
            "7  Best Kim-chi in Victoria? Hey guys,\\n\\nI'm loo...   \n",
            "8  Does anyone in Victoria want some stuff?  (com...   \n",
            "9  Valentines Day 'at home' dinner options? Hi al...   \n",
            "\n",
            "                               Search Term  \n",
            "0                                     Home  \n",
            "1                      Camp, Camping, Tent  \n",
            "2  Housing, Sooke Transition House Society  \n",
            "3  Housing, Sooke Transition House Society  \n",
            "4           Victoria Sexual Assault Centre  \n",
            "5                               Affordable  \n",
            "6        Peers Victoria Resources Society   \n",
            "7       Victoria Native Friendship Centre   \n",
            "8                               Alcoholic   \n",
            "9                                     Home  \n"
          ]
        }
      ]
    },
    {
      "cell_type": "code",
      "source": [
        "# Filter the DataFrame to create two separate DataFrames\n",
        "# One with rows where 'TitleText' is not NaN\n",
        "df_with_text = unique_title_text_df[unique_title_text_df['TitleText'].notna()].reset_index(drop=True)\n",
        "\n",
        "# One with rows where 'TitleText' is NaN\n",
        "df_with_nan = unique_title_text_df[unique_title_text_df['TitleText'].isna()].reset_index(drop=True)\n",
        "\n",
        "# Display the number of rows in each DataFrame\n",
        "print(f\"With text: {len(df_with_text)}, no text: {len(df_with_nan)}\")"
      ],
      "metadata": {
        "colab": {
          "base_uri": "https://localhost:8080/"
        },
        "id": "9pXtz0c7QsmZ",
        "outputId": "a606aaea-eb3c-48fc-8526-5a029d4fe331"
      },
      "execution_count": 94,
      "outputs": [
        {
          "output_type": "stream",
          "name": "stdout",
          "text": [
            "With text: 3730, no text: 0\n"
          ]
        }
      ]
    },
    {
      "cell_type": "code",
      "source": [
        "# Calculate the number of words in each TitleText\n",
        "unique_title_text_df['WordCount'] = unique_title_text_df['TitleText'].apply(lambda x: len(x.split()))\n",
        "\n",
        "# Plot the distribution of word counts\n",
        "plt.figure(figsize=(10, 6))\n",
        "plt.hist(unique_title_text_df['WordCount'], bins=30, color='green', edgecolor='black')\n",
        "plt.title('Distribution of TitleText Word Counts')\n",
        "plt.xlabel('Word Count of TitleText')\n",
        "plt.ylabel('Frequency')\n",
        "plt.grid(True)\n",
        "plt.show()"
      ],
      "metadata": {
        "colab": {
          "base_uri": "https://localhost:8080/",
          "height": 564
        },
        "id": "k-jsnYNGXhSz",
        "outputId": "acd156eb-1539-4313-b243-df1f947dfa85"
      },
      "execution_count": 95,
      "outputs": [
        {
          "output_type": "display_data",
          "data": {
            "text/plain": [
              "<Figure size 1000x600 with 1 Axes>"
            ],
            "image/png": "[encoded data removed]"
          },
          "metadata": {}
        }
      ]
    },
    {
      "cell_type": "code",
      "source": [
        "ind = 19\n",
        "print(df_with_text['Search Term'][ind])\n",
        "print(model(df_with_text['TitleText'][ind]))\n",
        "print(df_with_text['TitleText'][ind])"
      ],
      "metadata": {
        "colab": {
          "base_uri": "https://localhost:8080/"
        },
        "id": "fHI4MmVKp5E6",
        "outputId": "dce9676c-4ef7-4696-b056-c659e1b59252"
      },
      "execution_count": null,
      "outputs": [
        {
          "output_type": "stream",
          "name": "stdout",
          "text": [
            "Low income, Low-income, Peer Housing Support, Peer Housing Support Program\n",
            "tensor(1)\n",
            "BC already has rent-control laws. Maybe it's time for property-tax-control laws too. (From TC: \"Property tax idea from a B.C. senior\") *[Article from the Times Colonist]*\n",
            "\n",
            "**Comment: Property tax idea from a B.C. senior**\n",
            "\n",
            "I am a low-income senior living on payments from the Canada Pension Plan and Old Age Security programs. Every year at this time, I must pay my biggest bill of all, my property taxes.\n",
            "\n",
            "I live in a modest, older bungalow which matches my income and lifestyle.\n",
            "\n",
            "After 33 years, my house assessment has dropped by half, but my lot assessment has leaped from $55,000 to $1.2 million even though the lot has not changed. In other words, almost all of the property tax I struggle to pay is due to speculative inflation.\n",
            "\n",
            "Luckily I, like many of the current flood of retiring baby boomers, qualify for Property Tax Deferment.\n",
            "\n",
            "Property tax deferment is available to B.C. homeowners who are 55 years or older, a surviving spouse, or eligible persons with disabilities and for homeowners who financially support a dependent child.\n",
            "\n",
            "When you defer annual property taxes, the province charges interest on the tax deferment loan. The loan rate is 1.2 per cent for the regular program and 3.2 per cent for the families with children.\n",
            "\n",
            "Deferred taxes and interest are paid when the home is sold or transferred.\n",
            "\n",
            "PTD has kept me out of the clutches of the reverse-mortgage loan sharks.\n",
            "\n",
            "Unfortunately the PTD is just a Band-Aid solution rather than part of any cure to the underlying problems.\n",
            "\n",
            "In California, Proposition 13 has made a difference.\n",
            "\n",
            "A big component to Proposition 13 was the idea that older Californians should not be priced out of their homes through high taxes.\n",
            "\n",
            "Enacted in 1978, it decreased property taxes by assessing values at their 1976 value and restricted annual increases of assessed value of property to an inflation factor, not to be more than two per cent per year. It also prohibited reassessment of a new base year value, except if ownership changed or there had been new construction.\n",
            "\n",
            "There is a built-in fairness to this cure. Why should residents who have paid taxes for 30 or 40 years to keep a town desirable, pay as much current tax as new owners wanting to take advantage of that desirability?\n",
            "\n",
            "Come on B.C., enough already with Band-Aids such as PTD and secondary suites.We need a permanent cure.\n",
            "\n",
            "Steve Bowker describes himself as a “senior” who lives in Oak Bay\n",
            "\n",
            "https://www.timescolonist.com/opinion/op-ed/comment-property-tax-idea-from-a-b-c-senior-1.23843909\n"
          ]
        }
      ]
    },
    {
      "cell_type": "markdown",
      "source": [
        "#### Run relevance model"
      ],
      "metadata": {
        "id": "1KH9L7nFVWV5"
      }
    },
    {
      "cell_type": "code",
      "source": [
        "!pip install tqdm"
      ],
      "metadata": {
        "id": "bHxXjWHdBTQn",
        "outputId": "771655a8-05f1-4792-df9b-da4f48aa2447",
        "colab": {
          "base_uri": "https://localhost:8080/"
        }
      },
      "execution_count": null,
      "outputs": [
        {
          "output_type": "stream",
          "name": "stdout",
          "text": [
            "Requirement already satisfied: tqdm in /usr/local/lib/python3.10/dist-packages (4.66.1)\n"
          ]
        }
      ]
    },
    {
      "cell_type": "code",
      "source": [
        "from tqdm.notebook import tqdm\n",
        "\n",
        "# Function to apply the model to each row\n",
        "def predict_relevance(text):\n",
        "    # The model might expect a list of texts, adjust accordingly\n",
        "    prediction = model([text])[0].numpy()\n",
        "    return prediction\n",
        "\n",
        "print(predict_relevance('Unfortunately the PTD is just a Band-Aid solution rather than part of any cure to the underlying problems.'))\n",
        "\n",
        "# Apply the model to the 'TitleText' column with a progress bar\n",
        "tqdm.pandas(desc=\"Predicting Relevance\")\n",
        "df_with_text['RelevancePrediction'] = df_with_text['TitleText'].progress_apply(predict_relevance)\n",
        "\n",
        "# Display the DataFrame with predictions\n",
        "print(df_with_text[['TitleText', 'RelevancePrediction']].head())"
      ],
      "metadata": {
        "colab": {
          "base_uri": "https://localhost:8080/",
          "height": 177,
          "referenced_widgets": [
            "49f8fc1a757c4cc39a63f1cb25d5930a",
            "003e7b0c42c94d9887ec16c836655e9c",
            "ebbd3cba625e4bb4847f5223aff0db7e",
            "00ad4021096a4019a14fd32299d161fa",
            "69744ecbbcef4728b905dea074d5fadd",
            "5f09dad1a31d44f5bfd5418010bed2ab",
            "5c80060a67ad44e7b9fc4c3987dc3dd3",
            "a85c333dc39149438e2fe726ad587990",
            "e3eb10550cef4bb2a58cdd2e02128d43",
            "bd3a9b76236b4851b6179084fab5f8b7",
            "41d5fd0fb82f4579890cd78e4595cbe8"
          ]
        },
        "id": "tKnp7VAM5q1P",
        "outputId": "bc7e7f88-c49a-4be9-c901-6488d5317c8b"
      },
      "execution_count": null,
      "outputs": [
        {
          "output_type": "stream",
          "name": "stdout",
          "text": [
            "1\n"
          ]
        },
        {
          "output_type": "display_data",
          "data": {
            "text/plain": [
              "Predicting Relevance:   0%|          | 0/3730 [00:00<?, ?it/s]"
            ],
            "application/vnd.jupyter.widget-view+json": {
              "version_major": 2,
              "version_minor": 0,
              "model_id": "49f8fc1a757c4cc39a63f1cb25d5930a"
            }
          },
          "metadata": {}
        },
        {
          "output_type": "stream",
          "name": "stdout",
          "text": [
            "                                           TitleText  RelevancePrediction\n",
            "0  Are power outages in Sooke a regular thing? Gr...                    0\n",
            "1  Camping in Sooke Hi, we’re planning on camping...                    0\n",
            "2  Cockatoo escaped across from Saseenos. Please ...                    0\n",
            "3  Help: What’s the best option for housing right...                    1\n",
            "4  Are there sexual predator watchdog groups in S...                    0\n"
          ]
        }
      ]
    },
    {
      "cell_type": "code",
      "source": [
        "relevance_counts = df_with_text['RelevancePrediction'].value_counts()\n",
        "\n",
        "print(relevance_counts)"
      ],
      "metadata": {
        "id": "y1KEazfOKq_m",
        "outputId": "935f50a8-72ff-4a1b-c302-91e1eda51cd4",
        "colab": {
          "base_uri": "https://localhost:8080/"
        }
      },
      "execution_count": null,
      "outputs": [
        {
          "output_type": "stream",
          "name": "stdout",
          "text": [
            "0    2639\n",
            "1    1091\n",
            "Name: RelevancePrediction, dtype: int64\n"
          ]
        }
      ]
    },
    {
      "cell_type": "code",
      "source": [
        "df_with_text.to_csv('df_with_text.csv', index=False)\n",
        "!apt-get install git\n",
        "\n",
        "!git config --global user.name \"alex-jk\"\n",
        "!git config --global user.email \"alex.joukova@gmail.com\"\n",
        "#!git clone https://github.com/alex-jk/SWB-GVCEH.git\n",
        "%cd SWB-GVCEH\n"
      ],
      "metadata": {
        "id": "mEeXEXuoLg3s",
        "outputId": "dcc3da52-6a73-4cbc-82bb-03135dcec170",
        "colab": {
          "base_uri": "https://localhost:8080/"
        }
      },
      "execution_count": null,
      "outputs": [
        {
          "output_type": "stream",
          "name": "stdout",
          "text": [
            "Reading package lists... Done\n",
            "Building dependency tree... Done\n",
            "Reading state information... Done\n",
            "git is already the newest version (1:2.34.1-1ubuntu1.10).\n",
            "0 upgraded, 0 newly installed, 0 to remove and 10 not upgraded.\n",
            "Cloning into 'SWB-GVCEH'...\n",
            "remote: Enumerating objects: 4727, done.\u001b[K\n",
            "remote: Counting objects: 100% (4727/4727), done.\u001b[K\n",
            "remote: Compressing objects: 100% (1368/1368), done.\u001b[K\n",
            "remote: Total 4727 (delta 3310), reused 4675 (delta 3282), pack-reused 0\u001b[K\n",
            "Receiving objects: 100% (4727/4727), 105.11 MiB | 17.29 MiB/s, done.\n",
            "Resolving deltas: 100% (3310/3310), done.\n",
            "Updating files: 100% (138/138), done.\n",
            "/content/SWB-GVCEH\n"
          ]
        }
      ]
    },
    {
      "cell_type": "code",
      "source": [
        "!mv ../df_with_text.csv ./models/relevance_model/"
      ],
      "metadata": {
        "id": "dtdsrRneMi1J"
      },
      "execution_count": null,
      "outputs": []
    },
    {
      "cell_type": "code",
      "source": [
        "os.environ['GITHUB_PAT'] = 'xxxxxx'\n",
        "# Set your git remote URL to include the PAT for authentication\n",
        "repo_url = 'https://github.com/alex-jk/SWB-GVCEH.git'  # Replace with your repository's URL\n",
        "pat = os.environ['GITHUB_PAT']\n",
        "repo_url_with_token = repo_url[:8] + pat + \"@\" + repo_url[8:]\n",
        "\n",
        "!git remote set-url origin {repo_url_with_token}\n",
        "\n",
        "# Navigate to the repository directory, add, commit, and push the new CSV file\n",
        "%cd /content/SWB-GVCEH\n",
        "!git add 'models/relevance_model/df_with_text.csv'\n",
        "!git commit -m \"Add df_with_text CSV\"\n",
        "!git push origin main  # Replace 'main' with your branch name if it's different\n",
        "\n",
        "# Reset the remote URL to the original without the PAT\n",
        "!git remote set-url origin {repo_url}\n",
        "print(\"CSV file pushed to GitHub.\")"
      ],
      "metadata": {
        "id": "Bu8q2H0wMtPd",
        "outputId": "bdefcd45-f8f6-4e50-81f8-5b3701b72629",
        "colab": {
          "base_uri": "https://localhost:8080/"
        }
      },
      "execution_count": null,
      "outputs": [
        {
          "output_type": "stream",
          "name": "stdout",
          "text": [
            "/content/SWB-GVCEH\n",
            "On branch main\n",
            "Your branch is ahead of 'origin/main' by 1 commit.\n",
            "  (use \"git push\" to publish your local commits)\n",
            "\n",
            "nothing to commit, working tree clean\n",
            "Enumerating objects: 8, done.\n",
            "Counting objects: 100% (8/8), done.\n",
            "Delta compression using up to 2 threads\n",
            "Compressing objects: 100% (5/5), done.\n",
            "Writing objects: 100% (5/5), 1.45 MiB | 2.45 MiB/s, done.\n",
            "Total 5 (delta 2), reused 0 (delta 0), pack-reused 0\n",
            "remote: Resolving deltas: 100% (2/2), completed with 2 local objects.\u001b[K\n",
            "To https://github.com/alex-jk/SWB-GVCEH.git\n",
            "   98d154d..a86dd52  main -> main\n",
            "CSV file pushed to GitHub.\n"
          ]
        }
      ]
    },
    {
      "cell_type": "markdown",
      "source": [
        "#### Load reddit posts with relevance indicator data"
      ],
      "metadata": {
        "id": "aHYR2hB1OnV6"
      }
    },
    {
      "cell_type": "code",
      "source": [
        "# URL of the raw CSV file in the GitHub repository\n",
        "csv_url = 'https://raw.githubusercontent.com/alex-jk/SWB-GVCEH/main/models/relevance_model/df_with_text.csv'\n",
        "\n",
        "# Read the CSV file into a DataFrame\n",
        "df_with_text = pd.read_csv(csv_url)\n",
        "# Display the first few rows of the DataFrame\n",
        "print(df_with_text.head())\n",
        "\n",
        "df_with_text_relevant = df_with_text[df_with_text['RelevancePrediction']==1].copy().reset_index(drop=True)"
      ],
      "metadata": {
        "colab": {
          "base_uri": "https://localhost:8080/"
        },
        "id": "JhAydsz0OmZt",
        "outputId": "1a510a6b-bf7e-499c-da1d-23add505b2c1"
      },
      "execution_count": 79,
      "outputs": [
        {
          "output_type": "stream",
          "name": "stdout",
          "text": [
            "  Subreddit       User ID                                          TitleText  \\\n",
            "0     Sooke       Pkard82  Are power outages in Sooke a regular thing? Gr...   \n",
            "1     Sooke  VanillaWrong  Camping in Sooke Hi, we’re planning on camping...   \n",
            "2     Sooke      babetteq  Cockatoo escaped across from Saseenos. Please ...   \n",
            "3     Sooke   redd_planet  Help: What’s the best option for housing right...   \n",
            "4     Sooke  scoobysmokes  Are there sexual predator watchdog groups in S...   \n",
            "\n",
            "                               Search Term  RelevancePrediction  \n",
            "0                                     Home                    0  \n",
            "1                      Camp, Camping, Tent                    0  \n",
            "2  Housing, Sooke Transition House Society                    0  \n",
            "3  Housing, Sooke Transition House Society                    1  \n",
            "4           Victoria Sexual Assault Centre                    0  \n"
          ]
        }
      ]
    },
    {
      "cell_type": "markdown",
      "source": [
        "#### Check actual text of the posts that were predicted to be relevant"
      ],
      "metadata": {
        "id": "8piaLaQRPFTy"
      }
    },
    {
      "cell_type": "code",
      "source": [
        "ind = 11 # 0 3 4 5; 6? 7? 10?\n",
        "print(df_with_text_relevant['Search Term'][ind])\n",
        "print(df_with_text_relevant['TitleText'][ind])"
      ],
      "metadata": {
        "colab": {
          "base_uri": "https://localhost:8080/"
        },
        "id": "MCGidY_-O95a",
        "outputId": "21d71399-da69-4f5f-f9d0-9efcee13d49b"
      },
      "execution_count": 80,
      "outputs": [
        {
          "output_type": "stream",
          "name": "stdout",
          "text": [
            "Greater Victoria Coalition to End Homelessness \n",
            "Best place to sell used high end clothing in Victoria?? Is Varage Sale still a thing? Is Depop worth it to pay for? Or is FB Marketplace the general consensus these days? \n",
            "\n",
            "I’m literally cleaning out my closet so this won’t necessarily be an ongoing thing but would be nice to get rid of a bunch of nice clothes relatively fast and pocket some cash. Thanks in advanced!\n"
          ]
        }
      ]
    },
    {
      "cell_type": "code",
      "source": [
        "print(reddit_data_search_df[reddit_data_search_df['TitleText']==df_with_text_relevant['TitleText'][ind]].shape)\n",
        "\n",
        "# Retrieve the TitleText for the given index 'ind' from df_with_text_relevant\n",
        "title_text_to_match = df_with_text_relevant['TitleText'][ind]\n",
        "\n",
        "# Filter reddit_data_search_df for rows with matching TitleText\n",
        "matching_comments = reddit_data_search_df[reddit_data_search_df['TitleText'] == title_text_to_match]['Comment']\n",
        "\n",
        "# Print each comment on a new line\n",
        "for comment in matching_comments:\n",
        "    print(comment)\n",
        "    print(\"\\n\")  # Adding a new line for better readability between comments"
      ],
      "metadata": {
        "colab": {
          "base_uri": "https://localhost:8080/",
          "height": 512
        },
        "id": "-6HkIrr_Zzwd",
        "outputId": "805d1763-2984-4562-f5ee-418ea4479b3a"
      },
      "execution_count": 81,
      "outputs": [
        {
          "output_type": "error",
          "ename": "KeyError",
          "evalue": "ignored",
          "traceback": [
            "\u001b[0;31m---------------------------------------------------------------------------\u001b[0m",
            "\u001b[0;31mKeyError\u001b[0m                                  Traceback (most recent call last)",
            "\u001b[0;32m/usr/local/lib/python3.10/dist-packages/pandas/core/indexes/base.py\u001b[0m in \u001b[0;36mget_loc\u001b[0;34m(self, key, method, tolerance)\u001b[0m\n\u001b[1;32m   3801\u001b[0m             \u001b[0;32mtry\u001b[0m\u001b[0;34m:\u001b[0m\u001b[0;34m\u001b[0m\u001b[0;34m\u001b[0m\u001b[0m\n\u001b[0;32m-> 3802\u001b[0;31m                 \u001b[0;32mreturn\u001b[0m \u001b[0mself\u001b[0m\u001b[0;34m.\u001b[0m\u001b[0m_engine\u001b[0m\u001b[0;34m.\u001b[0m\u001b[0mget_loc\u001b[0m\u001b[0;34m(\u001b[0m\u001b[0mcasted_key\u001b[0m\u001b[0;34m)\u001b[0m\u001b[0;34m\u001b[0m\u001b[0;34m\u001b[0m\u001b[0m\n\u001b[0m\u001b[1;32m   3803\u001b[0m             \u001b[0;32mexcept\u001b[0m \u001b[0mKeyError\u001b[0m \u001b[0;32mas\u001b[0m \u001b[0merr\u001b[0m\u001b[0;34m:\u001b[0m\u001b[0;34m\u001b[0m\u001b[0;34m\u001b[0m\u001b[0m\n",
            "\u001b[0;32m/usr/local/lib/python3.10/dist-packages/pandas/_libs/index.pyx\u001b[0m in \u001b[0;36mpandas._libs.index.IndexEngine.get_loc\u001b[0;34m()\u001b[0m\n",
            "\u001b[0;32m/usr/local/lib/python3.10/dist-packages/pandas/_libs/index.pyx\u001b[0m in \u001b[0;36mpandas._libs.index.IndexEngine.get_loc\u001b[0;34m()\u001b[0m\n",
            "\u001b[0;32mpandas/_libs/hashtable_class_helper.pxi\u001b[0m in \u001b[0;36mpandas._libs.hashtable.PyObjectHashTable.get_item\u001b[0;34m()\u001b[0m\n",
            "\u001b[0;32mpandas/_libs/hashtable_class_helper.pxi\u001b[0m in \u001b[0;36mpandas._libs.hashtable.PyObjectHashTable.get_item\u001b[0;34m()\u001b[0m\n",
            "\u001b[0;31mKeyError\u001b[0m: 'TitleText'",
            "\nThe above exception was the direct cause of the following exception:\n",
            "\u001b[0;31mKeyError\u001b[0m                                  Traceback (most recent call last)",
            "\u001b[0;32m<ipython-input-81-281030dfab94>\u001b[0m in \u001b[0;36m<cell line: 1>\u001b[0;34m()\u001b[0m\n\u001b[0;32m----> 1\u001b[0;31m \u001b[0mprint\u001b[0m\u001b[0;34m(\u001b[0m\u001b[0mreddit_data_search_df\u001b[0m\u001b[0;34m[\u001b[0m\u001b[0mreddit_data_search_df\u001b[0m\u001b[0;34m[\u001b[0m\u001b[0;34m'TitleText'\u001b[0m\u001b[0;34m]\u001b[0m\u001b[0;34m==\u001b[0m\u001b[0mdf_with_text_relevant\u001b[0m\u001b[0;34m[\u001b[0m\u001b[0;34m'TitleText'\u001b[0m\u001b[0;34m]\u001b[0m\u001b[0;34m[\u001b[0m\u001b[0mind\u001b[0m\u001b[0;34m]\u001b[0m\u001b[0;34m]\u001b[0m\u001b[0;34m.\u001b[0m\u001b[0mshape\u001b[0m\u001b[0;34m)\u001b[0m\u001b[0;34m\u001b[0m\u001b[0;34m\u001b[0m\u001b[0m\n\u001b[0m\u001b[1;32m      2\u001b[0m \u001b[0;34m\u001b[0m\u001b[0m\n\u001b[1;32m      3\u001b[0m \u001b[0;31m# Retrieve the TitleText for the given index 'ind' from df_with_text_relevant\u001b[0m\u001b[0;34m\u001b[0m\u001b[0;34m\u001b[0m\u001b[0m\n\u001b[1;32m      4\u001b[0m \u001b[0mtitle_text_to_match\u001b[0m \u001b[0;34m=\u001b[0m \u001b[0mdf_with_text_relevant\u001b[0m\u001b[0;34m[\u001b[0m\u001b[0;34m'TitleText'\u001b[0m\u001b[0;34m]\u001b[0m\u001b[0;34m[\u001b[0m\u001b[0mind\u001b[0m\u001b[0;34m]\u001b[0m\u001b[0;34m\u001b[0m\u001b[0;34m\u001b[0m\u001b[0m\n\u001b[1;32m      5\u001b[0m \u001b[0;34m\u001b[0m\u001b[0m\n",
            "\u001b[0;32m/usr/local/lib/python3.10/dist-packages/pandas/core/frame.py\u001b[0m in \u001b[0;36m__getitem__\u001b[0;34m(self, key)\u001b[0m\n\u001b[1;32m   3805\u001b[0m             \u001b[0;32mif\u001b[0m \u001b[0mself\u001b[0m\u001b[0;34m.\u001b[0m\u001b[0mcolumns\u001b[0m\u001b[0;34m.\u001b[0m\u001b[0mnlevels\u001b[0m \u001b[0;34m>\u001b[0m \u001b[0;36m1\u001b[0m\u001b[0;34m:\u001b[0m\u001b[0;34m\u001b[0m\u001b[0;34m\u001b[0m\u001b[0m\n\u001b[1;32m   3806\u001b[0m                 \u001b[0;32mreturn\u001b[0m \u001b[0mself\u001b[0m\u001b[0;34m.\u001b[0m\u001b[0m_getitem_multilevel\u001b[0m\u001b[0;34m(\u001b[0m\u001b[0mkey\u001b[0m\u001b[0;34m)\u001b[0m\u001b[0;34m\u001b[0m\u001b[0;34m\u001b[0m\u001b[0m\n\u001b[0;32m-> 3807\u001b[0;31m             \u001b[0mindexer\u001b[0m \u001b[0;34m=\u001b[0m \u001b[0mself\u001b[0m\u001b[0;34m.\u001b[0m\u001b[0mcolumns\u001b[0m\u001b[0;34m.\u001b[0m\u001b[0mget_loc\u001b[0m\u001b[0;34m(\u001b[0m\u001b[0mkey\u001b[0m\u001b[0;34m)\u001b[0m\u001b[0;34m\u001b[0m\u001b[0;34m\u001b[0m\u001b[0m\n\u001b[0m\u001b[1;32m   3808\u001b[0m             \u001b[0;32mif\u001b[0m \u001b[0mis_integer\u001b[0m\u001b[0;34m(\u001b[0m\u001b[0mindexer\u001b[0m\u001b[0;34m)\u001b[0m\u001b[0;34m:\u001b[0m\u001b[0;34m\u001b[0m\u001b[0;34m\u001b[0m\u001b[0m\n\u001b[1;32m   3809\u001b[0m                 \u001b[0mindexer\u001b[0m \u001b[0;34m=\u001b[0m \u001b[0;34m[\u001b[0m\u001b[0mindexer\u001b[0m\u001b[0;34m]\u001b[0m\u001b[0;34m\u001b[0m\u001b[0;34m\u001b[0m\u001b[0m\n",
            "\u001b[0;32m/usr/local/lib/python3.10/dist-packages/pandas/core/indexes/base.py\u001b[0m in \u001b[0;36mget_loc\u001b[0;34m(self, key, method, tolerance)\u001b[0m\n\u001b[1;32m   3802\u001b[0m                 \u001b[0;32mreturn\u001b[0m \u001b[0mself\u001b[0m\u001b[0;34m.\u001b[0m\u001b[0m_engine\u001b[0m\u001b[0;34m.\u001b[0m\u001b[0mget_loc\u001b[0m\u001b[0;34m(\u001b[0m\u001b[0mcasted_key\u001b[0m\u001b[0;34m)\u001b[0m\u001b[0;34m\u001b[0m\u001b[0;34m\u001b[0m\u001b[0m\n\u001b[1;32m   3803\u001b[0m             \u001b[0;32mexcept\u001b[0m \u001b[0mKeyError\u001b[0m \u001b[0;32mas\u001b[0m \u001b[0merr\u001b[0m\u001b[0;34m:\u001b[0m\u001b[0;34m\u001b[0m\u001b[0;34m\u001b[0m\u001b[0m\n\u001b[0;32m-> 3804\u001b[0;31m                 \u001b[0;32mraise\u001b[0m \u001b[0mKeyError\u001b[0m\u001b[0;34m(\u001b[0m\u001b[0mkey\u001b[0m\u001b[0;34m)\u001b[0m \u001b[0;32mfrom\u001b[0m \u001b[0merr\u001b[0m\u001b[0;34m\u001b[0m\u001b[0;34m\u001b[0m\u001b[0m\n\u001b[0m\u001b[1;32m   3805\u001b[0m             \u001b[0;32mexcept\u001b[0m \u001b[0mTypeError\u001b[0m\u001b[0;34m:\u001b[0m\u001b[0;34m\u001b[0m\u001b[0;34m\u001b[0m\u001b[0m\n\u001b[1;32m   3806\u001b[0m                 \u001b[0;31m# If we have a listlike key, _check_indexing_error will raise\u001b[0m\u001b[0;34m\u001b[0m\u001b[0;34m\u001b[0m\u001b[0m\n",
            "\u001b[0;31mKeyError\u001b[0m: 'TitleText'"
          ]
        }
      ]
    }
  ]
}