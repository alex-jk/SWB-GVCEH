{
  "nbformat": 4,
  "nbformat_minor": 0,
  "metadata": {
    "colab": {
      "provenance": [],
      "authorship_tag": "ABX9TyMCEFb4tNUoYeYZffIS468t",
      "include_colab_link": true
    },
    "kernelspec": {
      "name": "python3",
      "display_name": "Python 3"
    },
    "language_info": {
      "name": "python"
    }
  },
  "cells": [
    {
      "cell_type": "markdown",
      "metadata": {
        "id": "view-in-github",
        "colab_type": "text"
      },
      "source": [
        "<a href=\"https://colab.research.google.com/github/alex-jk/SWB-GVCEH/blob/main/models/relevance_model/Relevance_Model_Reddit_v2.ipynb\" target=\"_parent\"><img src=\"https://colab.research.google.com/assets/colab-badge.svg\" alt=\"Open In Colab\"/></a>"
      ]
    },
    {
      "cell_type": "code",
      "execution_count": 5,
      "metadata": {
        "id": "dKNqfGbtPPjO",
        "colab": {
          "base_uri": "https://localhost:8080/"
        },
        "outputId": "ad01b3eb-572c-47c9-d145-81915a75a6aa"
      },
      "outputs": [
        {
          "output_type": "stream",
          "name": "stdout",
          "text": [
            "Mounted at /content/drive\n"
          ]
        }
      ],
      "source": [
        "from google.colab import drive\n",
        "drive.mount('/content/drive')"
      ]
    },
    {
      "cell_type": "code",
      "source": [
        "import pandas as pd"
      ],
      "metadata": {
        "id": "RNoP4TmNQHwH"
      },
      "execution_count": 2,
      "outputs": []
    },
    {
      "cell_type": "markdown",
      "source": [
        "##### Import reddit datasets"
      ],
      "metadata": {
        "id": "SobUCnlncR3s"
      }
    },
    {
      "cell_type": "code",
      "source": [
        "file_path = '/content/drive/My Drive/SWB-GVCEH/VictoriaBC_data_updated.csv'\n",
        "VictoriaBC_data_nodups = pd.read_csv(file_path)\n",
        "VictoriaBC_data_nodups = VictoriaBC_data_nodups.drop_duplicates().reset_index(drop=True)\n",
        "\n",
        "print(\"\\nVictoria BC data ----------------\")\n",
        "print(VictoriaBC_data_nodups.shape)\n",
        "print(VictoriaBC_data_nodups.columns)\n",
        "print(VictoriaBC_data_nodups.head())\n",
        "\n",
        "Sooke_data_nodups = pd.read_csv('/content/drive/My Drive/SWB-GVCEH/Sooke_data.csv')\n",
        "Sooke_data_nodups = Sooke_data_nodups.drop_duplicates().reset_index(drop=True)\n",
        "\n",
        "print(\"\\nSooke data ----------------\")\n",
        "print(Sooke_data_nodups.shape)\n",
        "print(Sooke_data_nodups.columns)\n",
        "print(Sooke_data_nodups.head())"
      ],
      "metadata": {
        "colab": {
          "base_uri": "https://localhost:8080/"
        },
        "id": "65iKSFNvPp7b",
        "outputId": "49a91588-4209-441d-e344-c2c971266ed5"
      },
      "execution_count": 8,
      "outputs": [
        {
          "output_type": "stream",
          "name": "stdout",
          "text": [
            "\n",
            "Victoria BC data ----------------\n",
            "(8998, 6)\n",
            "Index(['Subreddit', 'Title', 'Text', 'Submission ID', 'User ID',\n",
            "       'Search Term'],\n",
            "      dtype='object')\n",
            "    Subreddit                                              Title  \\\n",
            "0  VictoriaBC  True change around homelessness from the homel...   \n",
            "1  VictoriaBC  New transitional housing facility on Douglas o...   \n",
            "2  VictoriaBC   Where to buy a reasonably priced Christmas tree?   \n",
            "3  VictoriaBC  Looking for a Christmas tree? Please consider ...   \n",
            "4  VictoriaBC                              Free clothing places?   \n",
            "\n",
            "                                                Text Submission ID  \\\n",
            "0  I've started my own organization to expose the...        zen3ao   \n",
            "1                                                NaN        5yah6z   \n",
            "2  Went to the Christmas tree farm today and thou...       17yjdiw   \n",
            "3                                                NaN        7h0e58   \n",
            "4  Hey so long story short I moved here from Sask...       169ywlj   \n",
            "\n",
            "          User ID              Search Term  \n",
            "0   Ill_Kale_4507            #PovertyPimps  \n",
            "1    rednightmare            #PovertyPimps  \n",
            "2       Doomlemur  1upparents anawim house  \n",
            "3  Necrostopheles  1upparents anawim house  \n",
            "4   playertwolol3  1upparents anawim house  \n",
            "\n",
            "Sooke data ----------------\n",
            "(105, 6)\n",
            "Index(['Subreddit', 'Title', 'Text', 'Submission ID', 'User ID',\n",
            "       'Search Term'],\n",
            "      dtype='object')\n",
            "  Subreddit                                              Title  \\\n",
            "0     Sooke  Design Your Own Journal - Vancouver Island Reg...   \n",
            "1     Sooke  Are there sexual predator watchdog groups in S...   \n",
            "2     Sooke                                       Commute info   \n",
            "3     Sooke                                   Camping in Sooke   \n",
            "4     Sooke                               addy Coming to Sooke   \n",
            "\n",
            "                                                Text Submission ID  \\\n",
            "0  Design your own journal for yourself or a jour...        t61vrr   \n",
            "1  My girlfriend was recently traveling on Vancou...        p00u2m   \n",
            "2  Hey guys, not sure how active this sub is, but...        4ti4yn   \n",
            "3  Hi, we’re planning on camping in Sooke on Apri...        m59ist   \n",
            "4  Hi All - addy ( r/addyinvest ) is an online in...        rprnmu   \n",
            "\n",
            "         User ID                            Search Term  \n",
            "0        VIRL_CC  victoriavisitor aids vancouver island  \n",
            "1   scoobysmokes  victoriavisitor aids vancouver island  \n",
            "2  Slappaadabass  victoriavisitor aids vancouver island  \n",
            "3   VanillaWrong                                Camping  \n",
            "4  stephenjagger         the victoria real estate board  \n"
          ]
        }
      ]
    },
    {
      "cell_type": "code",
      "source": [
        "file_url = 'https://drive.google.com/uc?id=1ANE3_UkNi2UGyQpHr8Ujz1QwBNKxmcTl'\n",
        "\n",
        "# Reading the CSV file into a DataFrame\n",
        "additional_reddit_df = pd.read_csv(file_url)\n",
        "additional_reddit_df = additional_reddit_df.drop_duplicates().reset_index(drop=True)\n",
        "additional_reddit_df.rename(columns={'Body': 'Text'}, inplace=True)\n",
        "\n",
        "print(\"\\nAdditional reddit data ----------------\")\n",
        "print(additional_reddit_df.shape)\n",
        "print(additional_reddit_df.columns)\n",
        "print(additional_reddit_df.head())"
      ],
      "metadata": {
        "colab": {
          "base_uri": "https://localhost:8080/"
        },
        "id": "KkBXoorBayFL",
        "outputId": "88dc4d82-72ff-476f-c370-17a939d1b23d"
      },
      "execution_count": 11,
      "outputs": [
        {
          "output_type": "stream",
          "name": "stdout",
          "text": [
            "\n",
            "Additional reddit data ----------------\n",
            "(2057, 4)\n",
            "Index(['Subreddit', 'Title', 'Text', 'Comments'], dtype='object')\n",
            "               Subreddit                                              Title  \\\n",
            "0  OakBayBritishColumbia                            Oak Bay high right now.   \n",
            "1  OakBayBritishColumbia  Food share for Ukrainian refugees on Vancouver...   \n",
            "2  OakBayBritishColumbia     Lost Budgie - Cadboro Bay (Willows Elementary)   \n",
            "3  OakBayBritishColumbia  What are 3 things I must see when visiting Oak...   \n",
            "4  OakBayBritishColumbia  Yes, this is a leaf blower rant, but hear me o...   \n",
            "\n",
            "                                                Text  \\\n",
            "0  Anyone know what the hell is going on at Oak B...   \n",
            "1                                                NaN   \n",
            "2  My friends blue budgie flew out of the house l...   \n",
            "3                                            Thanks!   \n",
            "4  I have a neighbour who uses his leaf blower to...   \n",
            "\n",
            "                                            Comments  \n",
            "0  ['https://www.cheknews.ca/hold-and-secure-orde...  \n",
            "1                                                 []  \n",
            "2                                                 []  \n",
            "3  [\"Here are four things to see in each of the m...  \n",
            "4                                                 []  \n"
          ]
        }
      ]
    },
    {
      "cell_type": "markdown",
      "source": [
        "##### Combine all data into one df"
      ],
      "metadata": {
        "id": "T7tR-mffcNSn"
      }
    },
    {
      "cell_type": "code",
      "source": [
        "# Combining the DataFrames\n",
        "select_cols = ['Subreddit', 'Title', 'Text']\n",
        "combined_df = pd.concat([VictoriaBC_data_nodups[select_cols], Sooke_data_nodups[select_cols], additional_reddit_df[select_cols]], ignore_index=True)\n",
        "\n",
        "# Resetting the index\n",
        "combined_df.reset_index(drop=True, inplace=True)\n",
        "print(\"\\Combined data ----------------\")\n",
        "print(combined_df.shape)\n",
        "print(combined_df.columns)\n",
        "print(combined_df.head())"
      ],
      "metadata": {
        "id": "s1e2KdfycAbz",
        "outputId": "9dd913ec-6f4b-4a04-d72e-9cb231a6988e",
        "colab": {
          "base_uri": "https://localhost:8080/"
        }
      },
      "execution_count": 13,
      "outputs": [
        {
          "output_type": "stream",
          "name": "stdout",
          "text": [
            "\\Combined data ----------------\n",
            "(11160, 3)\n",
            "Index(['Subreddit', 'Title', 'Text'], dtype='object')\n",
            "    Subreddit                                              Title  \\\n",
            "0  VictoriaBC  True change around homelessness from the homel...   \n",
            "1  VictoriaBC  New transitional housing facility on Douglas o...   \n",
            "2  VictoriaBC   Where to buy a reasonably priced Christmas tree?   \n",
            "3  VictoriaBC  Looking for a Christmas tree? Please consider ...   \n",
            "4  VictoriaBC                              Free clothing places?   \n",
            "\n",
            "                                                Text  \n",
            "0  I've started my own organization to expose the...  \n",
            "1                                                NaN  \n",
            "2  Went to the Christmas tree farm today and thou...  \n",
            "3                                                NaN  \n",
            "4  Hey so long story short I moved here from Sask...  \n"
          ]
        }
      ]
    },
    {
      "cell_type": "markdown",
      "source": [
        "##### Load twitter data that was already filtered for relevancy"
      ],
      "metadata": {
        "id": "CD9thJMwieq5"
      }
    },
    {
      "cell_type": "code",
      "source": [],
      "metadata": {
        "id": "2kO4UjOdhuuO"
      },
      "execution_count": null,
      "outputs": []
    }
  ]
}