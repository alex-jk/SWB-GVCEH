{
  "nbformat": 4,
  "nbformat_minor": 0,
  "metadata": {
    "colab": {
      "provenance": [],
      "authorship_tag": "ABX9TyMvS7E+Jry/ZOEs6aWrHwI8",
      "include_colab_link": true
    },
    "kernelspec": {
      "name": "python3",
      "display_name": "Python 3"
    },
    "language_info": {
      "name": "python"
    }
  },
  "cells": [
    {
      "cell_type": "markdown",
      "metadata": {
        "id": "view-in-github",
        "colab_type": "text"
      },
      "source": [
        "<a href=\"https://colab.research.google.com/github/alex-jk/SWB-GVCEH/blob/main/models/relevance_model/Relevance_Model_Reddit_v2.ipynb\" target=\"_parent\"><img src=\"https://colab.research.google.com/assets/colab-badge.svg\" alt=\"Open In Colab\"/></a>"
      ]
    },
    {
      "cell_type": "code",
      "execution_count": 5,
      "metadata": {
        "id": "dKNqfGbtPPjO",
        "outputId": "ad01b3eb-572c-47c9-d145-81915a75a6aa",
        "colab": {
          "base_uri": "https://localhost:8080/"
        }
      },
      "outputs": [
        {
          "output_type": "stream",
          "name": "stdout",
          "text": [
            "Mounted at /content/drive\n"
          ]
        }
      ],
      "source": [
        "from google.colab import drive\n",
        "drive.mount('/content/drive')"
      ]
    },
    {
      "cell_type": "code",
      "source": [
        "import pandas as pd"
      ],
      "metadata": {
        "id": "RNoP4TmNQHwH"
      },
      "execution_count": 2,
      "outputs": []
    },
    {
      "cell_type": "code",
      "source": [
        "file_path = '/content/drive/My Drive/SWB-GVCEH/VictoriaBC_data_updated.csv'\n",
        "VictoriaBC_data_nodups = pd.read_csv(file_path)\n",
        "VictoriaBC_data_nodups = VictoriaBC_data_nodups.drop_duplicates().reset_index(drop=True)\n",
        "\n",
        "print(\"\\nVictoria BC data ----------------\")\n",
        "print(VictoriaBC_data_nodups.shape)\n",
        "print(VictoriaBC_data_nodups.columns)\n",
        "print(VictoriaBC_data_nodups.head())\n",
        "\n",
        "Sooke_data_nodups = pd.read_csv('/content/drive/My Drive/SWB-GVCEH/Sooke_data.csv')\n",
        "Sooke_data_nodups = Sooke_data_nodups.drop_duplicates().reset_index(drop=True)\n",
        "\n",
        "print(\"\\nSooke data ----------------\")\n",
        "print(Sooke_data_nodups.shape)\n",
        "print(Sooke_data_nodups.columns)\n",
        "print(Sooke_data_nodups.head())"
      ],
      "metadata": {
        "id": "65iKSFNvPp7b",
        "outputId": "49a91588-4209-441d-e344-c2c971266ed5",
        "colab": {
          "base_uri": "https://localhost:8080/"
        }
      },
      "execution_count": 8,
      "outputs": [
        {
          "output_type": "stream",
          "name": "stdout",
          "text": [
            "\n",
            "Victoria BC data ----------------\n",
            "(8998, 6)\n",
            "Index(['Subreddit', 'Title', 'Text', 'Submission ID', 'User ID',\n",
            "       'Search Term'],\n",
            "      dtype='object')\n",
            "    Subreddit                                              Title  \\\n",
            "0  VictoriaBC  True change around homelessness from the homel...   \n",
            "1  VictoriaBC  New transitional housing facility on Douglas o...   \n",
            "2  VictoriaBC   Where to buy a reasonably priced Christmas tree?   \n",
            "3  VictoriaBC  Looking for a Christmas tree? Please consider ...   \n",
            "4  VictoriaBC                              Free clothing places?   \n",
            "\n",
            "                                                Text Submission ID  \\\n",
            "0  I've started my own organization to expose the...        zen3ao   \n",
            "1                                                NaN        5yah6z   \n",
            "2  Went to the Christmas tree farm today and thou...       17yjdiw   \n",
            "3                                                NaN        7h0e58   \n",
            "4  Hey so long story short I moved here from Sask...       169ywlj   \n",
            "\n",
            "          User ID              Search Term  \n",
            "0   Ill_Kale_4507            #PovertyPimps  \n",
            "1    rednightmare            #PovertyPimps  \n",
            "2       Doomlemur  1upparents anawim house  \n",
            "3  Necrostopheles  1upparents anawim house  \n",
            "4   playertwolol3  1upparents anawim house  \n",
            "\n",
            "Sooke data ----------------\n",
            "(105, 6)\n",
            "Index(['Subreddit', 'Title', 'Text', 'Submission ID', 'User ID',\n",
            "       'Search Term'],\n",
            "      dtype='object')\n",
            "  Subreddit                                              Title  \\\n",
            "0     Sooke  Design Your Own Journal - Vancouver Island Reg...   \n",
            "1     Sooke  Are there sexual predator watchdog groups in S...   \n",
            "2     Sooke                                       Commute info   \n",
            "3     Sooke                                   Camping in Sooke   \n",
            "4     Sooke                               addy Coming to Sooke   \n",
            "\n",
            "                                                Text Submission ID  \\\n",
            "0  Design your own journal for yourself or a jour...        t61vrr   \n",
            "1  My girlfriend was recently traveling on Vancou...        p00u2m   \n",
            "2  Hey guys, not sure how active this sub is, but...        4ti4yn   \n",
            "3  Hi, we’re planning on camping in Sooke on Apri...        m59ist   \n",
            "4  Hi All - addy ( r/addyinvest ) is an online in...        rprnmu   \n",
            "\n",
            "         User ID                            Search Term  \n",
            "0        VIRL_CC  victoriavisitor aids vancouver island  \n",
            "1   scoobysmokes  victoriavisitor aids vancouver island  \n",
            "2  Slappaadabass  victoriavisitor aids vancouver island  \n",
            "3   VanillaWrong                                Camping  \n",
            "4  stephenjagger         the victoria real estate board  \n"
          ]
        }
      ]
    }
  ]
}